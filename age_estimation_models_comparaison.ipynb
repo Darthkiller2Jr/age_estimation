{
  "cells": [
    {
      "cell_type": "markdown",
      "metadata": {
        "id": "8Gej5fz_1V4w"
      },
      "source": [
        "## Importations"
      ]
    },
    {
      "cell_type": "code",
      "execution_count": null,
      "metadata": {
        "colab": {
          "base_uri": "https://localhost:8080/"
        },
        "id": "GI9RyGVMz48g",
        "outputId": "4dc6d319-ecc9-46f1-8fed-041767b8bed6"
      },
      "outputs": [
        {
          "name": "stdout",
          "output_type": "stream",
          "text": [
            "Requirement already satisfied: better-exceptions in /usr/local/lib/python3.10/dist-packages (from -r /content/drive/MyDrive/EA-age/Project/requirements.txt (line 1)) (0.3.3)\n",
            "Requirement already satisfied: dlib in /usr/local/lib/python3.10/dist-packages (from -r /content/drive/MyDrive/EA-age/Project/requirements.txt (line 2)) (19.24.2)\n",
            "Requirement already satisfied: future in /usr/local/lib/python3.10/dist-packages (from -r /content/drive/MyDrive/EA-age/Project/requirements.txt (line 3)) (0.18.3)\n",
            "Requirement already satisfied: imgaug in /usr/local/lib/python3.10/dist-packages (from -r /content/drive/MyDrive/EA-age/Project/requirements.txt (line 4)) (0.4.0)\n",
            "Requirement already satisfied: numpy in /usr/local/lib/python3.10/dist-packages (from -r /content/drive/MyDrive/EA-age/Project/requirements.txt (line 5)) (1.25.2)\n",
            "Requirement already satisfied: opencv-python in /usr/local/lib/python3.10/dist-packages (from -r /content/drive/MyDrive/EA-age/Project/requirements.txt (line 6)) (4.8.0.76)\n",
            "Requirement already satisfied: pandas in /usr/local/lib/python3.10/dist-packages (from -r /content/drive/MyDrive/EA-age/Project/requirements.txt (line 7)) (1.5.3)\n",
            "Requirement already satisfied: pretrainedmodels in /usr/local/lib/python3.10/dist-packages (from -r /content/drive/MyDrive/EA-age/Project/requirements.txt (line 8)) (0.7.4)\n",
            "Requirement already satisfied: tensorboard in /usr/local/lib/python3.10/dist-packages (from -r /content/drive/MyDrive/EA-age/Project/requirements.txt (line 9)) (2.15.2)\n",
            "Requirement already satisfied: torch in /usr/local/lib/python3.10/dist-packages (from -r /content/drive/MyDrive/EA-age/Project/requirements.txt (line 10)) (2.2.1+cu121)\n",
            "Requirement already satisfied: torchvision in /usr/local/lib/python3.10/dist-packages (from -r /content/drive/MyDrive/EA-age/Project/requirements.txt (line 11)) (0.17.1+cu121)\n",
            "Requirement already satisfied: tqdm in /usr/local/lib/python3.10/dist-packages (from -r /content/drive/MyDrive/EA-age/Project/requirements.txt (line 12)) (4.66.2)\n",
            "Requirement already satisfied: yacs in /usr/local/lib/python3.10/dist-packages (from -r /content/drive/MyDrive/EA-age/Project/requirements.txt (line 13)) (0.1.8)\n",
            "Requirement already satisfied: six in /usr/local/lib/python3.10/dist-packages (from imgaug->-r /content/drive/MyDrive/EA-age/Project/requirements.txt (line 4)) (1.16.0)\n",
            "Requirement already satisfied: scipy in /usr/local/lib/python3.10/dist-packages (from imgaug->-r /content/drive/MyDrive/EA-age/Project/requirements.txt (line 4)) (1.11.4)\n",
            "Requirement already satisfied: Pillow in /usr/local/lib/python3.10/dist-packages (from imgaug->-r /content/drive/MyDrive/EA-age/Project/requirements.txt (line 4)) (9.4.0)\n",
            "Requirement already satisfied: matplotlib in /usr/local/lib/python3.10/dist-packages (from imgaug->-r /content/drive/MyDrive/EA-age/Project/requirements.txt (line 4)) (3.7.1)\n",
            "Requirement already satisfied: scikit-image>=0.14.2 in /usr/local/lib/python3.10/dist-packages (from imgaug->-r /content/drive/MyDrive/EA-age/Project/requirements.txt (line 4)) (0.19.3)\n",
            "Requirement already satisfied: imageio in /usr/local/lib/python3.10/dist-packages (from imgaug->-r /content/drive/MyDrive/EA-age/Project/requirements.txt (line 4)) (2.31.6)\n",
            "Requirement already satisfied: Shapely in /usr/local/lib/python3.10/dist-packages (from imgaug->-r /content/drive/MyDrive/EA-age/Project/requirements.txt (line 4)) (2.0.3)\n",
            "Requirement already satisfied: python-dateutil>=2.8.1 in /usr/local/lib/python3.10/dist-packages (from pandas->-r /content/drive/MyDrive/EA-age/Project/requirements.txt (line 7)) (2.8.2)\n",
            "Requirement already satisfied: pytz>=2020.1 in /usr/local/lib/python3.10/dist-packages (from pandas->-r /content/drive/MyDrive/EA-age/Project/requirements.txt (line 7)) (2023.4)\n",
            "Requirement already satisfied: munch in /usr/local/lib/python3.10/dist-packages (from pretrainedmodels->-r /content/drive/MyDrive/EA-age/Project/requirements.txt (line 8)) (4.0.0)\n",
            "Requirement already satisfied: absl-py>=0.4 in /usr/local/lib/python3.10/dist-packages (from tensorboard->-r /content/drive/MyDrive/EA-age/Project/requirements.txt (line 9)) (1.4.0)\n",
            "Requirement already satisfied: grpcio>=1.48.2 in /usr/local/lib/python3.10/dist-packages (from tensorboard->-r /content/drive/MyDrive/EA-age/Project/requirements.txt (line 9)) (1.62.1)\n",
            "Requirement already satisfied: google-auth<3,>=1.6.3 in /usr/local/lib/python3.10/dist-packages (from tensorboard->-r /content/drive/MyDrive/EA-age/Project/requirements.txt (line 9)) (2.27.0)\n",
            "Requirement already satisfied: google-auth-oauthlib<2,>=0.5 in /usr/local/lib/python3.10/dist-packages (from tensorboard->-r /content/drive/MyDrive/EA-age/Project/requirements.txt (line 9)) (1.2.0)\n",
            "Requirement already satisfied: markdown>=2.6.8 in /usr/local/lib/python3.10/dist-packages (from tensorboard->-r /content/drive/MyDrive/EA-age/Project/requirements.txt (line 9)) (3.5.2)\n",
            "Requirement already satisfied: protobuf!=4.24.0,>=3.19.6 in /usr/local/lib/python3.10/dist-packages (from tensorboard->-r /content/drive/MyDrive/EA-age/Project/requirements.txt (line 9)) (3.20.3)\n",
            "Requirement already satisfied: requests<3,>=2.21.0 in /usr/local/lib/python3.10/dist-packages (from tensorboard->-r /content/drive/MyDrive/EA-age/Project/requirements.txt (line 9)) (2.31.0)\n",
            "Requirement already satisfied: setuptools>=41.0.0 in /usr/local/lib/python3.10/dist-packages (from tensorboard->-r /content/drive/MyDrive/EA-age/Project/requirements.txt (line 9)) (67.7.2)\n",
            "Requirement already satisfied: tensorboard-data-server<0.8.0,>=0.7.0 in /usr/local/lib/python3.10/dist-packages (from tensorboard->-r /content/drive/MyDrive/EA-age/Project/requirements.txt (line 9)) (0.7.2)\n",
            "Requirement already satisfied: werkzeug>=1.0.1 in /usr/local/lib/python3.10/dist-packages (from tensorboard->-r /content/drive/MyDrive/EA-age/Project/requirements.txt (line 9)) (3.0.1)\n",
            "Requirement already satisfied: filelock in /usr/local/lib/python3.10/dist-packages (from torch->-r /content/drive/MyDrive/EA-age/Project/requirements.txt (line 10)) (3.13.1)\n",
            "Requirement already satisfied: typing-extensions>=4.8.0 in /usr/local/lib/python3.10/dist-packages (from torch->-r /content/drive/MyDrive/EA-age/Project/requirements.txt (line 10)) (4.10.0)\n",
            "Requirement already satisfied: sympy in /usr/local/lib/python3.10/dist-packages (from torch->-r /content/drive/MyDrive/EA-age/Project/requirements.txt (line 10)) (1.12)\n",
            "Requirement already satisfied: networkx in /usr/local/lib/python3.10/dist-packages (from torch->-r /content/drive/MyDrive/EA-age/Project/requirements.txt (line 10)) (3.2.1)\n",
            "Requirement already satisfied: jinja2 in /usr/local/lib/python3.10/dist-packages (from torch->-r /content/drive/MyDrive/EA-age/Project/requirements.txt (line 10)) (3.1.3)\n",
            "Requirement already satisfied: fsspec in /usr/local/lib/python3.10/dist-packages (from torch->-r /content/drive/MyDrive/EA-age/Project/requirements.txt (line 10)) (2023.6.0)\n",
            "Requirement already satisfied: nvidia-cuda-nvrtc-cu12==12.1.105 in /usr/local/lib/python3.10/dist-packages (from torch->-r /content/drive/MyDrive/EA-age/Project/requirements.txt (line 10)) (12.1.105)\n",
            "Requirement already satisfied: nvidia-cuda-runtime-cu12==12.1.105 in /usr/local/lib/python3.10/dist-packages (from torch->-r /content/drive/MyDrive/EA-age/Project/requirements.txt (line 10)) (12.1.105)\n",
            "Requirement already satisfied: nvidia-cuda-cupti-cu12==12.1.105 in /usr/local/lib/python3.10/dist-packages (from torch->-r /content/drive/MyDrive/EA-age/Project/requirements.txt (line 10)) (12.1.105)\n",
            "Requirement already satisfied: nvidia-cudnn-cu12==8.9.2.26 in /usr/local/lib/python3.10/dist-packages (from torch->-r /content/drive/MyDrive/EA-age/Project/requirements.txt (line 10)) (8.9.2.26)\n",
            "Requirement already satisfied: nvidia-cublas-cu12==12.1.3.1 in /usr/local/lib/python3.10/dist-packages (from torch->-r /content/drive/MyDrive/EA-age/Project/requirements.txt (line 10)) (12.1.3.1)\n",
            "Requirement already satisfied: nvidia-cufft-cu12==11.0.2.54 in /usr/local/lib/python3.10/dist-packages (from torch->-r /content/drive/MyDrive/EA-age/Project/requirements.txt (line 10)) (11.0.2.54)\n",
            "Requirement already satisfied: nvidia-curand-cu12==10.3.2.106 in /usr/local/lib/python3.10/dist-packages (from torch->-r /content/drive/MyDrive/EA-age/Project/requirements.txt (line 10)) (10.3.2.106)\n",
            "Requirement already satisfied: nvidia-cusolver-cu12==11.4.5.107 in /usr/local/lib/python3.10/dist-packages (from torch->-r /content/drive/MyDrive/EA-age/Project/requirements.txt (line 10)) (11.4.5.107)\n",
            "Requirement already satisfied: nvidia-cusparse-cu12==12.1.0.106 in /usr/local/lib/python3.10/dist-packages (from torch->-r /content/drive/MyDrive/EA-age/Project/requirements.txt (line 10)) (12.1.0.106)\n",
            "Requirement already satisfied: nvidia-nccl-cu12==2.19.3 in /usr/local/lib/python3.10/dist-packages (from torch->-r /content/drive/MyDrive/EA-age/Project/requirements.txt (line 10)) (2.19.3)\n",
            "Requirement already satisfied: nvidia-nvtx-cu12==12.1.105 in /usr/local/lib/python3.10/dist-packages (from torch->-r /content/drive/MyDrive/EA-age/Project/requirements.txt (line 10)) (12.1.105)\n",
            "Requirement already satisfied: triton==2.2.0 in /usr/local/lib/python3.10/dist-packages (from torch->-r /content/drive/MyDrive/EA-age/Project/requirements.txt (line 10)) (2.2.0)\n",
            "Requirement already satisfied: nvidia-nvjitlink-cu12 in /usr/local/lib/python3.10/dist-packages (from nvidia-cusolver-cu12==11.4.5.107->torch->-r /content/drive/MyDrive/EA-age/Project/requirements.txt (line 10)) (12.4.99)\n",
            "Requirement already satisfied: PyYAML in /usr/local/lib/python3.10/dist-packages (from yacs->-r /content/drive/MyDrive/EA-age/Project/requirements.txt (line 13)) (6.0.1)\n",
            "Requirement already satisfied: cachetools<6.0,>=2.0.0 in /usr/local/lib/python3.10/dist-packages (from google-auth<3,>=1.6.3->tensorboard->-r /content/drive/MyDrive/EA-age/Project/requirements.txt (line 9)) (5.3.3)\n",
            "Requirement already satisfied: pyasn1-modules>=0.2.1 in /usr/local/lib/python3.10/dist-packages (from google-auth<3,>=1.6.3->tensorboard->-r /content/drive/MyDrive/EA-age/Project/requirements.txt (line 9)) (0.3.0)\n",
            "Requirement already satisfied: rsa<5,>=3.1.4 in /usr/local/lib/python3.10/dist-packages (from google-auth<3,>=1.6.3->tensorboard->-r /content/drive/MyDrive/EA-age/Project/requirements.txt (line 9)) (4.9)\n",
            "Requirement already satisfied: requests-oauthlib>=0.7.0 in /usr/local/lib/python3.10/dist-packages (from google-auth-oauthlib<2,>=0.5->tensorboard->-r /content/drive/MyDrive/EA-age/Project/requirements.txt (line 9)) (1.4.0)\n",
            "Requirement already satisfied: charset-normalizer<4,>=2 in /usr/local/lib/python3.10/dist-packages (from requests<3,>=2.21.0->tensorboard->-r /content/drive/MyDrive/EA-age/Project/requirements.txt (line 9)) (3.3.2)\n",
            "Requirement already satisfied: idna<4,>=2.5 in /usr/local/lib/python3.10/dist-packages (from requests<3,>=2.21.0->tensorboard->-r /content/drive/MyDrive/EA-age/Project/requirements.txt (line 9)) (3.6)\n",
            "Requirement already satisfied: urllib3<3,>=1.21.1 in /usr/local/lib/python3.10/dist-packages (from requests<3,>=2.21.0->tensorboard->-r /content/drive/MyDrive/EA-age/Project/requirements.txt (line 9)) (2.0.7)\n",
            "Requirement already satisfied: certifi>=2017.4.17 in /usr/local/lib/python3.10/dist-packages (from requests<3,>=2.21.0->tensorboard->-r /content/drive/MyDrive/EA-age/Project/requirements.txt (line 9)) (2024.2.2)\n",
            "Requirement already satisfied: tifffile>=2019.7.26 in /usr/local/lib/python3.10/dist-packages (from scikit-image>=0.14.2->imgaug->-r /content/drive/MyDrive/EA-age/Project/requirements.txt (line 4)) (2024.2.12)\n",
            "Requirement already satisfied: PyWavelets>=1.1.1 in /usr/local/lib/python3.10/dist-packages (from scikit-image>=0.14.2->imgaug->-r /content/drive/MyDrive/EA-age/Project/requirements.txt (line 4)) (1.5.0)\n",
            "Requirement already satisfied: packaging>=20.0 in /usr/local/lib/python3.10/dist-packages (from scikit-image>=0.14.2->imgaug->-r /content/drive/MyDrive/EA-age/Project/requirements.txt (line 4)) (24.0)\n",
            "Requirement already satisfied: MarkupSafe>=2.1.1 in /usr/local/lib/python3.10/dist-packages (from werkzeug>=1.0.1->tensorboard->-r /content/drive/MyDrive/EA-age/Project/requirements.txt (line 9)) (2.1.5)\n",
            "Requirement already satisfied: contourpy>=1.0.1 in /usr/local/lib/python3.10/dist-packages (from matplotlib->imgaug->-r /content/drive/MyDrive/EA-age/Project/requirements.txt (line 4)) (1.2.0)\n",
            "Requirement already satisfied: cycler>=0.10 in /usr/local/lib/python3.10/dist-packages (from matplotlib->imgaug->-r /content/drive/MyDrive/EA-age/Project/requirements.txt (line 4)) (0.12.1)\n",
            "Requirement already satisfied: fonttools>=4.22.0 in /usr/local/lib/python3.10/dist-packages (from matplotlib->imgaug->-r /content/drive/MyDrive/EA-age/Project/requirements.txt (line 4)) (4.49.0)\n",
            "Requirement already satisfied: kiwisolver>=1.0.1 in /usr/local/lib/python3.10/dist-packages (from matplotlib->imgaug->-r /content/drive/MyDrive/EA-age/Project/requirements.txt (line 4)) (1.4.5)\n",
            "Requirement already satisfied: pyparsing>=2.3.1 in /usr/local/lib/python3.10/dist-packages (from matplotlib->imgaug->-r /content/drive/MyDrive/EA-age/Project/requirements.txt (line 4)) (3.1.2)\n",
            "Requirement already satisfied: mpmath>=0.19 in /usr/local/lib/python3.10/dist-packages (from sympy->torch->-r /content/drive/MyDrive/EA-age/Project/requirements.txt (line 10)) (1.3.0)\n",
            "Requirement already satisfied: pyasn1<0.6.0,>=0.4.6 in /usr/local/lib/python3.10/dist-packages (from pyasn1-modules>=0.2.1->google-auth<3,>=1.6.3->tensorboard->-r /content/drive/MyDrive/EA-age/Project/requirements.txt (line 9)) (0.5.1)\n",
            "Requirement already satisfied: oauthlib>=3.0.0 in /usr/local/lib/python3.10/dist-packages (from requests-oauthlib>=0.7.0->google-auth-oauthlib<2,>=0.5->tensorboard->-r /content/drive/MyDrive/EA-age/Project/requirements.txt (line 9)) (3.2.2)\n"
          ]
        }
      ],
      "source": [
        "!pip install -r /content/drive/MyDrive/EA-age/Project/requirements.txt"
      ]
    },
    {
      "cell_type": "code",
      "execution_count": null,
      "metadata": {
        "id": "KNnwre4lMRmu"
      },
      "outputs": [],
      "source": [
        "from torch.utils.data import Dataset\n",
        "import cv2\n",
        "import numpy as np\n",
        "import pandas as pd\n",
        "from torch.utils.data import DataLoader\n",
        "from imgaug import augmenters as iaa\n",
        "import os\n",
        "from transformers import ConvNextForImageClassification\n",
        "import torchvision\n",
        "import torch\n",
        "import csv\n",
        "import matplotlib.pyplot as plt\n",
        "import torch.nn as nn\n",
        "import torch.nn.functional as F\n",
        "import torch.nn as nn\n",
        "import pretrainedmodels\n",
        "import pretrainedmodels.utils\n",
        "from collections import OrderedDict\n",
        "from tqdm import tqdm\n",
        "from pathlib import Path"
      ]
    },
    {
      "cell_type": "code",
      "execution_count": null,
      "metadata": {
        "colab": {
          "base_uri": "https://localhost:8080/"
        },
        "id": "MXalaJ61zcWw",
        "outputId": "fdd53518-eed8-41b7-ac54-bfb39147cc0c"
      },
      "outputs": [
        {
          "name": "stdout",
          "output_type": "stream",
          "text": [
            "Drive already mounted at /content/drive; to attempt to forcibly remount, call drive.mount(\"/content/drive\", force_remount=True).\n"
          ]
        }
      ],
      "source": [
        "#from google.colab import drive\n",
        "#drive.mount('/content/drive')"
      ]
    },
    {
      "cell_type": "code",
      "execution_count": null,
      "metadata": {
        "id": "TPi2W5h5zZ8r"
      },
      "outputs": [],
      "source": [
        "#!cp -R /content/drive/MyDrive/EA-age/Project/ressource/se_resnext50_32x4d-a260b3a4.pth /root/.cache/torch/hub/checkpoints/\n",
        "#if model isn't downloaded, download it"
      ]
    },
    {
      "cell_type": "code",
      "execution_count": null,
      "metadata": {
        "id": "F9JmhhymCL_g"
      },
      "outputs": [],
      "source": [
        "#!cp -R /content/drive/MyDrive/EA-age/Project/ressource/meta.py /usr/local/lib/python3.10/dist-packages/imgaug/augmenters/\n",
        "#copy the meta.py file to the imgaug library to fix the error"
      ]
    },
    {
      "cell_type": "code",
      "execution_count": null,
      "metadata": {
        "id": "g9oTiXiYz2v5"
      },
      "outputs": [],
      "source": [
        "#!cp -R /content/drive/MyDrive/EA-age/Project/ressource/pnasnet.py /usr/local/lib/python3.10/dist-packages/pretrainedmodels/models/\n",
        "#!cp -R /content/drive/MyDrive/EA-age/Project/ressource/pnasnet5large-bf079911.pth /root/.cache/torch/hub/checkpoints/\n",
        "#copy the pnasnet.py file to the pretrainedmodels library to fix the error\n",
        "#copy the pnasnet5large-bf079911.pth file to the pretrainedmodels library to fix the error"
      ]
    },
    {
      "cell_type": "markdown",
      "metadata": {
        "id": "RXCf4wiAzZ8s"
      },
      "source": [
        "## Model.py, Train.py and Dataset.py"
      ]
    },
    {
      "cell_type": "code",
      "execution_count": null,
      "metadata": {
        "id": "glx2oBjizZ8t"
      },
      "outputs": [],
      "source": [
        "\n",
        "class AverageMeter(object):\n",
        "    def __init__(self):\n",
        "        self.val = 0\n",
        "        self.avg = 0\n",
        "        self.sum = 0\n",
        "        self.count = 0\n",
        "\n",
        "    def update(self, val, n=1):\n",
        "        self.val = val\n",
        "        self.sum += val\n",
        "        self.count += n\n",
        "        self.avg = self.sum / self.count\n",
        "\n",
        "\n",
        "def train(train_loader, model, criterion, optimizer, epoch, device):\n",
        "    model.train()\n",
        "    loss_monitor = AverageMeter()\n",
        "    accuracy_monitor = AverageMeter()\n",
        "\n",
        "    with tqdm(train_loader) as _tqdm:\n",
        "        for x, y in _tqdm:\n",
        "            x = x.to(device)\n",
        "            y = y.type(torch.LongTensor) ### added\n",
        "            y = y.to(device)\n",
        "\n",
        "            # compute output\n",
        "            outputs = model(x)\n",
        "\n",
        "            # calc loss\n",
        "            loss = criterion(outputs, y)\n",
        "            cur_loss = loss.item()\n",
        "\n",
        "            # calc accuracy\n",
        "            _, predicted = outputs.max(1)\n",
        "            correct_num = predicted.eq(y).sum().item()\n",
        "\n",
        "            # measure accuracy and record loss\n",
        "            sample_num = x.size(0)\n",
        "            loss_monitor.update(cur_loss, sample_num)\n",
        "            accuracy_monitor.update(correct_num, sample_num)\n",
        "\n",
        "            # compute gradient and do SGD step\n",
        "            optimizer.zero_grad()\n",
        "            loss.backward()\n",
        "            optimizer.step()\n",
        "\n",
        "            _tqdm.set_postfix(OrderedDict(stage=\"train\", epoch=epoch, loss=loss_monitor.avg),\n",
        "                              acc=accuracy_monitor.avg, correct=correct_num, sample_num=sample_num)\n",
        "\n",
        "    return loss_monitor.avg, accuracy_monitor.avg\n",
        "\n",
        "def validate(validate_loader, model, criterion, epoch, device):\n",
        "    model.eval()\n",
        "    loss_monitor = AverageMeter()\n",
        "    accuracy_monitor = AverageMeter()\n",
        "    preds = []\n",
        "    gt = []\n",
        "\n",
        "    with torch.no_grad():\n",
        "        with tqdm(validate_loader) as _tqdm:\n",
        "            for x, y in _tqdm:\n",
        "                x = x.to(device)\n",
        "                y = y.type(torch.LongTensor) ### added\n",
        "                y = y.to(device)\n",
        "\n",
        "                # compute output\n",
        "                outputs = model(x)\n",
        "                preds.append(F.softmax(outputs, dim=-1).cpu().numpy())\n",
        "                gt.append(y.cpu().numpy())\n",
        "\n",
        "                # valid for validation, not used for test\n",
        "                if criterion is not None:\n",
        "                    # calc loss\n",
        "                    loss = criterion(outputs, y)\n",
        "                    cur_loss = loss.item()\n",
        "\n",
        "                    # calc accuracy\n",
        "                    _, predicted = outputs.max(1)\n",
        "                    correct_num = predicted.eq(y).sum().item()\n",
        "\n",
        "                    # measure accuracy and record loss\n",
        "                    sample_num = x.size(0)\n",
        "                    loss_monitor.update(cur_loss, sample_num)\n",
        "                    accuracy_monitor.update(correct_num, sample_num)\n",
        "                    _tqdm.set_postfix(OrderedDict(stage=\"val\", epoch=epoch, loss=loss_monitor.avg),\n",
        "                                      acc=accuracy_monitor.avg, correct=correct_num, sample_num=sample_num)\n",
        "\n",
        "    preds = np.concatenate(preds, axis=0)\n",
        "    gt = np.concatenate(gt, axis=0)\n",
        "    ages = np.arange(0, 101)\n",
        "    ave_preds = (preds * ages).sum(axis=-1)\n",
        "    diff = ave_preds - gt\n",
        "    mae = np.abs(diff).mean()\n",
        "\n",
        "    return loss_monitor.avg, accuracy_monitor.avg, mae\n",
        "\n",
        "def train_reg(train_loader, model, criterion, optimizer, epoch, device):\n",
        "    '''loss recommandée : nn.MSELoss()'''\n",
        "    model.train()\n",
        "    loss_monitor = AverageMeter()\n",
        "    accuracy_monitor = AverageMeter()\n",
        "\n",
        "    with tqdm(train_loader) as _tqdm:\n",
        "        for x, y in _tqdm:\n",
        "            x = x.to(device)\n",
        "            y = y.type(torch.FloatTensor) ###modified ### added\n",
        "            y = y.to(device)\n",
        "\n",
        "            # compute output\n",
        "            outputs = model(x)\n",
        "            predicted = outputs.squeeze(1)\n",
        "\n",
        "            # calc loss\n",
        "            loss = criterion(predicted, y)\n",
        "            cur_loss = loss.item()\n",
        "\n",
        "            # calc accuracy\n",
        "            #_, predicted = outputs.max(1)\n",
        "            #predicted = outputs.squeeze(1) ### modified# Assuming outputs is a tensor of shape (batch_size, 1)\n",
        "            #correct_num = y.eq(torch.round(y + 0.49)).sum().item() ###modified\n",
        "            correct_num = torch.abs(predicted - y).le(1).sum().item()\n",
        "\n",
        "            #correct_num = np.mean(np.round(outputs.cpu().numpy() + 0.49) == y.cpu().numpy())\n",
        "\n",
        "\n",
        "            # measure accuracy and record loss\n",
        "            sample_num = x.size(0)\n",
        "            loss_monitor.update(cur_loss, sample_num)\n",
        "            accuracy_monitor.update(correct_num, sample_num)\n",
        "\n",
        "            #mae = torch.abs(outputs - y).mean()  ### modified # Assuming outputs and y are tensors of the same shape\n",
        "            #accuracy_monitor.update(mae.item(), sample_num)\n",
        "\n",
        "\n",
        "            # compute gradient and do SGD step\n",
        "            optimizer.zero_grad()\n",
        "            loss.backward()\n",
        "            optimizer.step()\n",
        "\n",
        "            _tqdm.set_postfix(OrderedDict(stage=\"train\", epoch=epoch, loss=loss_monitor.avg),\n",
        "                             acc=accuracy_monitor.avg, correct=correct_num, sample_num=sample_num)\n",
        "            #_tqdm.set_postfix(OrderedDict(stage=\"train\", epoch=epoch, loss=loss_monitor.avg),\n",
        "            #                  acc=accuracy_monitor.avg, sample_num=sample_num)\n",
        "\n",
        "    return loss_monitor.avg, accuracy_monitor.avg\n",
        "\n",
        "def validate_reg(validate_loader, model, criterion, epoch, device):\n",
        "    model.eval()\n",
        "    loss_monitor = AverageMeter()\n",
        "    accuracy_monitor = AverageMeter()\n",
        "    preds = []\n",
        "    gt = []\n",
        "\n",
        "    with torch.no_grad():\n",
        "        with tqdm(validate_loader) as _tqdm:\n",
        "            for x, y in _tqdm:\n",
        "                x = x.to(device)\n",
        "                y = y.type(torch.FloatTensor) ### added\n",
        "                y = y.to(device)\n",
        "\n",
        "                # compute output\n",
        "                outputs = model(x)\n",
        "                #preds.append(F.softmax(outputs, dim=-1).cpu().numpy())\n",
        "                preds.append(outputs.cpu().numpy())\n",
        "                gt.append(y.cpu().numpy())\n",
        "\n",
        "                # valid for validation, not used for test\n",
        "                if criterion is not None:\n",
        "                    # calc loss\n",
        "                    predicted = outputs.squeeze(1)\n",
        "                    loss = criterion(predicted, y)\n",
        "                    cur_loss = loss.item()\n",
        "\n",
        "                    # calc accuracy\n",
        "                    #_, predicted = outputs.max(1)\n",
        "                    #predicted = outputs.squeeze(1) ###modified\n",
        "                    #correct_num = np.sum(np.round(outputs.cpu().numpy() + 0.49) == y.cpu().numpy()) ###modified\n",
        "                    #correct_num = np.sum(np.abs(outputs.cpu().numpy() - y.cpu().numpy()) <= 1) ###modified\n",
        "                    correct_num = torch.abs(predicted - y).le(1).sum().item()\n",
        "\n",
        "\n",
        "                    # measure accuracy and record loss\n",
        "                    sample_num = x.size(0)\n",
        "                    #loss_monitor.update(cur_loss, sample_num)\n",
        "                    loss_monitor.update(loss.item(),sample_num)\n",
        "                    accuracy_monitor.update(correct_num, sample_num)\n",
        "                    #mae = torch.abs(outputs - y).mean()  ### modified # Assuming outputs and y are tensors of the same shape\n",
        "                    #accuracy_monitor.update(mae.item(), sample_num)\n",
        "                    _tqdm.set_postfix(OrderedDict(stage=\"val\", epoch=epoch, loss=loss_monitor.avg),\n",
        "                                      acc=accuracy_monitor.avg, correct=correct_num, sample_num=sample_num)\n",
        "                    #_tqdm.set_postfix(OrderedDict(stage=\"val\", epoch=epoch, loss=loss_monitor.avg),\n",
        "                    #                    acc=accuracy_monitor.avg, sample_num=sample_num)\n",
        "\n",
        "\n",
        "    #preds = np.concatenate(preds, axis=0)\n",
        "    #gt = np.concatenate(gt, axis=0)\n",
        "    #ages = np.arange(0, 101)\n",
        "    #ave_preds = (preds * ages).sum(axis=-1)\n",
        "    #diff = ave_preds - gt\n",
        "    #mae = np.abs(diff).mean()\n",
        "    preds = np.concatenate(preds, axis=0)\n",
        "    gt = np.concatenate(gt, axis=0)\n",
        "    mae = np.mean(np.abs(preds - gt))\n",
        "\n",
        "    return loss_monitor.avg, accuracy_monitor.avg, mae"
      ]
    },
    {
      "cell_type": "code",
      "execution_count": null,
      "metadata": {
        "id": "keUr_6mkzZ8v"
      },
      "outputs": [],
      "source": [
        "def get_model(model_name=\"se_resnext50_32x4d\", num_classes=101, pretrained=\"imagenet\"):\n",
        "    model = pretrainedmodels.__dict__[model_name](pretrained=pretrained)\n",
        "    dim_feats = model.last_linear.in_features\n",
        "    model.last_linear = nn.Linear(dim_feats, num_classes)\n",
        "    model.avg_pool = nn.AdaptiveAvgPool2d(1)\n",
        "    return model\n",
        "\n",
        "def get_regression_model(model_name=\"se_resnext50_32x4d\", pretrained=\"imagenet\"):\n",
        "    model = pretrainedmodels.__dict__[model_name](pretrained=pretrained)\n",
        "    dim_feats = model.last_linear.in_features\n",
        "    model.last_linear = nn.Linear(dim_feats, 1)  # Regression predicts a single value, so output dimension is 1\n",
        "    # Optionally other layers if needed\n",
        "    return model"
      ]
    },
    {
      "cell_type": "code",
      "execution_count": null,
      "metadata": {
        "id": "NsaQM2vRzZ8v"
      },
      "outputs": [],
      "source": [
        "class ImgAugTransform:\n",
        "    def __init__(self):\n",
        "        self.aug = iaa.Sequential([\n",
        "            iaa.OneOf([\n",
        "                iaa.Sometimes(0.25, iaa.AdditiveGaussianNoise(scale=0.1 * 255)),\n",
        "                iaa.Sometimes(0.25, iaa.GaussianBlur(sigma=(0, 3.0)))\n",
        "                ]),\n",
        "            iaa.Affine(\n",
        "                rotate=(-20, 20), mode=\"edge\",\n",
        "                scale={\"x\": (0.95, 1.05), \"y\": (0.95, 1.05)},\n",
        "                translate_percent={\"x\": (-0.05, 0.05), \"y\": (-0.05, 0.05)}\n",
        "            ),\n",
        "            iaa.AddToHueAndSaturation(value=(-10, 10), per_channel=True),\n",
        "            iaa.GammaContrast((0.3, 2)),\n",
        "            iaa.Fliplr(0.5),\n",
        "        ])\n",
        "\n",
        "    def __call__(self, img):\n",
        "        img = np.array(img)\n",
        "        img = self.aug.augment_image(img)\n",
        "        return img\n",
        "\n",
        "def identity(x): ### added\n",
        "    return x\n",
        "\n",
        "class FaceDataset(Dataset):\n",
        "    def __init__(self, data_dir, data_type, img_size=224, augment=False, age_stddev=1.0, ignore_path = '/content/drive/MyDrive/EA-age/Project/ignore_list.csv'):\n",
        "        assert(data_type in (\"train\", \"valid\", \"test\"))\n",
        "        csv_path = Path(data_dir).joinpath(f\"gt_avg_{data_type}.csv\")\n",
        "        img_dir = Path(data_dir).joinpath(data_type)\n",
        "        self.img_size = img_size\n",
        "        self.augment = augment\n",
        "        self.age_stddev = age_stddev\n",
        "\n",
        "        if augment:\n",
        "            self.transform = ImgAugTransform()\n",
        "        else:\n",
        "            self.transform = identity ### added\n",
        "\n",
        "        self.x = []\n",
        "        self.y = []\n",
        "        self.std = []\n",
        "        df = pd.read_csv(str(csv_path))\n",
        "        #ignore_path = Path(__file__).resolve().parent.joinpath(ignore_path)\n",
        "        ignore_img_names = list(pd.read_csv(str(ignore_path))[\"img_name\"].values)\n",
        "\n",
        "        for _, row in df.iterrows():\n",
        "            img_name = row[\"file_name\"]\n",
        "\n",
        "            if img_name in ignore_img_names:\n",
        "                continue\n",
        "\n",
        "            img_path = img_dir.joinpath(img_name + \"_face.jpg\")\n",
        "            assert(img_path.is_file())\n",
        "            self.x.append(str(img_path))\n",
        "            self.y.append(row[\"apparent_age_avg\"])\n",
        "            self.std.append(row[\"apparent_age_std\"])\n",
        "\n",
        "    def __len__(self):\n",
        "        return len(self.y)\n",
        "\n",
        "    def __getitem__(self, idx):\n",
        "        img_path = self.x[idx]\n",
        "        age = self.y[idx]\n",
        "\n",
        "        if self.augment:\n",
        "            age += np.random.randn() * self.std[idx] * self.age_stddev\n",
        "\n",
        "        img = cv2.imread(str(img_path), 1)\n",
        "        img = cv2.resize(img, (self.img_size, self.img_size))\n",
        "        img = self.transform(img).astype(np.float32)\n",
        "        return torch.from_numpy(np.transpose(img, (2, 0, 1))), np.clip(round(age), 0, 100)"
      ]
    },
    {
      "cell_type": "markdown",
      "metadata": {
        "id": "eFgSqkRhzZ8w"
      },
      "source": [
        "## Utils"
      ]
    },
    {
      "cell_type": "code",
      "execution_count": null,
      "metadata": {
        "id": "G_JcAFI_2yU6"
      },
      "outputs": [],
      "source": [
        "def add_ignore(path, new_path, n_values):\n",
        "  df = pd.read_csv(path)\n",
        "  val = list(df['img_name'].values)\n",
        "  for i in range(n_values):\n",
        "    num = str(i)\n",
        "    x = 6-len(num)\n",
        "    complete = '0'*x\n",
        "    val.append(complete+num+'.jpg')\n",
        "  df2 = pd.DataFrame({\"img_name\": val})\n",
        "  df2.to_csv(new_path, index=False)"
      ]
    },
    {
      "cell_type": "code",
      "execution_count": null,
      "metadata": {
        "id": "6Ur8NVtWzZ8x"
      },
      "outputs": [],
      "source": [
        "def show(image):\n",
        "    if type(image) != str:\n",
        "        tensor = np.array(image)\n",
        "        tensor_min, tensor_max = np.min(tensor), np.max(tensor)\n",
        "        tensor = (tensor - tensor_min) / (tensor_max - tensor_min)\n",
        "        tensor = np.transpose(tensor, (1, 2, 0))\n",
        "        plt.axis(False)\n",
        "        plt.imshow(tensor)\n",
        "    else :\n",
        "        img = cv2.imread(image, 1)\n",
        "        img = cv2.cvtColor(img, cv2.COLOR_BGR2RGB)\n",
        "        plt.imshow(img)"
      ]
    },
    {
      "cell_type": "code",
      "execution_count": null,
      "metadata": {
        "id": "yZxQVm97zZ8x"
      },
      "outputs": [],
      "source": [
        "def load_model(model,optimizer, path, device):\n",
        "    print(\"=> loading checkpoint '{}'\".format(path))\n",
        "    checkpoint = torch.load(path, map_location=device)\n",
        "    start_epoch = checkpoint['epoch']\n",
        "    model.load_state_dict(checkpoint['state_dict'])\n",
        "    print(\"=> loaded checkpoint '{}' (epoch {})\"\n",
        "                  .format(path, checkpoint['epoch']))\n",
        "    optimizer.load_state_dict(checkpoint['optimizer_state_dict'])\n"
      ]
    },
    {
      "cell_type": "code",
      "execution_count": null,
      "metadata": {
        "id": "LWdv1MNfzZ8x"
      },
      "outputs": [],
      "source": [
        "def training(model,optimizer, train_loader, val_loader, test_loader, epochs, save_path,csv_path, device):\n",
        "    best_val_mae = 10000.0\n",
        "    criterion = nn.CrossEntropyLoss().to(device)\n",
        "\n",
        "    tr_loss, tr_acc, v_loss, v_acc, mae = [],[],[],[],[]\n",
        "    #print(tr.validate(val_loader, model, criterion, 0, device))\n",
        "    #print(tr.validate(test_loader, model, criterion, 0, device))\n",
        "    for epoch in range(0, epochs):\n",
        "            # train\n",
        "            train_loss, train_acc = train(train_loader, model, criterion, optimizer, epoch, device)\n",
        "\n",
        "            # validate\n",
        "            val_loss, val_acc, val_mae = validate(val_loader, model, criterion, epoch, device)\n",
        "            tr_acc.append(train_acc)\n",
        "            tr_loss.append(train_loss)\n",
        "            v_loss.append(val_loss)\n",
        "            v_acc.append(val_acc)\n",
        "            mae.append(val_mae)\n",
        "\n",
        "            if val_mae < best_val_mae:\n",
        "                    print(f\"=> [epoch {epoch:03d}] best val mae was improved from {best_val_mae:.3f} to {val_mae:.3f}\")\n",
        "                    model_state_dict = model.state_dict()\n",
        "                    model_path = save_path + \"epoch{:03d}_{:.5f}_{:.4f}.pth\".format(epoch, val_loss, val_mae)\n",
        "                    torch.save(\n",
        "                        {\n",
        "                            'epoch': epoch + 1,\n",
        "                            'state_dict': model_state_dict,\n",
        "                            'optimizer_state_dict': optimizer.state_dict()\n",
        "                        },\n",
        "                        model_path\n",
        "                    )\n",
        "                    best_val_mae = val_mae\n",
        "\n",
        "    load_model(model, optimizer,model_path,device)\n",
        "    test_loss, test_acc, test_mae = validate(test_loader, model, criterion, 0, device)\n",
        "    print(test_loss, test_acc, test_mae)\n",
        "\n",
        "    df2 = pd.DataFrame({\"train_acc\": tr_acc, \"train_loss\": tr_loss, \"val_loss\": v_loss, \"val_acc\": v_acc, \"mae\": mae})\n",
        "    df2.to_csv(csv_path, index=False)\n",
        "\n",
        "    return tr_loss, tr_acc, v_loss, v_acc, mae, [test_loss, test_acc, test_mae]"
      ]
    },
    {
      "cell_type": "code",
      "execution_count": null,
      "metadata": {
        "id": "eUWemvfCNzqR"
      },
      "outputs": [],
      "source": [
        "def training_reg(model,optimizer, train_loader, val_loader, test_loader, epochs, save_path,csv_path, device):\n",
        "    best_val_mae = 10000.0\n",
        "    criterion = nn.MSELoss().to(device)\n",
        "\n",
        "    tr_loss, tr_acc, v_loss, v_acc, mae = [],[],[],[],[]\n",
        "    #print(tr.validate(val_loader, model, criterion, 0, device))\n",
        "    #print(tr.validate(test_loader, model, criterion, 0, device))\n",
        "    for epoch in range(0, epochs):\n",
        "            # train\n",
        "            train_loss, train_acc = train_reg(train_loader, model, criterion, optimizer, epoch, device)\n",
        "\n",
        "            # validate\n",
        "            val_loss, val_acc, val_mae = validate_reg(val_loader, model, criterion, epoch, device)\n",
        "            tr_acc.append(train_acc)\n",
        "            tr_loss.append(train_loss)\n",
        "            v_loss.append(val_loss)\n",
        "            v_acc.append(val_acc)\n",
        "            mae.append(val_mae)\n",
        "\n",
        "            if val_mae < best_val_mae:\n",
        "                    print(f\"=> [epoch {epoch:03d}] best val mae was improved from {best_val_mae:.3f} to {val_mae:.3f}\")\n",
        "                    model_state_dict = model.state_dict()\n",
        "                    model_path = save_path + \"epoch{:03d}_{:.5f}_{:.4f}.pth\".format(epoch, val_loss, val_mae)\n",
        "                    torch.save(\n",
        "                        {\n",
        "                            'epoch': epoch + 1,\n",
        "                            'state_dict': model_state_dict,\n",
        "                            'optimizer_state_dict': optimizer.state_dict()\n",
        "                        },\n",
        "                        model_path\n",
        "                    )\n",
        "                    best_val_mae = val_mae\n",
        "\n",
        "    load_model(model, optimizer,model_path,device)\n",
        "    test_loss, test_acc, test_mae = validate_reg(test_loader, model, criterion, 0, device)\n",
        "    print(test_loss, test_acc, test_mae)\n",
        "\n",
        "    df2 = pd.DataFrame({\"train_acc\": tr_acc, \"train_loss\": tr_loss, \"val_loss\": v_loss, \"val_acc\": v_acc, \"mae\": mae})\n",
        "    df2.to_csv(csv_path, index=False)\n",
        "\n",
        "    return tr_loss, tr_acc, v_loss, v_acc, mae, [test_loss, test_acc, test_mae]"
      ]
    },
    {
      "cell_type": "code",
      "execution_count": null,
      "metadata": {
        "id": "u1atZPnezZ8y"
      },
      "outputs": [],
      "source": [
        "add_ignore('/content/drive/MyDrive/EA-age/Project/ignore_list.csv', '/content/drive/MyDrive/EA-age/Project/ignore_list1000.csv', 4000 - 1000)"
      ]
    },
    {
      "cell_type": "markdown",
      "metadata": {
        "id": "PbpozjtrzZ8y"
      },
      "source": [
        "## Dataset utils for augmented datasets"
      ]
    },
    {
      "cell_type": "code",
      "execution_count": null,
      "metadata": {
        "id": "_xn_UEMhzZ8y"
      },
      "outputs": [],
      "source": [
        "class FaceDataset_synthetic_unlabelled(Dataset):\n",
        "    def __init__(self, data_dir, img_size=224):\n",
        "        self.img_size = img_size\n",
        "        self.transform = lambda i:i\n",
        "        self.x = []\n",
        "        for img in os.listdir(data_dir):\n",
        "            self.x.append(data_dir + '/' + img)\n",
        "\n",
        "    def __len__(self):\n",
        "        return len(self.x)\n",
        "\n",
        "    def __getitem__(self, idx):\n",
        "        img_path = self.x[idx]\n",
        "\n",
        "        img = cv2.imread(str(img_path), 1)\n",
        "        img = cv2.resize(img, (self.img_size, self.img_size))\n",
        "        img = self.transform(img).astype(np.float32)\n",
        "        return torch.from_numpy(np.transpose(img, (2, 0, 1)))\n",
        "\n",
        "class FaceDataset_synthetic_labelled(Dataset):\n",
        "    def __init__(self, data_dir, csv_path, img_size=224,augment=False, age_stddev=1.0):\n",
        "        self.img_size = img_size\n",
        "        self.augment = augment\n",
        "        self.age_stddev = age_stddev\n",
        "        if augment:\n",
        "            self.transform = dataset.ImgAugTransform()\n",
        "        else:\n",
        "            self.transform = lambda i:i\n",
        "\n",
        "        self.x = []\n",
        "        self.y = []\n",
        "        df = pd.read_csv(csv_path)\n",
        "\n",
        "        for _, row in df.iterrows():\n",
        "            img_name = row[\"img_name\"]\n",
        "            img_path = data_dir + '/' + img_name\n",
        "            self.x.append(img_path)\n",
        "            self.y.append(row[\"predicted_age\"])\n",
        "\n",
        "    def __len__(self):\n",
        "        return len(self.x)\n",
        "\n",
        "    def __getitem__(self, idx):\n",
        "        img_path = self.x[idx]\n",
        "        age = self.y[idx]\n",
        "\n",
        "        if self.augment:\n",
        "            age += np.random.randn()* self.age_stddev\n",
        "\n",
        "        img = cv2.imread(str(img_path), 1)\n",
        "        img = cv2.resize(img, (self.img_size, self.img_size))\n",
        "        img = self.transform(img).astype(np.float32)\n",
        "        return torch.from_numpy(np.transpose(img, (2, 0, 1))), np.clip(round(age), 0, 100)"
      ]
    },
    {
      "cell_type": "code",
      "execution_count": null,
      "metadata": {
        "id": "v0sAoMJMzZ8z"
      },
      "outputs": [],
      "source": [
        "class FaceDataset_mix_syn_real(Dataset):\n",
        "    def __init__(self, data_dirs, csv_paths, n = 1000, img_size=224,augment=False, age_stddev=1.0):\n",
        "        data_dir, data_dir_synthetic = data_dirs[0], data_dirs[1]\n",
        "        csv_path, csv_path_synthetic = csv_paths[0], csv_paths[1]\n",
        "\n",
        "        self.img_size = img_size\n",
        "        self.augment = augment\n",
        "        self.age_stddev = age_stddev\n",
        "        if augment:\n",
        "            self.transform = dataset.ImgAugTransform()\n",
        "        else:\n",
        "            self.transform = lambda i:i\n",
        "\n",
        "        self.x = []\n",
        "        self.x2 = []\n",
        "        self.y = []\n",
        "        self.y2 = []\n",
        "        df = pd.read_csv(csv_path)\n",
        "        ignore_img_names = list(pd.read_csv(\"ignore_list.csv\")[\"img_name\"].values)\n",
        "\n",
        "        for _, row in df.iterrows():\n",
        "            img_name = row[\"file_name\"]\n",
        "            if img_name in ignore_img_names:\n",
        "                continue\n",
        "\n",
        "            img_path = data_dir + '/train/' + img_name\n",
        "            self.x.append(img_path)\n",
        "            self.y.append(row[\"apparent_age_avg\"])\n",
        "\n",
        "        df2 = pd.read_csv(csv_path_synthetic)\n",
        "        for _, row in df.iterrows():\n",
        "            img_name = row[\"img_name\"]\n",
        "            img_path = data_dir + '/' + img_name\n",
        "            self.x2.append(img_path)\n",
        "            self.y2.append(row[\"predicted_age\"])\n",
        "\n",
        "        self.x2 = self.x2[0:n//2]\n",
        "        self.x = self.x[0:n//2] + self.x2\n",
        "        self.y2 = self.y2[0:n//2]\n",
        "        self.y = self.y[0:n//2] + self.y2\n",
        "\n",
        "    def __len__(self):\n",
        "        return len(self.x)\n",
        "\n",
        "    def __getitem__(self, idx):\n",
        "        img_path = self.x[idx]\n",
        "        age = self.y[idx]\n",
        "\n",
        "        if self.augment:\n",
        "            age += np.random.randn()* self.age_stddev\n",
        "\n",
        "        img = cv2.imread(str(img_path), 1)\n",
        "        img = cv2.resize(img, (self.img_size, self.img_size))\n",
        "        img = self.transform(img).astype(np.float32)\n",
        "        return torch.from_numpy(np.transpose(img, (2, 0, 1))), np.clip(round(age), 0, 100)"
      ]
    },
    {
      "cell_type": "code",
      "execution_count": null,
      "metadata": {
        "id": "Gd5dGfSvzZ8z"
      },
      "outputs": [],
      "source": [
        "class FaceDataset_gender(Dataset):\n",
        "    def __init__(self, data_dir, csv_path, gender, img_size=224,augment=False, age_stddev=1.0):\n",
        "        self.img_size = img_size\n",
        "        self.augment = augment\n",
        "        self.age_stddev = age_stddev\n",
        "        assert(gender in (\"male\", \"female\"))\n",
        "        if augment:\n",
        "            self.transform = dataset.ImgAugTransform()\n",
        "        else:\n",
        "            self.transform = lambda i:i\n",
        "\n",
        "        self.x = []\n",
        "        self.y = []\n",
        "        self.std = []\n",
        "        df = pd.read_csv(csv_path)\n",
        "        ignore_img_names = list(pd.read_csv(\"ignore_list.csv\")[\"img_name\"].values)\n",
        "\n",
        "        for _, row in df.iterrows():\n",
        "            img_name = row[\"file_name\"]\n",
        "            if img_name in ignore_img_names:\n",
        "                continue\n",
        "\n",
        "            img_path = data_dir + '/train/' + img_name\n",
        "            if row[\"gender\"] == gender:\n",
        "                self.x.append(img_path)\n",
        "                self.y.append(row[\"apparent_age_avg\"])\n",
        "                self.std.append(row[\"apparent_age_std\"])\n",
        "\n",
        "    def __len__(self):\n",
        "        return len(self.x)\n",
        "\n",
        "    def __getitem__(self, idx):\n",
        "        img_path = self.x[idx]\n",
        "        age = self.y[idx]\n",
        "\n",
        "        if self.augment:\n",
        "            age += np.random.randn()* self.std[idx]* self.age_stddev\n",
        "\n",
        "        img = cv2.imread(img_path, 1)\n",
        "        img = cv2.resize(img, (self.img_size, self.img_size))\n",
        "        img = self.transform(img).astype(np.float32)\n",
        "        return torch.from_numpy(np.transpose(img, (2, 0, 1))), np.clip(round(age), 0, 100)"
      ]
    },
    {
      "cell_type": "markdown",
      "metadata": {
        "id": "unl0HcuNzZ80"
      },
      "source": [
        "# Pipelines"
      ]
    },
    {
      "cell_type": "markdown",
      "metadata": {
        "id": "w5xM2a_UzZ80"
      },
      "source": [
        "## Basic"
      ]
    },
    {
      "cell_type": "code",
      "execution_count": null,
      "metadata": {
        "id": "5Yz5gpz15zcD"
      },
      "outputs": [],
      "source": [
        "torch.cuda.empty_cache()"
      ]
    },
    {
      "cell_type": "code",
      "execution_count": null,
      "metadata": {
        "id": "LemhJN7I1RrZ"
      },
      "outputs": [],
      "source": [
        "path = '/content/drive/MyDrive/EA-age/Project/'\n",
        "\n",
        "data_dir = path + 'appa-real-release'\n",
        "data_type = 'train'\n",
        "train_dataset = FaceDataset(data_dir, data_type, ignore_path = path + 'ignore_list1000.csv', augment = True)\n",
        "train_loader = DataLoader(train_dataset, batch_size=32, shuffle=True, drop_last=True)\n",
        "val_dataset = FaceDataset(data_dir, 'valid')\n",
        "test_dataset = FaceDataset(data_dir, 'test')\n",
        "val_dataset.x = val_dataset.x[:500]\n",
        "val_dataset.y = val_dataset.y[:500]\n",
        "test_dataset.x = test_dataset.x[:500]\n",
        "test_dataset.y = test_dataset.y[:500]\n",
        "#val_dataset.x = val_dataset.x\n",
        "#val_dataset.y = val_dataset.y\n",
        "val_loader = DataLoader(val_dataset, batch_size=32, shuffle=False, drop_last=False)\n",
        "test_loader =  DataLoader(test_dataset, batch_size=32, shuffle=False, drop_last=False)"
      ]
    },
    {
      "cell_type": "code",
      "execution_count": null,
      "metadata": {
        "colab": {
          "base_uri": "https://localhost:8080/"
        },
        "id": "pSQM6Sx3XoFy",
        "outputId": "4eff0962-4774-49d0-e32d-a182527e87c9"
      },
      "outputs": [
        {
          "name": "stdout",
          "output_type": "stream",
          "text": [
            "1086\n"
          ]
        }
      ],
      "source": [
        "print(len(train_dataset))"
      ]
    },
    {
      "cell_type": "markdown",
      "metadata": {
        "id": "GYkiWfKhWnOE"
      },
      "source": [
        "### Regression model"
      ]
    },
    {
      "cell_type": "code",
      "execution_count": null,
      "metadata": {
        "colab": {
          "base_uri": "https://localhost:8080/"
        },
        "id": "uS3MW9ri_TBW",
        "outputId": "542621f1-1708-4bd5-fd19-5095ca487826"
      },
      "outputs": [
        {
          "name": "stderr",
          "output_type": "stream",
          "text": [
            "100%|██████████| 33/33 [00:23<00:00,  1.41it/s, stage=train, epoch=0, loss=11, acc=0.0511, correct=4, sample_num=32]\n",
            "100%|██████████| 16/16 [00:06<00:00,  2.36it/s, stage=val, epoch=0, loss=7.06, acc=0.066, correct=2, sample_num=20]\n"
          ]
        },
        {
          "name": "stdout",
          "output_type": "stream",
          "text": [
            "=> [epoch 000] best val mae was improved from 10000.000 to 16.090\n"
          ]
        },
        {
          "name": "stderr",
          "output_type": "stream",
          "text": [
            "100%|██████████| 33/33 [00:25<00:00,  1.31it/s, stage=train, epoch=1, loss=4.06, acc=0.0862, correct=2, sample_num=32]\n",
            "100%|██████████| 16/16 [00:07<00:00,  2.25it/s, stage=val, epoch=1, loss=5.78, acc=0.072, correct=3, sample_num=20]\n"
          ]
        },
        {
          "name": "stdout",
          "output_type": "stream",
          "text": [
            "=> [epoch 001] best val mae was improved from 16.090 to 13.972\n"
          ]
        },
        {
          "name": "stderr",
          "output_type": "stream",
          "text": [
            "100%|██████████| 33/33 [00:24<00:00,  1.36it/s, stage=train, epoch=2, loss=3.82, acc=0.0767, correct=2, sample_num=32]\n",
            "100%|██████████| 16/16 [00:06<00:00,  2.36it/s, stage=val, epoch=2, loss=4.99, acc=0.088, correct=2, sample_num=20]\n"
          ]
        },
        {
          "name": "stdout",
          "output_type": "stream",
          "text": [
            "=> [epoch 002] best val mae was improved from 13.972 to 13.686\n"
          ]
        },
        {
          "name": "stderr",
          "output_type": "stream",
          "text": [
            "100%|██████████| 33/33 [00:24<00:00,  1.35it/s, stage=train, epoch=3, loss=3.67, acc=0.0862, correct=2, sample_num=32]\n",
            "100%|██████████| 16/16 [00:07<00:00,  2.23it/s, stage=val, epoch=3, loss=4.31, acc=0.084, correct=1, sample_num=20]\n",
            "100%|██████████| 33/33 [00:22<00:00,  1.46it/s, stage=train, epoch=4, loss=3.33, acc=0.0767, correct=3, sample_num=32]\n",
            "100%|██████████| 16/16 [00:07<00:00,  2.22it/s, stage=val, epoch=4, loss=4.33, acc=0.072, correct=0, sample_num=20]\n",
            "100%|██████████| 33/33 [00:23<00:00,  1.42it/s, stage=train, epoch=5, loss=2.86, acc=0.0833, correct=3, sample_num=32]\n",
            "100%|██████████| 16/16 [00:07<00:00,  2.19it/s, stage=val, epoch=5, loss=4.1, acc=0.076, correct=1, sample_num=20]\n",
            "100%|██████████| 33/33 [00:23<00:00,  1.41it/s, stage=train, epoch=6, loss=2.91, acc=0.0843, correct=4, sample_num=32]\n",
            "100%|██████████| 16/16 [00:07<00:00,  2.23it/s, stage=val, epoch=6, loss=5.94, acc=0.034, correct=2, sample_num=20]\n",
            "100%|██████████| 33/33 [00:22<00:00,  1.44it/s, stage=train, epoch=7, loss=2.44, acc=0.0975, correct=3, sample_num=32]\n",
            "100%|██████████| 16/16 [00:07<00:00,  2.22it/s, stage=val, epoch=7, loss=3.98, acc=0.088, correct=0, sample_num=20]\n",
            "100%|██████████| 33/33 [00:23<00:00,  1.42it/s, stage=train, epoch=8, loss=2.35, acc=0.0994, correct=1, sample_num=32]\n",
            "100%|██████████| 16/16 [00:06<00:00,  2.34it/s, stage=val, epoch=8, loss=4.06, acc=0.098, correct=1, sample_num=20]\n",
            "100%|██████████| 33/33 [00:23<00:00,  1.43it/s, stage=train, epoch=9, loss=2.33, acc=0.0985, correct=0, sample_num=32]\n",
            "100%|██████████| 16/16 [00:06<00:00,  2.33it/s, stage=val, epoch=9, loss=4.21, acc=0.12, correct=2, sample_num=20]\n",
            "100%|██████████| 33/33 [00:23<00:00,  1.39it/s, stage=train, epoch=10, loss=2.16, acc=0.117, correct=6, sample_num=32]\n",
            "100%|██████████| 16/16 [00:07<00:00,  2.18it/s, stage=val, epoch=10, loss=4.02, acc=0.086, correct=1, sample_num=20]\n",
            "100%|██████████| 33/33 [00:23<00:00,  1.42it/s, stage=train, epoch=11, loss=2.25, acc=0.114, correct=7, sample_num=32]\n",
            "100%|██████████| 16/16 [00:06<00:00,  2.33it/s, stage=val, epoch=11, loss=5.81, acc=0.054, correct=1, sample_num=20]\n",
            "100%|██████████| 33/33 [00:23<00:00,  1.42it/s, stage=train, epoch=12, loss=2.35, acc=0.114, correct=3, sample_num=32]\n",
            "100%|██████████| 16/16 [00:06<00:00,  2.35it/s, stage=val, epoch=12, loss=3.69, acc=0.112, correct=0, sample_num=20]\n",
            "100%|██████████| 33/33 [00:23<00:00,  1.42it/s, stage=train, epoch=13, loss=2.2, acc=0.0862, correct=6, sample_num=32]\n",
            "100%|██████████| 16/16 [00:07<00:00,  2.23it/s, stage=val, epoch=13, loss=4.15, acc=0.09, correct=2, sample_num=20]\n",
            "100%|██████████| 33/33 [00:22<00:00,  1.46it/s, stage=train, epoch=14, loss=2.04, acc=0.107, correct=5, sample_num=32]\n",
            "100%|██████████| 16/16 [00:07<00:00,  2.22it/s, stage=val, epoch=14, loss=3.7, acc=0.096, correct=1, sample_num=20]\n",
            "100%|██████████| 33/33 [00:23<00:00,  1.39it/s, stage=train, epoch=15, loss=1.85, acc=0.128, correct=6, sample_num=32]\n",
            "100%|██████████| 16/16 [00:06<00:00,  2.34it/s, stage=val, epoch=15, loss=5.29, acc=0.094, correct=2, sample_num=20]\n",
            "100%|██████████| 33/33 [00:23<00:00,  1.42it/s, stage=train, epoch=16, loss=1.88, acc=0.117, correct=3, sample_num=32]\n",
            "100%|██████████| 16/16 [00:07<00:00,  2.22it/s, stage=val, epoch=16, loss=3.32, acc=0.116, correct=0, sample_num=20]\n",
            "100%|██████████| 33/33 [00:22<00:00,  1.47it/s, stage=train, epoch=17, loss=2.15, acc=0.0966, correct=1, sample_num=32]\n",
            "100%|██████████| 16/16 [00:07<00:00,  2.24it/s, stage=val, epoch=17, loss=6.24, acc=0.068, correct=1, sample_num=20]\n",
            "100%|██████████| 33/33 [00:23<00:00,  1.43it/s, stage=train, epoch=18, loss=2.11, acc=0.127, correct=6, sample_num=32]\n",
            "100%|██████████| 16/16 [00:06<00:00,  2.35it/s, stage=val, epoch=18, loss=4.66, acc=0.092, correct=1, sample_num=20]\n",
            "100%|██████████| 33/33 [00:23<00:00,  1.42it/s, stage=train, epoch=19, loss=1.83, acc=0.111, correct=2, sample_num=32]\n",
            "100%|██████████| 16/16 [00:06<00:00,  2.33it/s, stage=val, epoch=19, loss=3.47, acc=0.1, correct=1, sample_num=20]\n",
            "100%|██████████| 33/33 [00:23<00:00,  1.39it/s, stage=train, epoch=20, loss=1.87, acc=0.124, correct=4, sample_num=32]\n",
            "100%|██████████| 16/16 [00:07<00:00,  2.21it/s, stage=val, epoch=20, loss=3.21, acc=0.108, correct=2, sample_num=20]\n",
            "100%|██████████| 33/33 [00:23<00:00,  1.43it/s, stage=train, epoch=21, loss=1.68, acc=0.116, correct=4, sample_num=32]\n",
            "100%|██████████| 16/16 [00:06<00:00,  2.33it/s, stage=val, epoch=21, loss=3.4, acc=0.086, correct=2, sample_num=20]\n",
            "100%|██████████| 33/33 [00:22<00:00,  1.44it/s, stage=train, epoch=22, loss=1.98, acc=0.116, correct=5, sample_num=32]\n",
            "100%|██████████| 16/16 [00:06<00:00,  2.40it/s, stage=val, epoch=22, loss=3.54, acc=0.086, correct=2, sample_num=20]\n",
            "100%|██████████| 33/33 [00:23<00:00,  1.42it/s, stage=train, epoch=23, loss=1.71, acc=0.12, correct=4, sample_num=32]\n",
            "100%|██████████| 16/16 [00:07<00:00,  2.22it/s, stage=val, epoch=23, loss=3.68, acc=0.104, correct=0, sample_num=20]\n",
            "100%|██████████| 33/33 [00:22<00:00,  1.46it/s, stage=train, epoch=24, loss=1.68, acc=0.125, correct=5, sample_num=32]\n",
            "100%|██████████| 16/16 [00:07<00:00,  2.06it/s, stage=val, epoch=24, loss=3.44, acc=0.106, correct=4, sample_num=20]\n",
            "100%|██████████| 33/33 [00:23<00:00,  1.42it/s, stage=train, epoch=25, loss=1.92, acc=0.117, correct=2, sample_num=32]\n",
            "100%|██████████| 16/16 [00:06<00:00,  2.36it/s, stage=val, epoch=25, loss=4.72, acc=0.06, correct=0, sample_num=20]\n",
            "100%|██████████| 33/33 [00:23<00:00,  1.38it/s, stage=train, epoch=26, loss=1.79, acc=0.121, correct=3, sample_num=32]\n",
            "100%|██████████| 16/16 [00:07<00:00,  2.28it/s, stage=val, epoch=26, loss=3.57, acc=0.088, correct=0, sample_num=20]\n",
            "100%|██████████| 33/33 [00:22<00:00,  1.45it/s, stage=train, epoch=27, loss=1.59, acc=0.121, correct=5, sample_num=32]\n",
            "100%|██████████| 16/16 [00:07<00:00,  2.24it/s, stage=val, epoch=27, loss=3.44, acc=0.12, correct=0, sample_num=20]\n",
            "100%|██████████| 33/33 [00:22<00:00,  1.45it/s, stage=train, epoch=28, loss=1.64, acc=0.12, correct=1, sample_num=32]\n",
            "100%|██████████| 16/16 [00:06<00:00,  2.31it/s, stage=val, epoch=28, loss=4.18, acc=0.06, correct=2, sample_num=20]\n",
            "100%|██████████| 33/33 [00:24<00:00,  1.37it/s, stage=train, epoch=29, loss=1.65, acc=0.0956, correct=5, sample_num=32]\n",
            "100%|██████████| 16/16 [00:06<00:00,  2.36it/s, stage=val, epoch=29, loss=3.33, acc=0.106, correct=0, sample_num=20]\n",
            "100%|██████████| 33/33 [00:23<00:00,  1.42it/s, stage=train, epoch=30, loss=1.83, acc=0.108, correct=2, sample_num=32]\n",
            "100%|██████████| 16/16 [00:07<00:00,  2.23it/s, stage=val, epoch=30, loss=3.62, acc=0.092, correct=4, sample_num=20]\n",
            "100%|██████████| 33/33 [00:22<00:00,  1.45it/s, stage=train, epoch=31, loss=1.62, acc=0.146, correct=5, sample_num=32]\n",
            "100%|██████████| 16/16 [00:07<00:00,  2.25it/s, stage=val, epoch=31, loss=3.27, acc=0.104, correct=3, sample_num=20]\n",
            "100%|██████████| 33/33 [00:22<00:00,  1.44it/s, stage=train, epoch=32, loss=1.79, acc=0.114, correct=3, sample_num=32]\n",
            "100%|██████████| 16/16 [00:06<00:00,  2.35it/s, stage=val, epoch=32, loss=3.9, acc=0.074, correct=3, sample_num=20]\n",
            "100%|██████████| 33/33 [00:23<00:00,  1.42it/s, stage=train, epoch=33, loss=1.85, acc=0.105, correct=5, sample_num=32]\n",
            "100%|██████████| 16/16 [00:07<00:00,  2.25it/s, stage=val, epoch=33, loss=3.56, acc=0.104, correct=3, sample_num=20]\n",
            "100%|██████████| 33/33 [00:23<00:00,  1.40it/s, stage=train, epoch=34, loss=1.55, acc=0.116, correct=3, sample_num=32]\n",
            "100%|██████████| 16/16 [00:07<00:00,  2.23it/s, stage=val, epoch=34, loss=3.62, acc=0.1, correct=3, sample_num=20]\n",
            "100%|██████████| 33/33 [00:23<00:00,  1.40it/s, stage=train, epoch=35, loss=1.63, acc=0.116, correct=4, sample_num=32]\n",
            "100%|██████████| 16/16 [00:06<00:00,  2.34it/s, stage=val, epoch=35, loss=3.33, acc=0.118, correct=2, sample_num=20]\n",
            "100%|██████████| 33/33 [00:23<00:00,  1.40it/s, stage=train, epoch=36, loss=1.55, acc=0.143, correct=4, sample_num=32]\n",
            "100%|██████████| 16/16 [00:07<00:00,  2.26it/s, stage=val, epoch=36, loss=3.13, acc=0.112, correct=3, sample_num=20]\n",
            "100%|██████████| 33/33 [00:23<00:00,  1.43it/s, stage=train, epoch=37, loss=1.59, acc=0.12, correct=1, sample_num=32]\n",
            "100%|██████████| 16/16 [00:07<00:00,  2.19it/s, stage=val, epoch=37, loss=3.3, acc=0.11, correct=3, sample_num=20]\n",
            "100%|██████████| 33/33 [00:23<00:00,  1.39it/s, stage=train, epoch=38, loss=1.57, acc=0.13, correct=5, sample_num=32]\n",
            "100%|██████████| 16/16 [00:07<00:00,  2.19it/s, stage=val, epoch=38, loss=3.92, acc=0.044, correct=0, sample_num=20]\n",
            "100%|██████████| 33/33 [00:23<00:00,  1.38it/s, stage=train, epoch=39, loss=1.6, acc=0.13, correct=5, sample_num=32]\n",
            "100%|██████████| 16/16 [00:07<00:00,  2.22it/s, stage=val, epoch=39, loss=3.32, acc=0.122, correct=1, sample_num=20]\n",
            "100%|██████████| 33/33 [00:23<00:00,  1.42it/s, stage=train, epoch=40, loss=1.62, acc=0.107, correct=5, sample_num=32]\n",
            "100%|██████████| 16/16 [00:07<00:00,  2.22it/s, stage=val, epoch=40, loss=3.28, acc=0.124, correct=2, sample_num=20]\n",
            "100%|██████████| 33/33 [00:23<00:00,  1.41it/s, stage=train, epoch=41, loss=1.54, acc=0.121, correct=4, sample_num=32]\n",
            "100%|██████████| 16/16 [00:06<00:00,  2.36it/s, stage=val, epoch=41, loss=2.9, acc=0.094, correct=1, sample_num=20]\n",
            "100%|██████████| 33/33 [00:23<00:00,  1.41it/s, stage=train, epoch=42, loss=1.41, acc=0.14, correct=6, sample_num=32]\n",
            "100%|██████████| 16/16 [00:07<00:00,  2.28it/s, stage=val, epoch=42, loss=2.91, acc=0.126, correct=4, sample_num=20]\n",
            "100%|██████████| 33/33 [00:24<00:00,  1.35it/s, stage=train, epoch=43, loss=1.21, acc=0.135, correct=4, sample_num=32]\n",
            "100%|██████████| 16/16 [00:07<00:00,  2.24it/s, stage=val, epoch=43, loss=3.32, acc=0.098, correct=1, sample_num=20]\n",
            "100%|██████████| 33/33 [00:23<00:00,  1.43it/s, stage=train, epoch=44, loss=1.4, acc=0.132, correct=3, sample_num=32]\n",
            "100%|██████████| 16/16 [00:06<00:00,  2.29it/s, stage=val, epoch=44, loss=2.91, acc=0.102, correct=3, sample_num=20]\n",
            "100%|██████████| 33/33 [00:23<00:00,  1.41it/s, stage=train, epoch=45, loss=1.32, acc=0.129, correct=5, sample_num=32]\n",
            "100%|██████████| 16/16 [00:06<00:00,  2.38it/s, stage=val, epoch=45, loss=2.84, acc=0.122, correct=4, sample_num=20]\n",
            "100%|██████████| 33/33 [00:23<00:00,  1.42it/s, stage=train, epoch=46, loss=1.37, acc=0.125, correct=4, sample_num=32]\n",
            "100%|██████████| 16/16 [00:07<00:00,  2.20it/s, stage=val, epoch=46, loss=3.14, acc=0.104, correct=3, sample_num=20]\n",
            "100%|██████████| 33/33 [00:22<00:00,  1.45it/s, stage=train, epoch=47, loss=1.38, acc=0.129, correct=1, sample_num=32]\n",
            "100%|██████████| 16/16 [00:07<00:00,  2.24it/s, stage=val, epoch=47, loss=3.31, acc=0.094, correct=2, sample_num=20]\n",
            "100%|██████████| 33/33 [00:23<00:00,  1.38it/s, stage=train, epoch=48, loss=1.33, acc=0.13, correct=3, sample_num=32]\n",
            "100%|██████████| 16/16 [00:06<00:00,  2.37it/s, stage=val, epoch=48, loss=2.96, acc=0.104, correct=2, sample_num=20]\n",
            "100%|██████████| 33/33 [00:23<00:00,  1.41it/s, stage=train, epoch=49, loss=1.62, acc=0.129, correct=8, sample_num=32]\n",
            "100%|██████████| 16/16 [00:06<00:00,  2.29it/s, stage=val, epoch=49, loss=3.22, acc=0.12, correct=3, sample_num=20]\n",
            "100%|██████████| 33/33 [00:23<00:00,  1.43it/s, stage=train, epoch=50, loss=1.6, acc=0.129, correct=1, sample_num=32]\n",
            "100%|██████████| 16/16 [00:07<00:00,  2.26it/s, stage=val, epoch=50, loss=3.22, acc=0.116, correct=0, sample_num=20]\n",
            "100%|██████████| 33/33 [00:23<00:00,  1.41it/s, stage=train, epoch=51, loss=1.52, acc=0.15, correct=4, sample_num=32]\n",
            "100%|██████████| 16/16 [00:06<00:00,  2.38it/s, stage=val, epoch=51, loss=3.15, acc=0.122, correct=0, sample_num=20]\n",
            "100%|██████████| 33/33 [00:24<00:00,  1.37it/s, stage=train, epoch=52, loss=1.27, acc=0.127, correct=4, sample_num=32]\n",
            "100%|██████████| 16/16 [00:06<00:00,  2.34it/s, stage=val, epoch=52, loss=3.02, acc=0.11, correct=0, sample_num=20]\n",
            "100%|██████████| 33/33 [00:23<00:00,  1.42it/s, stage=train, epoch=53, loss=1.33, acc=0.134, correct=6, sample_num=32]\n",
            "100%|██████████| 16/16 [00:07<00:00,  2.23it/s, stage=val, epoch=53, loss=3.32, acc=0.09, correct=1, sample_num=20]\n",
            "100%|██████████| 33/33 [00:22<00:00,  1.44it/s, stage=train, epoch=54, loss=1.31, acc=0.126, correct=6, sample_num=32]\n",
            "100%|██████████| 16/16 [00:06<00:00,  2.29it/s, stage=val, epoch=54, loss=3.18, acc=0.116, correct=1, sample_num=20]\n",
            "100%|██████████| 33/33 [00:23<00:00,  1.41it/s, stage=train, epoch=55, loss=1.38, acc=0.128, correct=7, sample_num=32]\n",
            "100%|██████████| 16/16 [00:06<00:00,  2.39it/s, stage=val, epoch=55, loss=3.32, acc=0.116, correct=2, sample_num=20]\n",
            "100%|██████████| 33/33 [00:23<00:00,  1.41it/s, stage=train, epoch=56, loss=1.4, acc=0.113, correct=2, sample_num=32]\n",
            "100%|██████████| 16/16 [00:07<00:00,  2.19it/s, stage=val, epoch=56, loss=2.76, acc=0.112, correct=2, sample_num=20]\n",
            "100%|██████████| 33/33 [00:23<00:00,  1.38it/s, stage=train, epoch=57, loss=1.38, acc=0.136, correct=6, sample_num=32]\n",
            "100%|██████████| 16/16 [00:07<00:00,  2.26it/s, stage=val, epoch=57, loss=3.51, acc=0.08, correct=1, sample_num=20]\n",
            "100%|██████████| 33/33 [00:23<00:00,  1.41it/s, stage=train, epoch=58, loss=1.32, acc=0.151, correct=5, sample_num=32]\n",
            "100%|██████████| 16/16 [00:06<00:00,  2.36it/s, stage=val, epoch=58, loss=3.14, acc=0.114, correct=5, sample_num=20]\n",
            "100%|██████████| 33/33 [00:23<00:00,  1.41it/s, stage=train, epoch=59, loss=1.39, acc=0.124, correct=3, sample_num=32]\n",
            "100%|██████████| 16/16 [00:07<00:00,  2.25it/s, stage=val, epoch=59, loss=3.4, acc=0.088, correct=0, sample_num=20]\n"
          ]
        },
        {
          "name": "stdout",
          "output_type": "stream",
          "text": [
            "=> loading checkpoint '/content/drive/MyDrive/EA-age/Project/train_models/res_regepoch002_4.99088_13.6860.pth'\n",
            "=> loaded checkpoint '/content/drive/MyDrive/EA-age/Project/train_models/res_regepoch002_4.99088_13.6860.pth' (epoch 3)\n"
          ]
        },
        {
          "name": "stderr",
          "output_type": "stream",
          "text": [
            "100%|██████████| 16/16 [07:11<00:00, 26.97s/it, stage=val, epoch=0, loss=6.3, acc=0.076, correct=0, sample_num=20]"
          ]
        },
        {
          "name": "stdout",
          "output_type": "stream",
          "text": [
            "6.302915786743164 0.076 14.522778\n"
          ]
        },
        {
          "name": "stderr",
          "output_type": "stream",
          "text": [
            "\n"
          ]
        }
      ],
      "source": [
        "device = \"cuda\" if torch.cuda.is_available() else \"cpu\"\n",
        "model = get_regression_model()\n",
        "model = model.to(device)\n",
        "optimizer = torch.optim.Adam(model.parameters())\n",
        "\n",
        "tr_loss_r, tr_acc_r, v_loss_r, v_acc_r, mae_r, test_metrics_r = training_reg(model, optimizer, train_loader, val_loader, test_loader, 60, path + 'train_models/res_reg',path + 'values_training_reg.csv', device)\n",
        "test_loss_r, test_acc_r, test_mae_r = test_metrics_r[0], test_metrics_r[1], test_metrics_r[2]"
      ]
    },
    {
      "cell_type": "code",
      "execution_count": null,
      "metadata": {
        "colab": {
          "base_uri": "https://localhost:8080/",
          "height": 1000
        },
        "id": "cmu205NIRtcM",
        "outputId": "555503d8-01e0-4b39-b49f-ce803fd2f79f"
      },
      "outputs": [
        {
          "data": {
            "image/png": "[encoded data removed]",
            "text/plain": [
              "<Figure size 640x480 with 1 Axes>"
            ]
          },
          "metadata": {},
          "output_type": "display_data"
        },
        {
          "data": {
            "image/png": "[encoded data removed]",
            "text/plain": [
              "<Figure size 640x480 with 1 Axes>"
            ]
          },
          "metadata": {},
          "output_type": "display_data"
        },
        {
          "data": {
            "image/png": "[encoded data removed]",
            "text/plain": [
              "<Figure size 640x480 with 1 Axes>"
            ]
          },
          "metadata": {},
          "output_type": "display_data"
        }
      ],
      "source": [
        "epochs = np.arange(1,61)\n",
        "plt.plot(epochs, v_loss_r, label = 'v')\n",
        "plt.plot(epochs, tr_loss_r)\n",
        "plt.legend()\n",
        "plt.show()\n",
        "plt.plot(epochs, v_acc_r, label='v')\n",
        "plt.plot(epochs, tr_acc_r)\n",
        "plt.legend()\n",
        "plt.show()\n",
        "plt.plot(epochs, mae_r)\n",
        "plt.show()\n"
      ]
    },
    {
      "cell_type": "markdown",
      "metadata": {
        "id": "mf7I7ifJWsUZ"
      },
      "source": [
        "### Classification model"
      ]
    },
    {
      "cell_type": "code",
      "execution_count": null,
      "metadata": {
        "colab": {
          "base_uri": "https://localhost:8080/"
        },
        "id": "pUGgn1iw7EsW",
        "outputId": "6bd2b3d7-c57c-4304-83ba-bf7574143642"
      },
      "outputs": [
        {
          "name": "stderr",
          "output_type": "stream",
          "text": [
            "100%|██████████| 33/33 [07:17<00:00, 13.25s/it, stage=train, epoch=0, loss=0.131, acc=0.0312, correct=3, sample_num=32]\n",
            "100%|██████████| 16/16 [03:20<00:00, 12.55s/it, stage=val, epoch=0, loss=0.165, acc=0.042, correct=1, sample_num=20]\n"
          ]
        },
        {
          "name": "stdout",
          "output_type": "stream",
          "text": [
            "=> [epoch 000] best val mae was improved from 10000.000 to 12.232\n"
          ]
        },
        {
          "name": "stderr",
          "output_type": "stream",
          "text": [
            "100%|██████████| 33/33 [00:29<00:00,  1.13it/s, stage=train, epoch=1, loss=0.126, acc=0.035, correct=1, sample_num=32]\n",
            "100%|██████████| 16/16 [00:04<00:00,  3.43it/s, stage=val, epoch=1, loss=0.139, acc=0.046, correct=0, sample_num=20]\n"
          ]
        },
        {
          "name": "stdout",
          "output_type": "stream",
          "text": [
            "=> [epoch 001] best val mae was improved from 12.232 to 12.011\n"
          ]
        },
        {
          "name": "stderr",
          "output_type": "stream",
          "text": [
            "100%|██████████| 33/33 [00:18<00:00,  1.81it/s, stage=train, epoch=2, loss=0.125, acc=0.0322, correct=1, sample_num=32]\n",
            "100%|██████████| 16/16 [00:04<00:00,  3.47it/s, stage=val, epoch=2, loss=0.133, acc=0.044, correct=3, sample_num=20]\n"
          ]
        },
        {
          "name": "stdout",
          "output_type": "stream",
          "text": [
            "=> [epoch 002] best val mae was improved from 12.011 to 11.571\n"
          ]
        },
        {
          "name": "stderr",
          "output_type": "stream",
          "text": [
            "100%|██████████| 33/33 [00:18<00:00,  1.81it/s, stage=train, epoch=3, loss=0.123, acc=0.0341, correct=0, sample_num=32]\n",
            "100%|██████████| 16/16 [00:04<00:00,  3.53it/s, stage=val, epoch=3, loss=0.146, acc=0.052, correct=2, sample_num=20]\n",
            "100%|██████████| 33/33 [00:17<00:00,  1.89it/s, stage=train, epoch=4, loss=0.122, acc=0.0294, correct=2, sample_num=32]\n",
            "100%|██████████| 16/16 [00:04<00:00,  3.41it/s, stage=val, epoch=4, loss=0.134, acc=0.038, correct=1, sample_num=20]\n",
            "100%|██████████| 33/33 [00:17<00:00,  1.93it/s, stage=train, epoch=5, loss=0.121, acc=0.0426, correct=1, sample_num=32]\n",
            "100%|██████████| 16/16 [00:04<00:00,  3.59it/s, stage=val, epoch=5, loss=0.129, acc=0.05, correct=1, sample_num=20]\n"
          ]
        },
        {
          "name": "stdout",
          "output_type": "stream",
          "text": [
            "=> [epoch 005] best val mae was improved from 11.571 to 11.352\n"
          ]
        },
        {
          "name": "stderr",
          "output_type": "stream",
          "text": [
            "100%|██████████| 33/33 [00:18<00:00,  1.79it/s, stage=train, epoch=6, loss=0.121, acc=0.0407, correct=1, sample_num=32]\n",
            "100%|██████████| 16/16 [00:04<00:00,  3.38it/s, stage=val, epoch=6, loss=0.128, acc=0.036, correct=1, sample_num=20]\n",
            "100%|██████████| 33/33 [00:17<00:00,  1.89it/s, stage=train, epoch=7, loss=0.12, acc=0.0417, correct=3, sample_num=32]\n",
            "100%|██████████| 16/16 [00:04<00:00,  3.43it/s, stage=val, epoch=7, loss=0.132, acc=0.038, correct=1, sample_num=20]\n"
          ]
        },
        {
          "name": "stdout",
          "output_type": "stream",
          "text": [
            "=> [epoch 007] best val mae was improved from 11.352 to 11.027\n"
          ]
        },
        {
          "name": "stderr",
          "output_type": "stream",
          "text": [
            "100%|██████████| 33/33 [00:18<00:00,  1.79it/s, stage=train, epoch=8, loss=0.12, acc=0.0369, correct=2, sample_num=32]\n",
            "100%|██████████| 16/16 [00:04<00:00,  3.42it/s, stage=val, epoch=8, loss=0.135, acc=0.03, correct=0, sample_num=20]\n",
            "100%|██████████| 33/33 [00:17<00:00,  1.93it/s, stage=train, epoch=9, loss=0.118, acc=0.0436, correct=1, sample_num=32]\n",
            "100%|██████████| 16/16 [00:04<00:00,  3.40it/s, stage=val, epoch=9, loss=0.127, acc=0.044, correct=0, sample_num=20]\n",
            "100%|██████████| 33/33 [00:17<00:00,  1.90it/s, stage=train, epoch=10, loss=0.118, acc=0.0426, correct=1, sample_num=32]\n",
            "100%|██████████| 16/16 [00:04<00:00,  3.44it/s, stage=val, epoch=10, loss=0.124, acc=0.06, correct=2, sample_num=20]\n"
          ]
        },
        {
          "name": "stdout",
          "output_type": "stream",
          "text": [
            "=> [epoch 010] best val mae was improved from 11.027 to 10.519\n"
          ]
        },
        {
          "name": "stderr",
          "output_type": "stream",
          "text": [
            "100%|██████████| 33/33 [00:18<00:00,  1.81it/s, stage=train, epoch=11, loss=0.116, acc=0.0473, correct=1, sample_num=32]\n",
            "100%|██████████| 16/16 [00:04<00:00,  3.55it/s, stage=val, epoch=11, loss=0.125, acc=0.038, correct=2, sample_num=20]\n",
            "100%|██████████| 33/33 [00:17<00:00,  1.93it/s, stage=train, epoch=12, loss=0.115, acc=0.0407, correct=0, sample_num=32]\n",
            "100%|██████████| 16/16 [00:04<00:00,  3.43it/s, stage=val, epoch=12, loss=0.13, acc=0.038, correct=3, sample_num=20]\n",
            "100%|██████████| 33/33 [00:17<00:00,  1.88it/s, stage=train, epoch=13, loss=0.115, acc=0.0492, correct=1, sample_num=32]\n",
            "100%|██████████| 16/16 [00:04<00:00,  3.45it/s, stage=val, epoch=13, loss=0.125, acc=0.058, correct=1, sample_num=20]\n"
          ]
        },
        {
          "name": "stdout",
          "output_type": "stream",
          "text": [
            "=> [epoch 013] best val mae was improved from 10.519 to 10.131\n"
          ]
        },
        {
          "name": "stderr",
          "output_type": "stream",
          "text": [
            "100%|██████████| 33/33 [00:18<00:00,  1.82it/s, stage=train, epoch=14, loss=0.114, acc=0.0426, correct=1, sample_num=32]\n",
            "100%|██████████| 16/16 [00:04<00:00,  3.49it/s, stage=val, epoch=14, loss=0.121, acc=0.05, correct=3, sample_num=20]\n"
          ]
        },
        {
          "name": "stdout",
          "output_type": "stream",
          "text": [
            "=> [epoch 014] best val mae was improved from 10.131 to 9.921\n"
          ]
        },
        {
          "name": "stderr",
          "output_type": "stream",
          "text": [
            "100%|██████████| 33/33 [00:18<00:00,  1.81it/s, stage=train, epoch=15, loss=0.113, acc=0.0445, correct=3, sample_num=32]\n",
            "100%|██████████| 16/16 [00:04<00:00,  3.49it/s, stage=val, epoch=15, loss=0.124, acc=0.056, correct=2, sample_num=20]\n"
          ]
        },
        {
          "name": "stdout",
          "output_type": "stream",
          "text": [
            "=> [epoch 015] best val mae was improved from 9.921 to 9.672\n"
          ]
        },
        {
          "name": "stderr",
          "output_type": "stream",
          "text": [
            "100%|██████████| 33/33 [00:18<00:00,  1.82it/s, stage=train, epoch=16, loss=0.113, acc=0.0521, correct=2, sample_num=32]\n",
            "100%|██████████| 16/16 [00:04<00:00,  3.43it/s, stage=val, epoch=16, loss=0.123, acc=0.058, correct=1, sample_num=20]\n"
          ]
        },
        {
          "name": "stdout",
          "output_type": "stream",
          "text": [
            "=> [epoch 016] best val mae was improved from 9.672 to 9.244\n"
          ]
        },
        {
          "name": "stderr",
          "output_type": "stream",
          "text": [
            "100%|██████████| 33/33 [00:18<00:00,  1.80it/s, stage=train, epoch=17, loss=0.115, acc=0.0341, correct=3, sample_num=32]\n",
            "100%|██████████| 16/16 [00:04<00:00,  3.53it/s, stage=val, epoch=17, loss=0.122, acc=0.032, correct=2, sample_num=20]\n",
            "100%|██████████| 33/33 [00:17<00:00,  1.93it/s, stage=train, epoch=18, loss=0.111, acc=0.0436, correct=0, sample_num=32]\n",
            "100%|██████████| 16/16 [00:04<00:00,  3.22it/s, stage=val, epoch=18, loss=0.127, acc=0.042, correct=1, sample_num=20]\n"
          ]
        },
        {
          "name": "stdout",
          "output_type": "stream",
          "text": [
            "=> [epoch 018] best val mae was improved from 9.244 to 8.970\n"
          ]
        },
        {
          "name": "stderr",
          "output_type": "stream",
          "text": [
            "100%|██████████| 33/33 [00:18<00:00,  1.82it/s, stage=train, epoch=19, loss=0.111, acc=0.0483, correct=1, sample_num=32]\n",
            "100%|██████████| 16/16 [00:04<00:00,  3.48it/s, stage=val, epoch=19, loss=0.118, acc=0.052, correct=1, sample_num=20]\n"
          ]
        },
        {
          "name": "stdout",
          "output_type": "stream",
          "text": [
            "=> [epoch 019] best val mae was improved from 8.970 to 8.433\n"
          ]
        },
        {
          "name": "stderr",
          "output_type": "stream",
          "text": [
            "100%|██████████| 33/33 [00:18<00:00,  1.83it/s, stage=train, epoch=20, loss=0.111, acc=0.0511, correct=2, sample_num=32]\n",
            "100%|██████████| 16/16 [00:04<00:00,  3.39it/s, stage=val, epoch=20, loss=0.122, acc=0.042, correct=1, sample_num=20]\n",
            "100%|██████████| 33/33 [00:17<00:00,  1.91it/s, stage=train, epoch=21, loss=0.11, acc=0.0634, correct=1, sample_num=32]\n",
            "100%|██████████| 16/16 [00:04<00:00,  3.44it/s, stage=val, epoch=21, loss=0.121, acc=0.064, correct=1, sample_num=20]\n",
            "100%|██████████| 33/33 [00:17<00:00,  1.90it/s, stage=train, epoch=22, loss=0.11, acc=0.0426, correct=0, sample_num=32]\n",
            "100%|██████████| 16/16 [00:04<00:00,  3.44it/s, stage=val, epoch=22, loss=0.126, acc=0.06, correct=0, sample_num=20]\n",
            "100%|██████████| 33/33 [00:17<00:00,  1.92it/s, stage=train, epoch=23, loss=0.109, acc=0.0634, correct=3, sample_num=32]\n",
            "100%|██████████| 16/16 [00:04<00:00,  3.50it/s, stage=val, epoch=23, loss=0.118, acc=0.054, correct=0, sample_num=20]\n"
          ]
        },
        {
          "name": "stdout",
          "output_type": "stream",
          "text": [
            "=> [epoch 023] best val mae was improved from 8.433 to 8.307\n"
          ]
        },
        {
          "name": "stderr",
          "output_type": "stream",
          "text": [
            "100%|██████████| 33/33 [00:17<00:00,  1.85it/s, stage=train, epoch=24, loss=0.11, acc=0.0568, correct=2, sample_num=32]\n",
            "100%|██████████| 16/16 [00:04<00:00,  3.31it/s, stage=val, epoch=24, loss=0.116, acc=0.052, correct=3, sample_num=20]\n"
          ]
        },
        {
          "name": "stdout",
          "output_type": "stream",
          "text": [
            "=> [epoch 024] best val mae was improved from 8.307 to 8.054\n"
          ]
        },
        {
          "name": "stderr",
          "output_type": "stream",
          "text": [
            "100%|██████████| 33/33 [00:18<00:00,  1.81it/s, stage=train, epoch=25, loss=0.108, acc=0.0653, correct=2, sample_num=32]\n",
            "100%|██████████| 16/16 [00:04<00:00,  3.49it/s, stage=val, epoch=25, loss=0.121, acc=0.07, correct=0, sample_num=20]\n",
            "100%|██████████| 33/33 [00:17<00:00,  1.93it/s, stage=train, epoch=26, loss=0.108, acc=0.0568, correct=3, sample_num=32]\n",
            "100%|██████████| 16/16 [00:04<00:00,  3.24it/s, stage=val, epoch=26, loss=0.117, acc=0.06, correct=3, sample_num=20]\n"
          ]
        },
        {
          "name": "stdout",
          "output_type": "stream",
          "text": [
            "=> [epoch 026] best val mae was improved from 8.054 to 7.878\n"
          ]
        },
        {
          "name": "stderr",
          "output_type": "stream",
          "text": [
            "100%|██████████| 33/33 [00:18<00:00,  1.81it/s, stage=train, epoch=27, loss=0.109, acc=0.0549, correct=3, sample_num=32]\n",
            "100%|██████████| 16/16 [00:04<00:00,  3.40it/s, stage=val, epoch=27, loss=0.117, acc=0.044, correct=2, sample_num=20]\n",
            "100%|██████████| 33/33 [00:17<00:00,  1.93it/s, stage=train, epoch=28, loss=0.108, acc=0.0464, correct=1, sample_num=32]\n",
            "100%|██████████| 16/16 [00:04<00:00,  3.32it/s, stage=val, epoch=28, loss=0.115, acc=0.072, correct=3, sample_num=20]\n"
          ]
        },
        {
          "name": "stdout",
          "output_type": "stream",
          "text": [
            "=> [epoch 028] best val mae was improved from 7.878 to 7.828\n"
          ]
        },
        {
          "name": "stderr",
          "output_type": "stream",
          "text": [
            "100%|██████████| 33/33 [00:17<00:00,  1.86it/s, stage=train, epoch=29, loss=0.107, acc=0.0597, correct=6, sample_num=32]\n",
            "100%|██████████| 16/16 [00:04<00:00,  3.42it/s, stage=val, epoch=29, loss=0.116, acc=0.044, correct=1, sample_num=20]\n"
          ]
        },
        {
          "name": "stdout",
          "output_type": "stream",
          "text": [
            "=> [epoch 029] best val mae was improved from 7.828 to 7.755\n"
          ]
        },
        {
          "name": "stderr",
          "output_type": "stream",
          "text": [
            "100%|██████████| 33/33 [00:17<00:00,  1.88it/s, stage=train, epoch=30, loss=0.107, acc=0.0559, correct=0, sample_num=32]\n",
            "100%|██████████| 16/16 [00:04<00:00,  3.29it/s, stage=val, epoch=30, loss=0.122, acc=0.052, correct=3, sample_num=20]\n",
            "100%|██████████| 33/33 [00:17<00:00,  1.89it/s, stage=train, epoch=31, loss=0.107, acc=0.0606, correct=1, sample_num=32]\n",
            "100%|██████████| 16/16 [00:04<00:00,  3.56it/s, stage=val, epoch=31, loss=0.115, acc=0.064, correct=1, sample_num=20]\n",
            "100%|██████████| 33/33 [00:16<00:00,  1.96it/s, stage=train, epoch=32, loss=0.106, acc=0.0502, correct=1, sample_num=32]\n",
            "100%|██████████| 16/16 [00:04<00:00,  3.55it/s, stage=val, epoch=32, loss=0.115, acc=0.05, correct=2, sample_num=20]\n",
            "100%|██████████| 33/33 [00:16<00:00,  1.97it/s, stage=train, epoch=33, loss=0.107, acc=0.0549, correct=1, sample_num=32]\n",
            "100%|██████████| 16/16 [00:04<00:00,  3.48it/s, stage=val, epoch=33, loss=0.115, acc=0.07, correct=4, sample_num=20]\n",
            "100%|██████████| 33/33 [00:16<00:00,  2.00it/s, stage=train, epoch=34, loss=0.106, acc=0.0644, correct=1, sample_num=32]\n",
            "100%|██████████| 16/16 [00:04<00:00,  3.49it/s, stage=val, epoch=34, loss=0.117, acc=0.072, correct=1, sample_num=20]\n",
            "100%|██████████| 33/33 [00:16<00:00,  2.00it/s, stage=train, epoch=35, loss=0.106, acc=0.0606, correct=3, sample_num=32]\n",
            "100%|██████████| 16/16 [00:04<00:00,  3.53it/s, stage=val, epoch=35, loss=0.117, acc=0.058, correct=2, sample_num=20]\n",
            "100%|██████████| 33/33 [00:16<00:00,  1.96it/s, stage=train, epoch=36, loss=0.106, acc=0.0502, correct=0, sample_num=32]\n",
            "100%|██████████| 16/16 [00:04<00:00,  3.47it/s, stage=val, epoch=36, loss=0.116, acc=0.062, correct=2, sample_num=20]\n",
            "100%|██████████| 33/33 [00:16<00:00,  1.96it/s, stage=train, epoch=37, loss=0.106, acc=0.0587, correct=0, sample_num=32]\n",
            "100%|██████████| 16/16 [00:04<00:00,  3.63it/s, stage=val, epoch=37, loss=0.121, acc=0.042, correct=1, sample_num=20]\n",
            "100%|██████████| 33/33 [00:16<00:00,  1.99it/s, stage=train, epoch=38, loss=0.105, acc=0.0663, correct=0, sample_num=32]\n",
            "100%|██████████| 16/16 [00:04<00:00,  3.46it/s, stage=val, epoch=38, loss=0.113, acc=0.082, correct=3, sample_num=20]\n"
          ]
        },
        {
          "name": "stdout",
          "output_type": "stream",
          "text": [
            "=> [epoch 038] best val mae was improved from 7.755 to 7.436\n"
          ]
        },
        {
          "name": "stderr",
          "output_type": "stream",
          "text": [
            "100%|██████████| 33/33 [00:17<00:00,  1.89it/s, stage=train, epoch=39, loss=0.105, acc=0.0597, correct=0, sample_num=32]\n",
            "100%|██████████| 16/16 [00:04<00:00,  3.50it/s, stage=val, epoch=39, loss=0.117, acc=0.064, correct=3, sample_num=20]\n",
            "100%|██████████| 33/33 [00:16<00:00,  1.95it/s, stage=train, epoch=40, loss=0.105, acc=0.0578, correct=3, sample_num=32]\n",
            "100%|██████████| 16/16 [00:04<00:00,  3.45it/s, stage=val, epoch=40, loss=0.117, acc=0.066, correct=1, sample_num=20]\n",
            "100%|██████████| 33/33 [00:16<00:00,  1.96it/s, stage=train, epoch=41, loss=0.105, acc=0.0691, correct=0, sample_num=32]\n",
            "100%|██████████| 16/16 [00:04<00:00,  3.49it/s, stage=val, epoch=41, loss=0.121, acc=0.064, correct=0, sample_num=20]\n",
            "100%|██████████| 33/33 [00:17<00:00,  1.92it/s, stage=train, epoch=42, loss=0.105, acc=0.0559, correct=3, sample_num=32]\n",
            "100%|██████████| 16/16 [00:04<00:00,  3.52it/s, stage=val, epoch=42, loss=0.114, acc=0.068, correct=2, sample_num=20]\n"
          ]
        },
        {
          "name": "stdout",
          "output_type": "stream",
          "text": [
            "=> [epoch 042] best val mae was improved from 7.436 to 7.355\n"
          ]
        },
        {
          "name": "stderr",
          "output_type": "stream",
          "text": [
            "100%|██████████| 33/33 [00:18<00:00,  1.80it/s, stage=train, epoch=43, loss=0.104, acc=0.0625, correct=2, sample_num=32]\n",
            "100%|██████████| 16/16 [00:04<00:00,  3.41it/s, stage=val, epoch=43, loss=0.117, acc=0.064, correct=2, sample_num=20]\n",
            "100%|██████████| 33/33 [00:17<00:00,  1.90it/s, stage=train, epoch=44, loss=0.104, acc=0.0672, correct=4, sample_num=32]\n",
            "100%|██████████| 16/16 [00:04<00:00,  3.24it/s, stage=val, epoch=44, loss=0.12, acc=0.06, correct=1, sample_num=20]\n",
            "100%|██████████| 33/33 [00:16<00:00,  1.95it/s, stage=train, epoch=45, loss=0.103, acc=0.0758, correct=2, sample_num=32]\n",
            "100%|██████████| 16/16 [00:04<00:00,  3.39it/s, stage=val, epoch=45, loss=0.118, acc=0.054, correct=0, sample_num=20]\n",
            "100%|██████████| 33/33 [00:17<00:00,  1.89it/s, stage=train, epoch=46, loss=0.103, acc=0.0578, correct=5, sample_num=32]\n",
            "100%|██████████| 16/16 [00:04<00:00,  3.46it/s, stage=val, epoch=46, loss=0.118, acc=0.062, correct=1, sample_num=20]\n",
            "100%|██████████| 33/33 [00:17<00:00,  1.91it/s, stage=train, epoch=47, loss=0.103, acc=0.0691, correct=3, sample_num=32]\n",
            "100%|██████████| 16/16 [00:04<00:00,  3.41it/s, stage=val, epoch=47, loss=0.116, acc=0.046, correct=1, sample_num=20]\n",
            "100%|██████████| 33/33 [00:17<00:00,  1.91it/s, stage=train, epoch=48, loss=0.103, acc=0.0549, correct=1, sample_num=32]\n",
            "100%|██████████| 16/16 [00:04<00:00,  3.64it/s, stage=val, epoch=48, loss=0.113, acc=0.074, correct=3, sample_num=20]\n",
            "100%|██████████| 33/33 [00:17<00:00,  1.90it/s, stage=train, epoch=49, loss=0.103, acc=0.072, correct=1, sample_num=32]\n",
            "100%|██████████| 16/16 [00:04<00:00,  3.41it/s, stage=val, epoch=49, loss=0.117, acc=0.058, correct=1, sample_num=20]\n",
            "100%|██████████| 33/33 [00:17<00:00,  1.88it/s, stage=train, epoch=50, loss=0.103, acc=0.0587, correct=3, sample_num=32]\n",
            "100%|██████████| 16/16 [00:04<00:00,  3.36it/s, stage=val, epoch=50, loss=0.123, acc=0.066, correct=1, sample_num=20]\n",
            "100%|██████████| 33/33 [00:17<00:00,  1.89it/s, stage=train, epoch=51, loss=0.102, acc=0.0739, correct=2, sample_num=32]\n",
            "100%|██████████| 16/16 [00:04<00:00,  3.38it/s, stage=val, epoch=51, loss=0.118, acc=0.068, correct=1, sample_num=20]\n",
            "100%|██████████| 33/33 [00:17<00:00,  1.93it/s, stage=train, epoch=52, loss=0.103, acc=0.0748, correct=0, sample_num=32]\n",
            "100%|██████████| 16/16 [00:04<00:00,  3.43it/s, stage=val, epoch=52, loss=0.115, acc=0.074, correct=0, sample_num=20]\n",
            "100%|██████████| 33/33 [00:17<00:00,  1.91it/s, stage=train, epoch=53, loss=0.101, acc=0.0663, correct=1, sample_num=32]\n",
            "100%|██████████| 16/16 [00:04<00:00,  3.49it/s, stage=val, epoch=53, loss=0.113, acc=0.066, correct=1, sample_num=20]\n",
            "100%|██████████| 33/33 [00:17<00:00,  1.89it/s, stage=train, epoch=54, loss=0.102, acc=0.071, correct=2, sample_num=32]\n",
            "100%|██████████| 16/16 [00:04<00:00,  3.46it/s, stage=val, epoch=54, loss=0.115, acc=0.058, correct=1, sample_num=20]\n",
            "100%|██████████| 33/33 [00:17<00:00,  1.87it/s, stage=train, epoch=55, loss=0.102, acc=0.0606, correct=1, sample_num=32]\n",
            "100%|██████████| 16/16 [00:04<00:00,  3.40it/s, stage=val, epoch=55, loss=0.115, acc=0.078, correct=1, sample_num=20]\n",
            "100%|██████████| 33/33 [00:17<00:00,  1.91it/s, stage=train, epoch=56, loss=0.101, acc=0.072, correct=3, sample_num=32]\n",
            "100%|██████████| 16/16 [00:04<00:00,  3.37it/s, stage=val, epoch=56, loss=0.114, acc=0.066, correct=3, sample_num=20]\n"
          ]
        },
        {
          "name": "stdout",
          "output_type": "stream",
          "text": [
            "=> [epoch 056] best val mae was improved from 7.355 to 7.335\n"
          ]
        },
        {
          "name": "stderr",
          "output_type": "stream",
          "text": [
            "100%|██████████| 33/33 [00:19<00:00,  1.73it/s, stage=train, epoch=57, loss=0.102, acc=0.0691, correct=2, sample_num=32]\n",
            "100%|██████████| 16/16 [00:05<00:00,  2.92it/s, stage=val, epoch=57, loss=0.115, acc=0.064, correct=2, sample_num=20]\n",
            "100%|██████████| 33/33 [00:17<00:00,  1.87it/s, stage=train, epoch=58, loss=0.1, acc=0.0748, correct=7, sample_num=32]\n",
            "100%|██████████| 16/16 [00:04<00:00,  3.32it/s, stage=val, epoch=58, loss=0.112, acc=0.08, correct=0, sample_num=20]\n",
            "100%|██████████| 33/33 [00:17<00:00,  1.93it/s, stage=train, epoch=59, loss=0.101, acc=0.0644, correct=1, sample_num=32]\n",
            "100%|██████████| 16/16 [00:04<00:00,  3.55it/s, stage=val, epoch=59, loss=0.114, acc=0.088, correct=0, sample_num=20]\n"
          ]
        },
        {
          "name": "stdout",
          "output_type": "stream",
          "text": [
            "=> [epoch 059] best val mae was improved from 7.335 to 7.230\n",
            "=> loading checkpoint '/content/drive/MyDrive/EA-age/Project/train_models/res_1000_base_epoch059_0.11392_7.2295.pth'\n",
            "=> loaded checkpoint '/content/drive/MyDrive/EA-age/Project/train_models/res_1000_base_epoch059_0.11392_7.2295.pth' (epoch 60)\n"
          ]
        },
        {
          "name": "stderr",
          "output_type": "stream",
          "text": [
            "100%|██████████| 16/16 [03:22<00:00, 12.68s/it, stage=val, epoch=0, loss=0.12, acc=0.062, correct=0, sample_num=20]"
          ]
        },
        {
          "name": "stdout",
          "output_type": "stream",
          "text": [
            "0.11981658172607422 0.062 7.633030133447444\n"
          ]
        },
        {
          "name": "stderr",
          "output_type": "stream",
          "text": [
            "\n"
          ]
        }
      ],
      "source": [
        "device = \"cuda\" if torch.cuda.is_available() else \"cpu\"\n",
        "model_c = get_model()\n",
        "model_c = model_c.to(device)\n",
        "optimizer = torch.optim.Adam(model_c.parameters())\n",
        "\n",
        "tr_loss, tr_acc, v_loss, v_acc, mae, test_metrics = training(model_c, optimizer, train_loader, val_loader, test_loader, 60, path + 'train_models/res_1000_base_',path + 'values_training_1000bas.csv', device)\n",
        "test_loss, test_acc, test_mae = test_metrics[0], test_metrics[1], test_metrics[2]"
      ]
    },
    {
      "cell_type": "code",
      "execution_count": null,
      "metadata": {
        "colab": {
          "base_uri": "https://localhost:8080/",
          "height": 1000
        },
        "id": "Tw_-RYrS137X",
        "outputId": "f00fbd70-40f3-40a0-c4ae-fd1a3572e1c4"
      },
      "outputs": [
        {
          "data": {
            "image/png": "[encoded data removed]",
            "text/plain": [
              "<Figure size 640x480 with 1 Axes>"
            ]
          },
          "metadata": {},
          "output_type": "display_data"
        },
        {
          "data": {
            "image/png": "[encoded data removed]",
            "text/plain": [
              "<Figure size 640x480 with 1 Axes>"
            ]
          },
          "metadata": {},
          "output_type": "display_data"
        },
        {
          "data": {
            "image/png": "[encoded data removed]",
            "text/plain": [
              "<Figure size 640x480 with 1 Axes>"
            ]
          },
          "metadata": {},
          "output_type": "display_data"
        }
      ],
      "source": [
        "epochs = np.arange(1,61)\n",
        "plt.plot(epochs, v_loss, label = 'v')\n",
        "plt.plot(epochs, tr_loss)\n",
        "plt.legend()\n",
        "plt.show()\n",
        "plt.plot(epochs, v_acc, label='v')\n",
        "plt.plot(epochs, tr_acc)\n",
        "plt.legend()\n",
        "plt.show()\n",
        "plt.plot(epochs, mae)\n",
        "plt.show()\n"
      ]
    },
    {
      "cell_type": "markdown",
      "metadata": {
        "id": "1LoJpZF_m6Sl"
      },
      "source": [
        "### Other models"
      ]
    },
    {
      "cell_type": "code",
      "execution_count": null,
      "metadata": {
        "colab": {
          "base_uri": "https://localhost:8080/",
          "height": 426
        },
        "id": "r_9YAHFsm_px",
        "outputId": "02992937-1ea4-400a-a2c9-d23c33078b14"
      },
      "outputs": [
        {
          "name": "stderr",
          "output_type": "stream",
          "text": [
            "100%|██████████| 67/67 [00:17<00:00,  3.86it/s, stage=train, epoch=0, loss=0.323, acc=0.0308, correct=1, sample_num=16]\n",
            "100%|██████████| 32/32 [00:05<00:00,  6.35it/s, stage=val, epoch=0, loss=0.274, acc=0.022, correct=0, sample_num=4]\n"
          ]
        },
        {
          "name": "stdout",
          "output_type": "stream",
          "text": [
            "=> [epoch 000] best val mae was improved from 10000.000 to 12.926\n"
          ]
        },
        {
          "ename": "KeyboardInterrupt",
          "evalue": "",
          "output_type": "error",
          "traceback": [
            "\u001b[0;31m---------------------------------------------------------------------------\u001b[0m",
            "\u001b[0;31mKeyboardInterrupt\u001b[0m                         Traceback (most recent call last)",
            "\u001b[0;32m<ipython-input-22-bdabd36b318a>\u001b[0m in \u001b[0;36m<cell line: 6>\u001b[0;34m()\u001b[0m\n\u001b[1;32m      4\u001b[0m \u001b[0moptimizer\u001b[0m \u001b[0;34m=\u001b[0m \u001b[0mtorch\u001b[0m\u001b[0;34m.\u001b[0m\u001b[0moptim\u001b[0m\u001b[0;34m.\u001b[0m\u001b[0mAdam\u001b[0m\u001b[0;34m(\u001b[0m\u001b[0mmodel_c\u001b[0m\u001b[0;34m.\u001b[0m\u001b[0mparameters\u001b[0m\u001b[0;34m(\u001b[0m\u001b[0;34m)\u001b[0m\u001b[0;34m)\u001b[0m\u001b[0;34m\u001b[0m\u001b[0;34m\u001b[0m\u001b[0m\n\u001b[1;32m      5\u001b[0m \u001b[0;34m\u001b[0m\u001b[0m\n\u001b[0;32m----> 6\u001b[0;31m \u001b[0mtr_loss\u001b[0m\u001b[0;34m,\u001b[0m \u001b[0mtr_acc\u001b[0m\u001b[0;34m,\u001b[0m \u001b[0mv_loss\u001b[0m\u001b[0;34m,\u001b[0m \u001b[0mv_acc\u001b[0m\u001b[0;34m,\u001b[0m \u001b[0mmae\u001b[0m\u001b[0;34m,\u001b[0m \u001b[0mtest_metrics\u001b[0m \u001b[0;34m=\u001b[0m \u001b[0mtraining\u001b[0m\u001b[0;34m(\u001b[0m\u001b[0mmodel_c\u001b[0m\u001b[0;34m,\u001b[0m \u001b[0moptimizer\u001b[0m\u001b[0;34m,\u001b[0m \u001b[0mtrain_loader\u001b[0m\u001b[0;34m,\u001b[0m \u001b[0mval_loader\u001b[0m\u001b[0;34m,\u001b[0m \u001b[0mtest_loader\u001b[0m\u001b[0;34m,\u001b[0m \u001b[0;36m60\u001b[0m\u001b[0;34m,\u001b[0m \u001b[0mpath\u001b[0m \u001b[0;34m+\u001b[0m \u001b[0;34m'train_models/pna_1000_base_'\u001b[0m\u001b[0;34m,\u001b[0m\u001b[0mpath\u001b[0m \u001b[0;34m+\u001b[0m \u001b[0;34m'values_training_1000pna.csv'\u001b[0m\u001b[0;34m,\u001b[0m \u001b[0mdevice\u001b[0m\u001b[0;34m)\u001b[0m\u001b[0;34m\u001b[0m\u001b[0;34m\u001b[0m\u001b[0m\n\u001b[0m\u001b[1;32m      7\u001b[0m \u001b[0mtest_loss\u001b[0m\u001b[0;34m,\u001b[0m \u001b[0mtest_acc\u001b[0m\u001b[0;34m,\u001b[0m \u001b[0mtest_mae\u001b[0m \u001b[0;34m=\u001b[0m \u001b[0mtest_metrics\u001b[0m\u001b[0;34m[\u001b[0m\u001b[0;36m0\u001b[0m\u001b[0;34m]\u001b[0m\u001b[0;34m,\u001b[0m \u001b[0mtest_metrics\u001b[0m\u001b[0;34m[\u001b[0m\u001b[0;36m1\u001b[0m\u001b[0;34m]\u001b[0m\u001b[0;34m,\u001b[0m \u001b[0mtest_metrics\u001b[0m\u001b[0;34m[\u001b[0m\u001b[0;36m2\u001b[0m\u001b[0;34m]\u001b[0m\u001b[0;34m\u001b[0m\u001b[0;34m\u001b[0m\u001b[0m\n",
            "\u001b[0;32m<ipython-input-13-7e30216e4f9a>\u001b[0m in \u001b[0;36mtraining\u001b[0;34m(model, optimizer, train_loader, val_loader, test_loader, epochs, save_path, csv_path, device)\u001b[0m\n\u001b[1;32m     22\u001b[0m                     \u001b[0mmodel_state_dict\u001b[0m \u001b[0;34m=\u001b[0m \u001b[0mmodel\u001b[0m\u001b[0;34m.\u001b[0m\u001b[0mstate_dict\u001b[0m\u001b[0;34m(\u001b[0m\u001b[0;34m)\u001b[0m\u001b[0;34m\u001b[0m\u001b[0;34m\u001b[0m\u001b[0m\n\u001b[1;32m     23\u001b[0m                     \u001b[0mmodel_path\u001b[0m \u001b[0;34m=\u001b[0m \u001b[0msave_path\u001b[0m \u001b[0;34m+\u001b[0m \u001b[0;34m\"epoch{:03d}_{:.5f}_{:.4f}.pth\"\u001b[0m\u001b[0;34m.\u001b[0m\u001b[0mformat\u001b[0m\u001b[0;34m(\u001b[0m\u001b[0mepoch\u001b[0m\u001b[0;34m,\u001b[0m \u001b[0mval_loss\u001b[0m\u001b[0;34m,\u001b[0m \u001b[0mval_mae\u001b[0m\u001b[0;34m)\u001b[0m\u001b[0;34m\u001b[0m\u001b[0;34m\u001b[0m\u001b[0m\n\u001b[0;32m---> 24\u001b[0;31m                     torch.save(\n\u001b[0m\u001b[1;32m     25\u001b[0m                         {\n\u001b[1;32m     26\u001b[0m                             \u001b[0;34m'epoch'\u001b[0m\u001b[0;34m:\u001b[0m \u001b[0mepoch\u001b[0m \u001b[0;34m+\u001b[0m \u001b[0;36m1\u001b[0m\u001b[0;34m,\u001b[0m\u001b[0;34m\u001b[0m\u001b[0;34m\u001b[0m\u001b[0m\n",
            "\u001b[0;32m/usr/local/lib/python3.10/dist-packages/torch/serialization.py\u001b[0m in \u001b[0;36msave\u001b[0;34m(obj, f, pickle_module, pickle_protocol, _use_new_zipfile_serialization, _disable_byteorder_record)\u001b[0m\n\u001b[1;32m    627\u001b[0m     \u001b[0;32mif\u001b[0m \u001b[0m_use_new_zipfile_serialization\u001b[0m\u001b[0;34m:\u001b[0m\u001b[0;34m\u001b[0m\u001b[0;34m\u001b[0m\u001b[0m\n\u001b[1;32m    628\u001b[0m         \u001b[0;32mwith\u001b[0m \u001b[0m_open_zipfile_writer\u001b[0m\u001b[0;34m(\u001b[0m\u001b[0mf\u001b[0m\u001b[0;34m)\u001b[0m \u001b[0;32mas\u001b[0m \u001b[0mopened_zipfile\u001b[0m\u001b[0;34m:\u001b[0m\u001b[0;34m\u001b[0m\u001b[0;34m\u001b[0m\u001b[0m\n\u001b[0;32m--> 629\u001b[0;31m             \u001b[0m_save\u001b[0m\u001b[0;34m(\u001b[0m\u001b[0mobj\u001b[0m\u001b[0;34m,\u001b[0m \u001b[0mopened_zipfile\u001b[0m\u001b[0;34m,\u001b[0m \u001b[0mpickle_module\u001b[0m\u001b[0;34m,\u001b[0m \u001b[0mpickle_protocol\u001b[0m\u001b[0;34m,\u001b[0m \u001b[0m_disable_byteorder_record\u001b[0m\u001b[0;34m)\u001b[0m\u001b[0;34m\u001b[0m\u001b[0;34m\u001b[0m\u001b[0m\n\u001b[0m\u001b[1;32m    630\u001b[0m             \u001b[0;32mreturn\u001b[0m\u001b[0;34m\u001b[0m\u001b[0;34m\u001b[0m\u001b[0m\n\u001b[1;32m    631\u001b[0m     \u001b[0;32melse\u001b[0m\u001b[0;34m:\u001b[0m\u001b[0;34m\u001b[0m\u001b[0;34m\u001b[0m\u001b[0m\n",
            "\u001b[0;32m/usr/local/lib/python3.10/dist-packages/torch/serialization.py\u001b[0m in \u001b[0;36m_save\u001b[0;34m(obj, zip_file, pickle_module, pickle_protocol, _disable_byteorder_record)\u001b[0m\n\u001b[1;32m    861\u001b[0m         \u001b[0;31m# Now that it is on the CPU we can directly copy it into the zip file\u001b[0m\u001b[0;34m\u001b[0m\u001b[0;34m\u001b[0m\u001b[0m\n\u001b[1;32m    862\u001b[0m         \u001b[0mnum_bytes\u001b[0m \u001b[0;34m=\u001b[0m \u001b[0mstorage\u001b[0m\u001b[0;34m.\u001b[0m\u001b[0mnbytes\u001b[0m\u001b[0;34m(\u001b[0m\u001b[0;34m)\u001b[0m\u001b[0;34m\u001b[0m\u001b[0;34m\u001b[0m\u001b[0m\n\u001b[0;32m--> 863\u001b[0;31m         \u001b[0mzip_file\u001b[0m\u001b[0;34m.\u001b[0m\u001b[0mwrite_record\u001b[0m\u001b[0;34m(\u001b[0m\u001b[0mname\u001b[0m\u001b[0;34m,\u001b[0m \u001b[0mstorage\u001b[0m\u001b[0;34m.\u001b[0m\u001b[0mdata_ptr\u001b[0m\u001b[0;34m(\u001b[0m\u001b[0;34m)\u001b[0m\u001b[0;34m,\u001b[0m \u001b[0mnum_bytes\u001b[0m\u001b[0;34m)\u001b[0m\u001b[0;34m\u001b[0m\u001b[0;34m\u001b[0m\u001b[0m\n\u001b[0m\u001b[1;32m    864\u001b[0m \u001b[0;34m\u001b[0m\u001b[0m\n\u001b[1;32m    865\u001b[0m \u001b[0;34m\u001b[0m\u001b[0m\n",
            "\u001b[0;31mKeyboardInterrupt\u001b[0m: "
          ]
        }
      ],
      "source": [
        "device = \"cuda\" if torch.cuda.is_available() else \"cpu\"\n",
        "model_c = get_model('vgg16')\n",
        "model_c = model_c.to(device)\n",
        "optimizer = torch.optim.Adam(model_c.parameters())\n",
        "\n",
        "tr_loss, tr_acc, v_loss, v_acc, mae, test_metrics = training(model_c, optimizer, train_loader, val_loader, test_loader, 60, path + 'train_models/vgg2_1000_base_',path + 'values_training_1000vgg2.csv', device)\n",
        "test_loss, test_acc, test_mae = test_metrics[0], test_metrics[1], test_metrics[2]"
      ]
    },
    {
      "cell_type": "code",
      "execution_count": null,
      "metadata": {
        "id": "AVSNOsiQsm0Y"
      },
      "outputs": [],
      "source": [
        "torch.cuda.empty_cache()"
      ]
    },
    {
      "cell_type": "code",
      "execution_count": null,
      "metadata": {
        "colab": {
          "base_uri": "https://localhost:8080/"
        },
        "id": "ggOFpEtbsaXh",
        "outputId": "531c4766-805b-4c29-807c-4a81dfbf5d4c"
      },
      "outputs": [
        {
          "name": "stderr",
          "output_type": "stream",
          "text": [
            "100%|██████████| 67/67 [00:26<00:00,  2.54it/s, stage=train, epoch=0, loss=0.264, acc=0.041, correct=1, sample_num=16]\n",
            "100%|██████████| 32/32 [00:06<00:00,  4.90it/s, stage=val, epoch=0, loss=3.24, acc=0.02, correct=0, sample_num=4]\n"
          ]
        },
        {
          "name": "stdout",
          "output_type": "stream",
          "text": [
            "=> [epoch 000] best val mae was improved from 10000.000 to 12.738\n"
          ]
        },
        {
          "name": "stderr",
          "output_type": "stream",
          "text": [
            "100%|██████████| 67/67 [00:26<00:00,  2.51it/s, stage=train, epoch=1, loss=0.255, acc=0.0373, correct=1, sample_num=16]\n",
            "100%|██████████| 32/32 [00:06<00:00,  5.12it/s, stage=val, epoch=1, loss=0.285, acc=0.034, correct=0, sample_num=4]\n"
          ]
        },
        {
          "name": "stdout",
          "output_type": "stream",
          "text": [
            "=> [epoch 001] best val mae was improved from 12.738 to 12.478\n"
          ]
        },
        {
          "name": "stderr",
          "output_type": "stream",
          "text": [
            "100%|██████████| 67/67 [00:28<00:00,  2.37it/s, stage=train, epoch=2, loss=0.251, acc=0.0392, correct=0, sample_num=16]\n",
            "100%|██████████| 32/32 [00:06<00:00,  5.12it/s, stage=val, epoch=2, loss=0.276, acc=0.016, correct=0, sample_num=4]\n"
          ]
        },
        {
          "name": "stdout",
          "output_type": "stream",
          "text": [
            "=> [epoch 002] best val mae was improved from 12.478 to 12.377\n"
          ]
        },
        {
          "name": "stderr",
          "output_type": "stream",
          "text": [
            "100%|██████████| 67/67 [00:27<00:00,  2.40it/s, stage=train, epoch=3, loss=0.253, acc=0.0243, correct=1, sample_num=16]\n",
            "100%|██████████| 32/32 [00:06<00:00,  5.25it/s, stage=val, epoch=3, loss=0.27, acc=0.034, correct=0, sample_num=4]\n",
            "100%|██████████| 67/67 [00:26<00:00,  2.56it/s, stage=train, epoch=4, loss=0.252, acc=0.0354, correct=0, sample_num=16]\n",
            "100%|██████████| 32/32 [00:06<00:00,  5.09it/s, stage=val, epoch=4, loss=0.28, acc=0.056, correct=0, sample_num=4]\n",
            "100%|██████████| 67/67 [00:25<00:00,  2.59it/s, stage=train, epoch=5, loss=0.252, acc=0.0382, correct=0, sample_num=16]\n",
            "100%|██████████| 32/32 [00:06<00:00,  5.15it/s, stage=val, epoch=5, loss=0.327, acc=0.02, correct=0, sample_num=4]\n",
            "100%|██████████| 67/67 [00:25<00:00,  2.58it/s, stage=train, epoch=6, loss=0.252, acc=0.0289, correct=0, sample_num=16]\n",
            "100%|██████████| 32/32 [00:06<00:00,  5.14it/s, stage=val, epoch=6, loss=0.285, acc=0.03, correct=0, sample_num=4]\n",
            "100%|██████████| 67/67 [00:26<00:00,  2.58it/s, stage=train, epoch=7, loss=0.251, acc=0.0466, correct=1, sample_num=16]\n",
            "100%|██████████| 32/32 [00:06<00:00,  5.17it/s, stage=val, epoch=7, loss=0.268, acc=0.054, correct=0, sample_num=4]\n",
            "100%|██████████| 67/67 [00:25<00:00,  2.60it/s, stage=train, epoch=8, loss=0.252, acc=0.0401, correct=1, sample_num=16]\n",
            "100%|██████████| 32/32 [00:06<00:00,  5.27it/s, stage=val, epoch=8, loss=0.271, acc=0.04, correct=1, sample_num=4]\n",
            "100%|██████████| 67/67 [00:26<00:00,  2.54it/s, stage=train, epoch=9, loss=0.252, acc=0.0457, correct=0, sample_num=16]\n",
            "100%|██████████| 32/32 [00:06<00:00,  5.23it/s, stage=val, epoch=9, loss=0.277, acc=0.028, correct=0, sample_num=4]\n",
            "100%|██████████| 67/67 [00:25<00:00,  2.58it/s, stage=train, epoch=10, loss=0.252, acc=0.0317, correct=0, sample_num=16]\n",
            "100%|██████████| 32/32 [00:06<00:00,  5.00it/s, stage=val, epoch=10, loss=0.286, acc=0.026, correct=0, sample_num=4]\n",
            "100%|██████████| 67/67 [00:25<00:00,  2.60it/s, stage=train, epoch=11, loss=0.252, acc=0.0429, correct=1, sample_num=16]\n",
            "100%|██████████| 32/32 [00:06<00:00,  5.23it/s, stage=val, epoch=11, loss=0.271, acc=0.038, correct=0, sample_num=4]\n",
            "100%|██████████| 67/67 [00:26<00:00,  2.56it/s, stage=train, epoch=12, loss=0.251, acc=0.041, correct=0, sample_num=16]\n",
            "100%|██████████| 32/32 [00:06<00:00,  5.20it/s, stage=val, epoch=12, loss=0.269, acc=0.02, correct=0, sample_num=4]\n"
          ]
        },
        {
          "name": "stdout",
          "output_type": "stream",
          "text": [
            "=> [epoch 012] best val mae was improved from 12.377 to 12.331\n"
          ]
        },
        {
          "name": "stderr",
          "output_type": "stream",
          "text": [
            "100%|██████████| 67/67 [00:27<00:00,  2.40it/s, stage=train, epoch=13, loss=0.25, acc=0.055, correct=1, sample_num=16]\n",
            "100%|██████████| 32/32 [00:06<00:00,  5.29it/s, stage=val, epoch=13, loss=0.265, acc=0.032, correct=0, sample_num=4]\n",
            "100%|██████████| 67/67 [00:25<00:00,  2.60it/s, stage=train, epoch=14, loss=0.251, acc=0.041, correct=2, sample_num=16]\n",
            "100%|██████████| 32/32 [00:06<00:00,  5.06it/s, stage=val, epoch=14, loss=0.265, acc=0.04, correct=1, sample_num=4]\n",
            "100%|██████████| 67/67 [00:25<00:00,  2.58it/s, stage=train, epoch=15, loss=0.25, acc=0.0252, correct=0, sample_num=16]\n",
            "100%|██████████| 32/32 [00:06<00:00,  5.17it/s, stage=val, epoch=15, loss=0.264, acc=0.04, correct=0, sample_num=4]\n",
            "100%|██████████| 67/67 [00:25<00:00,  2.58it/s, stage=train, epoch=16, loss=0.253, acc=0.0243, correct=0, sample_num=16]\n",
            "100%|██████████| 32/32 [00:06<00:00,  5.24it/s, stage=val, epoch=16, loss=0.27, acc=0.038, correct=0, sample_num=4]\n"
          ]
        },
        {
          "name": "stdout",
          "output_type": "stream",
          "text": [
            "=> [epoch 016] best val mae was improved from 12.331 to 12.253\n"
          ]
        },
        {
          "name": "stderr",
          "output_type": "stream",
          "text": [
            "100%|██████████| 67/67 [00:27<00:00,  2.40it/s, stage=train, epoch=17, loss=0.25, acc=0.0457, correct=2, sample_num=16]\n",
            "100%|██████████| 32/32 [00:06<00:00,  5.24it/s, stage=val, epoch=17, loss=0.267, acc=0.026, correct=0, sample_num=4]\n",
            "100%|██████████| 67/67 [00:25<00:00,  2.60it/s, stage=train, epoch=18, loss=0.251, acc=0.041, correct=0, sample_num=16]\n",
            "100%|██████████| 32/32 [00:06<00:00,  5.10it/s, stage=val, epoch=18, loss=0.275, acc=0.028, correct=0, sample_num=4]\n"
          ]
        },
        {
          "name": "stdout",
          "output_type": "stream",
          "text": [
            "=> [epoch 018] best val mae was improved from 12.253 to 12.177\n"
          ]
        },
        {
          "name": "stderr",
          "output_type": "stream",
          "text": [
            "100%|██████████| 67/67 [00:26<00:00,  2.53it/s, stage=train, epoch=19, loss=0.25, acc=0.0271, correct=0, sample_num=16]\n",
            "100%|██████████| 32/32 [00:06<00:00,  5.11it/s, stage=val, epoch=19, loss=0.266, acc=0.02, correct=0, sample_num=4]\n",
            "100%|██████████| 67/67 [00:26<00:00,  2.54it/s, stage=train, epoch=20, loss=0.249, acc=0.0448, correct=1, sample_num=16]\n",
            "100%|██████████| 32/32 [00:06<00:00,  5.08it/s, stage=val, epoch=20, loss=0.265, acc=0.052, correct=0, sample_num=4]\n",
            "100%|██████████| 67/67 [00:25<00:00,  2.58it/s, stage=train, epoch=21, loss=0.249, acc=0.0243, correct=1, sample_num=16]\n",
            "100%|██████████| 32/32 [00:06<00:00,  5.07it/s, stage=val, epoch=21, loss=0.266, acc=0.04, correct=1, sample_num=4]\n",
            "100%|██████████| 67/67 [00:26<00:00,  2.57it/s, stage=train, epoch=22, loss=0.25, acc=0.0243, correct=0, sample_num=16]\n",
            "100%|██████████| 32/32 [00:06<00:00,  5.12it/s, stage=val, epoch=22, loss=0.263, acc=0.028, correct=0, sample_num=4]\n",
            "100%|██████████| 67/67 [00:25<00:00,  2.59it/s, stage=train, epoch=23, loss=0.251, acc=0.0317, correct=1, sample_num=16]\n",
            "100%|██████████| 32/32 [00:06<00:00,  5.12it/s, stage=val, epoch=23, loss=0.28, acc=0.044, correct=0, sample_num=4]\n"
          ]
        },
        {
          "name": "stdout",
          "output_type": "stream",
          "text": [
            "=> [epoch 023] best val mae was improved from 12.177 to 12.165\n"
          ]
        },
        {
          "name": "stderr",
          "output_type": "stream",
          "text": [
            "100%|██████████| 67/67 [00:27<00:00,  2.40it/s, stage=train, epoch=24, loss=0.252, acc=0.0317, correct=0, sample_num=16]\n",
            "100%|██████████| 32/32 [00:06<00:00,  5.14it/s, stage=val, epoch=24, loss=0.265, acc=0.038, correct=0, sample_num=4]\n",
            "100%|██████████| 67/67 [00:25<00:00,  2.60it/s, stage=train, epoch=25, loss=0.25, acc=0.028, correct=0, sample_num=16]\n",
            "100%|██████████| 32/32 [00:06<00:00,  5.26it/s, stage=val, epoch=25, loss=0.266, acc=0.052, correct=0, sample_num=4]\n",
            "100%|██████████| 67/67 [00:25<00:00,  2.58it/s, stage=train, epoch=26, loss=0.25, acc=0.0382, correct=0, sample_num=16]\n",
            "100%|██████████| 32/32 [00:06<00:00,  5.16it/s, stage=val, epoch=26, loss=0.268, acc=0.028, correct=0, sample_num=4]\n",
            "100%|██████████| 67/67 [00:26<00:00,  2.56it/s, stage=train, epoch=27, loss=0.251, acc=0.0345, correct=1, sample_num=16]\n",
            "100%|██████████| 32/32 [00:06<00:00,  5.16it/s, stage=val, epoch=27, loss=0.269, acc=0.044, correct=0, sample_num=4]\n",
            "100%|██████████| 67/67 [00:25<00:00,  2.60it/s, stage=train, epoch=28, loss=0.249, acc=0.0215, correct=0, sample_num=16]\n",
            "100%|██████████| 32/32 [00:06<00:00,  5.12it/s, stage=val, epoch=28, loss=0.266, acc=0.034, correct=0, sample_num=4]\n",
            "100%|██████████| 67/67 [00:26<00:00,  2.54it/s, stage=train, epoch=29, loss=0.25, acc=0.0308, correct=0, sample_num=16]\n",
            "100%|██████████| 32/32 [00:06<00:00,  5.15it/s, stage=val, epoch=29, loss=0.264, acc=0.028, correct=0, sample_num=4]\n",
            "100%|██████████| 67/67 [00:26<00:00,  2.58it/s, stage=train, epoch=30, loss=0.25, acc=0.0364, correct=1, sample_num=16]\n",
            "100%|██████████| 32/32 [00:06<00:00,  5.26it/s, stage=val, epoch=30, loss=0.263, acc=0.026, correct=0, sample_num=4]\n",
            "100%|██████████| 67/67 [00:26<00:00,  2.55it/s, stage=train, epoch=31, loss=0.25, acc=0.0252, correct=0, sample_num=16]\n",
            "100%|██████████| 32/32 [00:06<00:00,  5.13it/s, stage=val, epoch=31, loss=0.267, acc=0.026, correct=0, sample_num=4]\n",
            "100%|██████████| 67/67 [00:26<00:00,  2.56it/s, stage=train, epoch=32, loss=0.248, acc=0.0438, correct=0, sample_num=16]\n",
            "100%|██████████| 32/32 [00:06<00:00,  5.12it/s, stage=val, epoch=32, loss=0.261, acc=0.028, correct=0, sample_num=4]\n",
            "100%|██████████| 67/67 [00:26<00:00,  2.57it/s, stage=train, epoch=33, loss=0.25, acc=0.0364, correct=1, sample_num=16]\n",
            "100%|██████████| 32/32 [00:06<00:00,  5.19it/s, stage=val, epoch=33, loss=0.263, acc=0.04, correct=1, sample_num=4]\n",
            "100%|██████████| 67/67 [00:26<00:00,  2.56it/s, stage=train, epoch=34, loss=0.25, acc=0.0364, correct=2, sample_num=16]\n",
            "100%|██████████| 32/32 [00:06<00:00,  5.10it/s, stage=val, epoch=34, loss=0.263, acc=0.028, correct=0, sample_num=4]\n",
            "100%|██████████| 67/67 [00:26<00:00,  2.54it/s, stage=train, epoch=35, loss=0.249, acc=0.0336, correct=0, sample_num=16]\n",
            "100%|██████████| 32/32 [00:06<00:00,  5.16it/s, stage=val, epoch=35, loss=0.264, acc=0.03, correct=0, sample_num=4]\n",
            "100%|██████████| 67/67 [00:26<00:00,  2.55it/s, stage=train, epoch=36, loss=0.248, acc=0.0336, correct=1, sample_num=16]\n",
            "100%|██████████| 32/32 [00:06<00:00,  5.09it/s, stage=val, epoch=36, loss=0.318, acc=0.02, correct=0, sample_num=4]\n",
            "100%|██████████| 67/67 [00:26<00:00,  2.55it/s, stage=train, epoch=37, loss=0.25, acc=0.0438, correct=0, sample_num=16]\n",
            "100%|██████████| 32/32 [00:06<00:00,  5.09it/s, stage=val, epoch=37, loss=0.263, acc=0.028, correct=0, sample_num=4]\n",
            "100%|██████████| 67/67 [00:26<00:00,  2.55it/s, stage=train, epoch=38, loss=0.25, acc=0.0382, correct=0, sample_num=16]\n",
            "100%|██████████| 32/32 [00:06<00:00,  5.04it/s, stage=val, epoch=38, loss=0.264, acc=0.04, correct=1, sample_num=4]\n",
            "100%|██████████| 67/67 [00:26<00:00,  2.50it/s, stage=train, epoch=39, loss=0.249, acc=0.0308, correct=0, sample_num=16]\n",
            "100%|██████████| 32/32 [00:06<00:00,  5.06it/s, stage=val, epoch=39, loss=0.265, acc=0.026, correct=0, sample_num=4]\n",
            "100%|██████████| 67/67 [00:26<00:00,  2.52it/s, stage=train, epoch=40, loss=0.249, acc=0.0373, correct=0, sample_num=16]\n",
            "100%|██████████| 32/32 [00:06<00:00,  4.96it/s, stage=val, epoch=40, loss=0.268, acc=0.016, correct=0, sample_num=4]\n",
            "100%|██████████| 67/67 [00:26<00:00,  2.51it/s, stage=train, epoch=41, loss=0.25, acc=0.0354, correct=1, sample_num=16]\n",
            "100%|██████████| 32/32 [00:06<00:00,  4.90it/s, stage=val, epoch=41, loss=0.266, acc=0.026, correct=0, sample_num=4]\n",
            "100%|██████████| 67/67 [00:26<00:00,  2.49it/s, stage=train, epoch=42, loss=0.251, acc=0.0326, correct=0, sample_num=16]\n",
            "100%|██████████| 32/32 [00:06<00:00,  5.09it/s, stage=val, epoch=42, loss=0.264, acc=0.028, correct=0, sample_num=4]\n",
            "100%|██████████| 67/67 [00:26<00:00,  2.56it/s, stage=train, epoch=43, loss=0.249, acc=0.0401, correct=1, sample_num=16]\n",
            "100%|██████████| 32/32 [00:06<00:00,  4.96it/s, stage=val, epoch=43, loss=0.267, acc=0.024, correct=0, sample_num=4]\n",
            "100%|██████████| 67/67 [00:26<00:00,  2.56it/s, stage=train, epoch=44, loss=0.25, acc=0.0317, correct=0, sample_num=16]\n",
            "100%|██████████| 32/32 [00:06<00:00,  5.22it/s, stage=val, epoch=44, loss=0.264, acc=0.028, correct=0, sample_num=4]\n",
            "100%|██████████| 67/67 [00:26<00:00,  2.57it/s, stage=train, epoch=45, loss=0.249, acc=0.0354, correct=0, sample_num=16]\n",
            "100%|██████████| 32/32 [00:06<00:00,  5.09it/s, stage=val, epoch=45, loss=0.261, acc=0.038, correct=1, sample_num=4]\n",
            "100%|██████████| 67/67 [00:26<00:00,  2.56it/s, stage=train, epoch=46, loss=0.249, acc=0.0364, correct=0, sample_num=16]\n",
            "100%|██████████| 32/32 [00:06<00:00,  5.08it/s, stage=val, epoch=46, loss=0.264, acc=0.026, correct=0, sample_num=4]\n",
            "100%|██████████| 67/67 [00:26<00:00,  2.54it/s, stage=train, epoch=47, loss=0.248, acc=0.0364, correct=0, sample_num=16]\n",
            "100%|██████████| 32/32 [00:06<00:00,  5.19it/s, stage=val, epoch=47, loss=0.263, acc=0.04, correct=0, sample_num=4]\n",
            "100%|██████████| 67/67 [00:26<00:00,  2.56it/s, stage=train, epoch=48, loss=0.248, acc=0.0401, correct=0, sample_num=16]\n",
            "100%|██████████| 32/32 [00:06<00:00,  5.03it/s, stage=val, epoch=48, loss=0.264, acc=0.04, correct=1, sample_num=4]\n"
          ]
        },
        {
          "name": "stdout",
          "output_type": "stream",
          "text": [
            "=> [epoch 048] best val mae was improved from 12.165 to 12.109\n"
          ]
        },
        {
          "name": "stderr",
          "output_type": "stream",
          "text": [
            "100%|██████████| 67/67 [00:27<00:00,  2.41it/s, stage=train, epoch=49, loss=0.248, acc=0.0354, correct=1, sample_num=16]\n",
            "100%|██████████| 32/32 [00:06<00:00,  5.03it/s, stage=val, epoch=49, loss=0.26, acc=0.026, correct=0, sample_num=4]\n",
            "100%|██████████| 67/67 [00:26<00:00,  2.52it/s, stage=train, epoch=50, loss=0.246, acc=0.0308, correct=0, sample_num=16]\n",
            "100%|██████████| 32/32 [00:06<00:00,  5.04it/s, stage=val, epoch=50, loss=0.261, acc=0.036, correct=0, sample_num=4]\n"
          ]
        },
        {
          "name": "stdout",
          "output_type": "stream",
          "text": [
            "=> [epoch 050] best val mae was improved from 12.109 to 12.036\n"
          ]
        },
        {
          "name": "stderr",
          "output_type": "stream",
          "text": [
            "100%|██████████| 67/67 [00:28<00:00,  2.36it/s, stage=train, epoch=51, loss=0.247, acc=0.0289, correct=0, sample_num=16]\n",
            "100%|██████████| 32/32 [00:06<00:00,  5.06it/s, stage=val, epoch=51, loss=0.258, acc=0.024, correct=0, sample_num=4]\n",
            "100%|██████████| 67/67 [00:26<00:00,  2.57it/s, stage=train, epoch=52, loss=0.246, acc=0.0373, correct=1, sample_num=16]\n",
            "100%|██████████| 32/32 [00:06<00:00,  5.23it/s, stage=val, epoch=52, loss=0.265, acc=0.022, correct=0, sample_num=4]\n",
            "100%|██████████| 67/67 [00:26<00:00,  2.55it/s, stage=train, epoch=53, loss=0.247, acc=0.0345, correct=0, sample_num=16]\n",
            "100%|██████████| 32/32 [00:06<00:00,  5.16it/s, stage=val, epoch=53, loss=0.26, acc=0.04, correct=1, sample_num=4]\n",
            "100%|██████████| 67/67 [00:26<00:00,  2.55it/s, stage=train, epoch=54, loss=0.244, acc=0.0326, correct=1, sample_num=16]\n",
            "100%|██████████| 32/32 [00:06<00:00,  5.10it/s, stage=val, epoch=54, loss=0.266, acc=0.026, correct=0, sample_num=4]\n",
            "100%|██████████| 67/67 [00:26<00:00,  2.57it/s, stage=train, epoch=55, loss=0.245, acc=0.0317, correct=1, sample_num=16]\n",
            "100%|██████████| 32/32 [00:06<00:00,  4.97it/s, stage=val, epoch=55, loss=0.255, acc=0.032, correct=1, sample_num=4]\n"
          ]
        },
        {
          "name": "stdout",
          "output_type": "stream",
          "text": [
            "=> [epoch 055] best val mae was improved from 12.036 to 11.944\n"
          ]
        },
        {
          "name": "stderr",
          "output_type": "stream",
          "text": [
            "100%|██████████| 67/67 [00:28<00:00,  2.37it/s, stage=train, epoch=56, loss=0.246, acc=0.0289, correct=0, sample_num=16]\n",
            "100%|██████████| 32/32 [00:06<00:00,  5.08it/s, stage=val, epoch=56, loss=0.274, acc=0.04, correct=1, sample_num=4]\n",
            "100%|██████████| 67/67 [00:25<00:00,  2.58it/s, stage=train, epoch=57, loss=0.245, acc=0.0299, correct=0, sample_num=16]\n",
            "100%|██████████| 32/32 [00:06<00:00,  4.95it/s, stage=val, epoch=57, loss=0.263, acc=0.032, correct=0, sample_num=4]\n",
            "100%|██████████| 67/67 [00:26<00:00,  2.57it/s, stage=train, epoch=58, loss=0.243, acc=0.0317, correct=0, sample_num=16]\n",
            "100%|██████████| 32/32 [00:06<00:00,  5.11it/s, stage=val, epoch=58, loss=0.256, acc=0.04, correct=0, sample_num=4]\n",
            "100%|██████████| 67/67 [00:26<00:00,  2.51it/s, stage=train, epoch=59, loss=0.242, acc=0.042, correct=1, sample_num=16]\n",
            "100%|██████████| 32/32 [00:06<00:00,  5.08it/s, stage=val, epoch=59, loss=0.266, acc=0.038, correct=0, sample_num=4]\n"
          ]
        },
        {
          "name": "stdout",
          "output_type": "stream",
          "text": [
            "=> [epoch 059] best val mae was improved from 11.944 to 11.841\n",
            "=> loading checkpoint '/content/drive/MyDrive/EA-age/Project/train_models/pna_1000_base_epoch059_0.26572_11.8410.pth'\n",
            "=> loaded checkpoint '/content/drive/MyDrive/EA-age/Project/train_models/pna_1000_base_epoch059_0.26572_11.8410.pth' (epoch 60)\n"
          ]
        },
        {
          "name": "stderr",
          "output_type": "stream",
          "text": [
            "100%|██████████| 32/32 [00:06<00:00,  4.74it/s, stage=val, epoch=0, loss=0.265, acc=0.054, correct=0, sample_num=4]"
          ]
        },
        {
          "name": "stdout",
          "output_type": "stream",
          "text": [
            "0.2651539826393127 0.054 11.17476644252578\n"
          ]
        },
        {
          "name": "stderr",
          "output_type": "stream",
          "text": [
            "\n"
          ]
        }
      ],
      "source": [
        "device = \"cuda\" if torch.cuda.is_available() else \"cpu\"\n",
        "model_c = get_model('pnasnet5large')\n",
        "model_c = model_c.to(device)\n",
        "optimizer = torch.optim.Adam(model_c.parameters())\n",
        "\n",
        "tr_loss, tr_acc, v_loss, v_acc, mae, test_metrics = training(model_c, optimizer, train_loader, val_loader, test_loader, 60, path + 'train_models/pna_1000_base_',path + 'values_training_1000pna.csv', device)\n",
        "test_loss, test_acc, test_mae = test_metrics[0], test_metrics[1], test_metrics[2]"
      ]
    },
    {
      "cell_type": "code",
      "execution_count": null,
      "metadata": {
        "id": "wF8lgo0v9VKm"
      },
      "outputs": [],
      "source": [
        "class ConvNextFinetune(nn.Module):\n",
        "    \"\"\" Model using ConvNext as backbone with a linear classifier \"\"\"\n",
        "    def __init__(self, num_classes, frozen = False):\n",
        "        super().__init__()\n",
        "\n",
        "        self.backbone = ConvNextForImageClassification.from_pretrained(\"facebook/convnext-large-224\")\n",
        "        self.backbone.classifier = nn.Identity()\n",
        "        if frozen:\n",
        "            for param in self.backbone.parameters():\n",
        "                param.requires_grad = False\n",
        "\n",
        "        self.classifier = nn.Linear(1536, num_classes)\n",
        "\n",
        "    def forward(self, x):\n",
        "        x = self.backbone(x).logits\n",
        "        x = self.classifier(x)\n",
        "        return x\n"
      ]
    },
    {
      "cell_type": "code",
      "execution_count": null,
      "metadata": {
        "id": "gEI0wPuU9ff7"
      },
      "outputs": [],
      "source": [
        "#model = ConvNextForImageClassification.from_pretrained(\"facebook/convnext-tiny-224\")\n",
        "#model = torch.hub.load('pytorch/vision:v0.10.0', 'alexnet', pretrained=True)\n",
        "#model = torchvision.models.vit_b_16(\"ViT_B_16_Weights.DEFAULT\")"
      ]
    },
    {
      "cell_type": "code",
      "execution_count": null,
      "metadata": {
        "id": "1pr9qhQX2FqP"
      },
      "outputs": [],
      "source": [
        "torch.cuda.empty_cache()"
      ]
    },
    {
      "cell_type": "code",
      "execution_count": null,
      "metadata": {
        "colab": {
          "base_uri": "https://localhost:8080/"
        },
        "id": "TXVVqIW_2DyW",
        "outputId": "3b366186-04c4-46bd-d4ef-849942abede2"
      },
      "outputs": [
        {
          "name": "stderr",
          "output_type": "stream",
          "text": [
            "/usr/local/lib/python3.10/dist-packages/torchvision/models/_utils.py:135: UserWarning: Using 'weights' as positional parameter(s) is deprecated since 0.13 and may be removed in the future. Please use keyword parameter(s) instead.\n",
            "  warnings.warn(\n",
            "100%|██████████| 33/33 [00:18<00:00,  1.79it/s, stage=train, epoch=0, loss=0.134, acc=0.0237, correct=0, sample_num=32]\n",
            "100%|██████████| 16/16 [00:05<00:00,  2.93it/s, stage=val, epoch=0, loss=0.138, acc=0.036, correct=0, sample_num=20]\n"
          ]
        },
        {
          "name": "stdout",
          "output_type": "stream",
          "text": [
            "=> [epoch 000] best val mae was improved from 10000.000 to 12.251\n"
          ]
        },
        {
          "name": "stderr",
          "output_type": "stream",
          "text": [
            "100%|██████████| 33/33 [00:20<00:00,  1.62it/s, stage=train, epoch=1, loss=0.127, acc=0.0379, correct=2, sample_num=32]\n",
            "100%|██████████| 16/16 [00:05<00:00,  2.92it/s, stage=val, epoch=1, loss=0.135, acc=0.034, correct=2, sample_num=20]\n",
            "100%|██████████| 33/33 [00:18<00:00,  1.77it/s, stage=train, epoch=2, loss=0.127, acc=0.0312, correct=0, sample_num=32]\n",
            "100%|██████████| 16/16 [00:05<00:00,  2.87it/s, stage=val, epoch=2, loss=0.135, acc=0.032, correct=1, sample_num=20]\n",
            "100%|██████████| 33/33 [00:18<00:00,  1.78it/s, stage=train, epoch=3, loss=0.126, acc=0.0227, correct=0, sample_num=32]\n",
            "100%|██████████| 16/16 [00:05<00:00,  2.93it/s, stage=val, epoch=3, loss=0.134, acc=0.032, correct=1, sample_num=20]\n",
            "100%|██████████| 33/33 [00:18<00:00,  1.81it/s, stage=train, epoch=4, loss=0.126, acc=0.0275, correct=0, sample_num=32]\n",
            "100%|██████████| 16/16 [00:05<00:00,  2.96it/s, stage=val, epoch=4, loss=0.134, acc=0.052, correct=0, sample_num=20]\n",
            "100%|██████████| 33/33 [00:18<00:00,  1.79it/s, stage=train, epoch=5, loss=0.126, acc=0.0341, correct=0, sample_num=32]\n",
            "100%|██████████| 16/16 [00:05<00:00,  2.97it/s, stage=val, epoch=5, loss=0.134, acc=0.036, correct=1, sample_num=20]\n",
            "100%|██████████| 33/33 [00:18<00:00,  1.79it/s, stage=train, epoch=6, loss=0.126, acc=0.0417, correct=0, sample_num=32]\n",
            "100%|██████████| 16/16 [00:05<00:00,  2.98it/s, stage=val, epoch=6, loss=0.134, acc=0.052, correct=0, sample_num=20]\n",
            "100%|██████████| 33/33 [00:18<00:00,  1.82it/s, stage=train, epoch=7, loss=0.126, acc=0.0369, correct=1, sample_num=32]\n",
            "100%|██████████| 16/16 [00:05<00:00,  3.01it/s, stage=val, epoch=7, loss=0.134, acc=0.044, correct=1, sample_num=20]\n",
            "100%|██████████| 33/33 [00:18<00:00,  1.80it/s, stage=train, epoch=8, loss=0.125, acc=0.0398, correct=3, sample_num=32]\n",
            "100%|██████████| 16/16 [00:05<00:00,  2.74it/s, stage=val, epoch=8, loss=0.134, acc=0.028, correct=1, sample_num=20]\n",
            "100%|██████████| 33/33 [00:18<00:00,  1.79it/s, stage=train, epoch=9, loss=0.125, acc=0.0417, correct=0, sample_num=32]\n",
            "100%|██████████| 16/16 [00:05<00:00,  2.93it/s, stage=val, epoch=9, loss=0.134, acc=0.028, correct=0, sample_num=20]\n",
            "100%|██████████| 33/33 [00:18<00:00,  1.77it/s, stage=train, epoch=10, loss=0.126, acc=0.0369, correct=0, sample_num=32]\n",
            "100%|██████████| 16/16 [00:05<00:00,  2.93it/s, stage=val, epoch=10, loss=0.133, acc=0.016, correct=0, sample_num=20]\n",
            "100%|██████████| 33/33 [00:18<00:00,  1.78it/s, stage=train, epoch=11, loss=0.125, acc=0.0312, correct=1, sample_num=32]\n",
            "100%|██████████| 16/16 [00:05<00:00,  2.94it/s, stage=val, epoch=11, loss=0.133, acc=0.034, correct=3, sample_num=20]\n",
            "100%|██████████| 33/33 [00:18<00:00,  1.81it/s, stage=train, epoch=12, loss=0.125, acc=0.0369, correct=2, sample_num=32]\n",
            "100%|██████████| 16/16 [00:05<00:00,  2.95it/s, stage=val, epoch=12, loss=0.132, acc=0.028, correct=0, sample_num=20]\n",
            "100%|██████████| 33/33 [00:18<00:00,  1.80it/s, stage=train, epoch=13, loss=0.126, acc=0.0294, correct=1, sample_num=32]\n",
            "100%|██████████| 16/16 [00:05<00:00,  2.94it/s, stage=val, epoch=13, loss=0.133, acc=0.024, correct=0, sample_num=20]\n",
            "100%|██████████| 33/33 [00:18<00:00,  1.83it/s, stage=train, epoch=14, loss=0.125, acc=0.0417, correct=2, sample_num=32]\n",
            "100%|██████████| 16/16 [00:05<00:00,  2.95it/s, stage=val, epoch=14, loss=0.133, acc=0.022, correct=0, sample_num=20]\n",
            "100%|██████████| 33/33 [00:18<00:00,  1.81it/s, stage=train, epoch=15, loss=0.126, acc=0.0284, correct=1, sample_num=32]\n",
            "100%|██████████| 16/16 [00:05<00:00,  3.03it/s, stage=val, epoch=15, loss=0.132, acc=0.02, correct=1, sample_num=20]\n",
            "100%|██████████| 33/33 [00:17<00:00,  1.83it/s, stage=train, epoch=16, loss=0.125, acc=0.0227, correct=1, sample_num=32]\n",
            "100%|██████████| 16/16 [00:05<00:00,  2.86it/s, stage=val, epoch=16, loss=0.134, acc=0.028, correct=0, sample_num=20]\n",
            "100%|██████████| 33/33 [00:18<00:00,  1.81it/s, stage=train, epoch=17, loss=0.125, acc=0.0284, correct=0, sample_num=32]\n",
            "100%|██████████| 16/16 [00:05<00:00,  3.04it/s, stage=val, epoch=17, loss=0.132, acc=0.04, correct=1, sample_num=20]\n",
            "100%|██████████| 33/33 [00:18<00:00,  1.82it/s, stage=train, epoch=18, loss=0.125, acc=0.0455, correct=2, sample_num=32]\n",
            "100%|██████████| 16/16 [00:05<00:00,  2.97it/s, stage=val, epoch=18, loss=0.133, acc=0.032, correct=1, sample_num=20]\n",
            "100%|██████████| 33/33 [00:18<00:00,  1.81it/s, stage=train, epoch=19, loss=0.125, acc=0.0436, correct=2, sample_num=32]\n",
            "100%|██████████| 16/16 [00:05<00:00,  2.92it/s, stage=val, epoch=19, loss=0.133, acc=0.04, correct=3, sample_num=20]\n",
            "100%|██████████| 33/33 [00:18<00:00,  1.80it/s, stage=train, epoch=20, loss=0.125, acc=0.035, correct=1, sample_num=32]\n",
            "100%|██████████| 16/16 [00:05<00:00,  2.93it/s, stage=val, epoch=20, loss=0.133, acc=0.026, correct=1, sample_num=20]\n",
            "100%|██████████| 33/33 [00:18<00:00,  1.79it/s, stage=train, epoch=21, loss=0.126, acc=0.035, correct=1, sample_num=32]\n",
            "100%|██████████| 16/16 [00:05<00:00,  2.92it/s, stage=val, epoch=21, loss=0.133, acc=0.03, correct=1, sample_num=20]\n",
            "100%|██████████| 33/33 [00:18<00:00,  1.80it/s, stage=train, epoch=22, loss=0.125, acc=0.0331, correct=0, sample_num=32]\n",
            "100%|██████████| 16/16 [00:05<00:00,  2.99it/s, stage=val, epoch=22, loss=0.133, acc=0.03, correct=0, sample_num=20]\n",
            "100%|██████████| 33/33 [00:18<00:00,  1.80it/s, stage=train, epoch=23, loss=0.125, acc=0.0369, correct=0, sample_num=32]\n",
            "100%|██████████| 16/16 [00:05<00:00,  2.97it/s, stage=val, epoch=23, loss=0.133, acc=0.024, correct=0, sample_num=20]\n",
            "100%|██████████| 33/33 [00:18<00:00,  1.81it/s, stage=train, epoch=24, loss=0.125, acc=0.0218, correct=0, sample_num=32]\n",
            "100%|██████████| 16/16 [00:05<00:00,  2.91it/s, stage=val, epoch=24, loss=0.133, acc=0.028, correct=0, sample_num=20]\n",
            "100%|██████████| 33/33 [00:18<00:00,  1.82it/s, stage=train, epoch=25, loss=0.124, acc=0.0331, correct=0, sample_num=32]\n",
            "100%|██████████| 16/16 [00:05<00:00,  3.00it/s, stage=val, epoch=25, loss=0.133, acc=0.012, correct=0, sample_num=20]\n",
            "100%|██████████| 33/33 [00:18<00:00,  1.76it/s, stage=train, epoch=26, loss=0.125, acc=0.0417, correct=3, sample_num=32]\n",
            "100%|██████████| 16/16 [00:05<00:00,  2.92it/s, stage=val, epoch=26, loss=0.133, acc=0.028, correct=0, sample_num=20]\n",
            "100%|██████████| 33/33 [00:18<00:00,  1.78it/s, stage=train, epoch=27, loss=0.125, acc=0.0436, correct=0, sample_num=32]\n",
            "100%|██████████| 16/16 [00:05<00:00,  2.83it/s, stage=val, epoch=27, loss=0.133, acc=0.04, correct=1, sample_num=20]\n",
            "100%|██████████| 33/33 [00:18<00:00,  1.81it/s, stage=train, epoch=28, loss=0.125, acc=0.036, correct=1, sample_num=32]\n",
            "100%|██████████| 16/16 [00:05<00:00,  3.00it/s, stage=val, epoch=28, loss=0.133, acc=0.024, correct=0, sample_num=20]\n",
            "100%|██████████| 33/33 [00:18<00:00,  1.82it/s, stage=train, epoch=29, loss=0.124, acc=0.0294, correct=0, sample_num=32]\n",
            "100%|██████████| 16/16 [00:05<00:00,  2.97it/s, stage=val, epoch=29, loss=0.132, acc=0.024, correct=0, sample_num=20]\n",
            "100%|██████████| 33/33 [00:18<00:00,  1.77it/s, stage=train, epoch=30, loss=0.125, acc=0.0388, correct=0, sample_num=32]\n",
            "100%|██████████| 16/16 [00:05<00:00,  2.96it/s, stage=val, epoch=30, loss=0.131, acc=0.032, correct=1, sample_num=20]\n",
            "100%|██████████| 33/33 [00:17<00:00,  1.85it/s, stage=train, epoch=31, loss=0.125, acc=0.036, correct=1, sample_num=32]\n",
            "100%|██████████| 16/16 [00:05<00:00,  3.02it/s, stage=val, epoch=31, loss=0.132, acc=0.028, correct=1, sample_num=20]\n",
            "100%|██████████| 33/33 [00:18<00:00,  1.83it/s, stage=train, epoch=32, loss=0.125, acc=0.0398, correct=0, sample_num=32]\n",
            "100%|██████████| 16/16 [00:05<00:00,  2.93it/s, stage=val, epoch=32, loss=0.132, acc=0.028, correct=1, sample_num=20]\n",
            "100%|██████████| 33/33 [00:17<00:00,  1.84it/s, stage=train, epoch=33, loss=0.125, acc=0.0322, correct=1, sample_num=32]\n",
            "100%|██████████| 16/16 [00:05<00:00,  3.03it/s, stage=val, epoch=33, loss=0.132, acc=0.042, correct=1, sample_num=20]\n",
            "100%|██████████| 33/33 [00:18<00:00,  1.82it/s, stage=train, epoch=34, loss=0.125, acc=0.0398, correct=0, sample_num=32]\n",
            "100%|██████████| 16/16 [00:05<00:00,  3.03it/s, stage=val, epoch=34, loss=0.132, acc=0.032, correct=1, sample_num=20]\n",
            "100%|██████████| 33/33 [00:17<00:00,  1.84it/s, stage=train, epoch=35, loss=0.125, acc=0.0426, correct=2, sample_num=32]\n",
            "100%|██████████| 16/16 [00:05<00:00,  3.05it/s, stage=val, epoch=35, loss=0.133, acc=0.05, correct=1, sample_num=20]\n",
            "100%|██████████| 33/33 [00:18<00:00,  1.80it/s, stage=train, epoch=36, loss=0.125, acc=0.0379, correct=0, sample_num=32]\n",
            "100%|██████████| 16/16 [00:05<00:00,  2.93it/s, stage=val, epoch=36, loss=0.132, acc=0.034, correct=2, sample_num=20]\n",
            "100%|██████████| 33/33 [00:18<00:00,  1.83it/s, stage=train, epoch=37, loss=0.125, acc=0.0369, correct=0, sample_num=32]\n",
            "100%|██████████| 16/16 [00:05<00:00,  2.95it/s, stage=val, epoch=37, loss=0.132, acc=0.042, correct=1, sample_num=20]\n",
            "100%|██████████| 33/33 [00:18<00:00,  1.79it/s, stage=train, epoch=38, loss=0.125, acc=0.0294, correct=2, sample_num=32]\n",
            "100%|██████████| 16/16 [00:05<00:00,  2.96it/s, stage=val, epoch=38, loss=0.132, acc=0.014, correct=0, sample_num=20]\n",
            "100%|██████████| 33/33 [00:18<00:00,  1.79it/s, stage=train, epoch=39, loss=0.124, acc=0.0445, correct=4, sample_num=32]\n",
            "100%|██████████| 16/16 [00:05<00:00,  3.02it/s, stage=val, epoch=39, loss=0.134, acc=0.032, correct=0, sample_num=20]\n",
            "100%|██████████| 33/33 [00:18<00:00,  1.80it/s, stage=train, epoch=40, loss=0.125, acc=0.0322, correct=0, sample_num=32]\n",
            "100%|██████████| 16/16 [00:05<00:00,  3.01it/s, stage=val, epoch=40, loss=0.133, acc=0.028, correct=0, sample_num=20]\n",
            "100%|██████████| 33/33 [00:17<00:00,  1.85it/s, stage=train, epoch=41, loss=0.126, acc=0.0398, correct=2, sample_num=32]\n",
            "100%|██████████| 16/16 [00:05<00:00,  3.12it/s, stage=val, epoch=41, loss=0.132, acc=0.04, correct=1, sample_num=20]\n",
            "100%|██████████| 33/33 [00:18<00:00,  1.83it/s, stage=train, epoch=42, loss=0.124, acc=0.0388, correct=0, sample_num=32]\n",
            "100%|██████████| 16/16 [00:05<00:00,  3.03it/s, stage=val, epoch=42, loss=0.132, acc=0.026, correct=1, sample_num=20]\n",
            "100%|██████████| 33/33 [00:18<00:00,  1.83it/s, stage=train, epoch=43, loss=0.125, acc=0.0379, correct=2, sample_num=32]\n",
            "100%|██████████| 16/16 [00:05<00:00,  2.94it/s, stage=val, epoch=43, loss=0.132, acc=0.028, correct=1, sample_num=20]\n",
            "100%|██████████| 33/33 [00:18<00:00,  1.81it/s, stage=train, epoch=44, loss=0.125, acc=0.0369, correct=1, sample_num=32]\n",
            "100%|██████████| 16/16 [00:05<00:00,  3.02it/s, stage=val, epoch=44, loss=0.133, acc=0.032, correct=1, sample_num=20]\n",
            "100%|██████████| 33/33 [00:18<00:00,  1.79it/s, stage=train, epoch=45, loss=0.124, acc=0.0312, correct=0, sample_num=32]\n",
            "100%|██████████| 16/16 [00:05<00:00,  3.00it/s, stage=val, epoch=45, loss=0.133, acc=0.02, correct=1, sample_num=20]\n",
            "100%|██████████| 33/33 [00:18<00:00,  1.77it/s, stage=train, epoch=46, loss=0.124, acc=0.0388, correct=0, sample_num=32]\n",
            "100%|██████████| 16/16 [00:05<00:00,  3.01it/s, stage=val, epoch=46, loss=0.132, acc=0.028, correct=1, sample_num=20]\n",
            "100%|██████████| 33/33 [00:18<00:00,  1.79it/s, stage=train, epoch=47, loss=0.124, acc=0.0426, correct=1, sample_num=32]\n",
            "100%|██████████| 16/16 [00:05<00:00,  3.01it/s, stage=val, epoch=47, loss=0.131, acc=0.04, correct=1, sample_num=20]\n",
            "100%|██████████| 33/33 [00:18<00:00,  1.81it/s, stage=train, epoch=48, loss=0.125, acc=0.0331, correct=2, sample_num=32]\n",
            "100%|██████████| 16/16 [00:05<00:00,  3.03it/s, stage=val, epoch=48, loss=0.132, acc=0.034, correct=1, sample_num=20]\n",
            "100%|██████████| 33/33 [00:18<00:00,  1.81it/s, stage=train, epoch=49, loss=0.124, acc=0.0417, correct=0, sample_num=32]\n",
            "100%|██████████| 16/16 [00:05<00:00,  3.05it/s, stage=val, epoch=49, loss=0.132, acc=0.04, correct=1, sample_num=20]\n",
            "100%|██████████| 33/33 [00:18<00:00,  1.78it/s, stage=train, epoch=50, loss=0.125, acc=0.0436, correct=1, sample_num=32]\n",
            "100%|██████████| 16/16 [00:05<00:00,  2.94it/s, stage=val, epoch=50, loss=0.131, acc=0.04, correct=1, sample_num=20]\n",
            "100%|██████████| 33/33 [00:18<00:00,  1.78it/s, stage=train, epoch=51, loss=0.125, acc=0.0398, correct=0, sample_num=32]\n",
            "100%|██████████| 16/16 [00:05<00:00,  3.06it/s, stage=val, epoch=51, loss=0.133, acc=0.04, correct=1, sample_num=20]\n",
            "100%|██████████| 33/33 [00:18<00:00,  1.81it/s, stage=train, epoch=52, loss=0.125, acc=0.0426, correct=0, sample_num=32]\n",
            "100%|██████████| 16/16 [00:05<00:00,  3.03it/s, stage=val, epoch=52, loss=0.133, acc=0.028, correct=1, sample_num=20]\n",
            "100%|██████████| 33/33 [00:18<00:00,  1.81it/s, stage=train, epoch=53, loss=0.125, acc=0.0426, correct=1, sample_num=32]\n",
            "100%|██████████| 16/16 [00:05<00:00,  3.00it/s, stage=val, epoch=53, loss=0.132, acc=0.042, correct=1, sample_num=20]\n",
            "100%|██████████| 33/33 [00:18<00:00,  1.81it/s, stage=train, epoch=54, loss=0.124, acc=0.0407, correct=2, sample_num=32]\n",
            "100%|██████████| 16/16 [00:05<00:00,  3.00it/s, stage=val, epoch=54, loss=0.132, acc=0.048, correct=1, sample_num=20]\n",
            "100%|██████████| 33/33 [00:18<00:00,  1.81it/s, stage=train, epoch=55, loss=0.124, acc=0.0379, correct=1, sample_num=32]\n",
            "100%|██████████| 16/16 [00:05<00:00,  3.00it/s, stage=val, epoch=55, loss=0.133, acc=0.028, correct=0, sample_num=20]\n",
            "100%|██████████| 33/33 [00:18<00:00,  1.79it/s, stage=train, epoch=56, loss=0.125, acc=0.0388, correct=3, sample_num=32]\n",
            "100%|██████████| 16/16 [00:05<00:00,  3.00it/s, stage=val, epoch=56, loss=0.132, acc=0.028, correct=1, sample_num=20]\n",
            "100%|██████████| 33/33 [00:18<00:00,  1.75it/s, stage=train, epoch=57, loss=0.124, acc=0.0331, correct=1, sample_num=32]\n",
            "100%|██████████| 16/16 [00:05<00:00,  2.93it/s, stage=val, epoch=57, loss=0.132, acc=0.034, correct=0, sample_num=20]\n",
            "100%|██████████| 33/33 [00:18<00:00,  1.76it/s, stage=train, epoch=58, loss=0.125, acc=0.0388, correct=1, sample_num=32]\n",
            "100%|██████████| 16/16 [00:05<00:00,  3.02it/s, stage=val, epoch=58, loss=0.133, acc=0.03, correct=1, sample_num=20]\n",
            "100%|██████████| 33/33 [00:18<00:00,  1.78it/s, stage=train, epoch=59, loss=0.124, acc=0.0284, correct=0, sample_num=32]\n",
            "100%|██████████| 16/16 [00:05<00:00,  2.95it/s, stage=val, epoch=59, loss=0.132, acc=0.042, correct=2, sample_num=20]\n"
          ]
        },
        {
          "name": "stdout",
          "output_type": "stream",
          "text": [
            "=> loading checkpoint '/content/drive/MyDrive/EA-age/Project/train_models/vit_1000_base_epoch000_0.13753_12.2506.pth'\n",
            "=> loaded checkpoint '/content/drive/MyDrive/EA-age/Project/train_models/vit_1000_base_epoch000_0.13753_12.2506.pth' (epoch 1)\n"
          ]
        },
        {
          "name": "stderr",
          "output_type": "stream",
          "text": [
            "100%|██████████| 16/16 [00:05<00:00,  2.80it/s, stage=val, epoch=0, loss=0.141, acc=0.03, correct=1, sample_num=20]"
          ]
        },
        {
          "name": "stdout",
          "output_type": "stream",
          "text": [
            "0.140567720413208 0.03 12.087922205541684\n"
          ]
        },
        {
          "name": "stderr",
          "output_type": "stream",
          "text": [
            "\n"
          ]
        }
      ],
      "source": [
        "device = \"cuda\" if torch.cuda.is_available() else \"cpu\"\n",
        "model = torchvision.models.vit_b_16(\"ViT_B_16_Weights.DEFAULT\")\n",
        "\n",
        "dim_feats = model.heads.head.in_features\n",
        "model.heads.head = nn.Linear(dim_feats, 101)\n",
        "model = model.to(device)\n",
        "optimizer = torch.optim.Adam(model.parameters())\n",
        "\n",
        "tr_loss, tr_acc, v_loss, v_acc, mae, test_metrics = training(model, optimizer, train_loader, val_loader, test_loader, 60, path + 'train_models/vit_1000_base_',path + 'values_training_1000vit.csv', device)\n",
        "test_loss, test_acc, test_mae = test_metrics[0], test_metrics[1], test_metrics[2]"
      ]
    },
    {
      "cell_type": "code",
      "execution_count": null,
      "metadata": {
        "colab": {
          "base_uri": "https://localhost:8080/",
          "height": 1000
        },
        "id": "aT1UFVZ9-7Nm",
        "outputId": "38501f43-480f-4de9-f12f-d6d1ff4b9165"
      },
      "outputs": [
        {
          "data": {
            "image/png": "[encoded data removed]",
            "text/plain": [
              "<Figure size 640x480 with 1 Axes>"
            ]
          },
          "metadata": {},
          "output_type": "display_data"
        },
        {
          "data": {
            "image/png": "[encoded data removed]",
            "text/plain": [
              "<Figure size 640x480 with 1 Axes>"
            ]
          },
          "metadata": {},
          "output_type": "display_data"
        },
        {
          "data": {
            "image/png": "[encoded data removed]",
            "text/plain": [
              "<Figure size 640x480 with 1 Axes>"
            ]
          },
          "metadata": {},
          "output_type": "display_data"
        }
      ],
      "source": [
        "epochs = np.arange(1,61)\n",
        "plt.plot(epochs, v_loss, label = 'v')\n",
        "plt.plot(epochs, tr_loss)\n",
        "plt.legend()\n",
        "plt.show()\n",
        "plt.plot(epochs, v_acc, label='v')\n",
        "plt.plot(epochs, tr_acc)\n",
        "plt.legend()\n",
        "plt.show()\n",
        "plt.plot(epochs, mae)\n",
        "plt.show()\n"
      ]
    },
    {
      "cell_type": "code",
      "execution_count": null,
      "metadata": {
        "colab": {
          "base_uri": "https://localhost:8080/"
        },
        "id": "jaW_XsYm_B4_",
        "outputId": "9fd9c833-93b6-424d-cb43-0d079f14c6ad"
      },
      "outputs": [
        {
          "name": "stdout",
          "output_type": "stream",
          "text": [
            "VisionTransformer(\n",
            "  (conv_proj): Conv2d(3, 768, kernel_size=(16, 16), stride=(16, 16))\n",
            "  (encoder): Encoder(\n",
            "    (dropout): Dropout(p=0.0, inplace=False)\n",
            "    (layers): Sequential(\n",
            "      (encoder_layer_0): EncoderBlock(\n",
            "        (ln_1): LayerNorm((768,), eps=1e-06, elementwise_affine=True)\n",
            "        (self_attention): MultiheadAttention(\n",
            "          (out_proj): NonDynamicallyQuantizableLinear(in_features=768, out_features=768, bias=True)\n",
            "        )\n",
            "        (dropout): Dropout(p=0.0, inplace=False)\n",
            "        (ln_2): LayerNorm((768,), eps=1e-06, elementwise_affine=True)\n",
            "        (mlp): MLPBlock(\n",
            "          (0): Linear(in_features=768, out_features=3072, bias=True)\n",
            "          (1): GELU(approximate='none')\n",
            "          (2): Dropout(p=0.0, inplace=False)\n",
            "          (3): Linear(in_features=3072, out_features=768, bias=True)\n",
            "          (4): Dropout(p=0.0, inplace=False)\n",
            "        )\n",
            "      )\n",
            "      (encoder_layer_1): EncoderBlock(\n",
            "        (ln_1): LayerNorm((768,), eps=1e-06, elementwise_affine=True)\n",
            "        (self_attention): MultiheadAttention(\n",
            "          (out_proj): NonDynamicallyQuantizableLinear(in_features=768, out_features=768, bias=True)\n",
            "        )\n",
            "        (dropout): Dropout(p=0.0, inplace=False)\n",
            "        (ln_2): LayerNorm((768,), eps=1e-06, elementwise_affine=True)\n",
            "        (mlp): MLPBlock(\n",
            "          (0): Linear(in_features=768, out_features=3072, bias=True)\n",
            "          (1): GELU(approximate='none')\n",
            "          (2): Dropout(p=0.0, inplace=False)\n",
            "          (3): Linear(in_features=3072, out_features=768, bias=True)\n",
            "          (4): Dropout(p=0.0, inplace=False)\n",
            "        )\n",
            "      )\n",
            "      (encoder_layer_2): EncoderBlock(\n",
            "        (ln_1): LayerNorm((768,), eps=1e-06, elementwise_affine=True)\n",
            "        (self_attention): MultiheadAttention(\n",
            "          (out_proj): NonDynamicallyQuantizableLinear(in_features=768, out_features=768, bias=True)\n",
            "        )\n",
            "        (dropout): Dropout(p=0.0, inplace=False)\n",
            "        (ln_2): LayerNorm((768,), eps=1e-06, elementwise_affine=True)\n",
            "        (mlp): MLPBlock(\n",
            "          (0): Linear(in_features=768, out_features=3072, bias=True)\n",
            "          (1): GELU(approximate='none')\n",
            "          (2): Dropout(p=0.0, inplace=False)\n",
            "          (3): Linear(in_features=3072, out_features=768, bias=True)\n",
            "          (4): Dropout(p=0.0, inplace=False)\n",
            "        )\n",
            "      )\n",
            "      (encoder_layer_3): EncoderBlock(\n",
            "        (ln_1): LayerNorm((768,), eps=1e-06, elementwise_affine=True)\n",
            "        (self_attention): MultiheadAttention(\n",
            "          (out_proj): NonDynamicallyQuantizableLinear(in_features=768, out_features=768, bias=True)\n",
            "        )\n",
            "        (dropout): Dropout(p=0.0, inplace=False)\n",
            "        (ln_2): LayerNorm((768,), eps=1e-06, elementwise_affine=True)\n",
            "        (mlp): MLPBlock(\n",
            "          (0): Linear(in_features=768, out_features=3072, bias=True)\n",
            "          (1): GELU(approximate='none')\n",
            "          (2): Dropout(p=0.0, inplace=False)\n",
            "          (3): Linear(in_features=3072, out_features=768, bias=True)\n",
            "          (4): Dropout(p=0.0, inplace=False)\n",
            "        )\n",
            "      )\n",
            "      (encoder_layer_4): EncoderBlock(\n",
            "        (ln_1): LayerNorm((768,), eps=1e-06, elementwise_affine=True)\n",
            "        (self_attention): MultiheadAttention(\n",
            "          (out_proj): NonDynamicallyQuantizableLinear(in_features=768, out_features=768, bias=True)\n",
            "        )\n",
            "        (dropout): Dropout(p=0.0, inplace=False)\n",
            "        (ln_2): LayerNorm((768,), eps=1e-06, elementwise_affine=True)\n",
            "        (mlp): MLPBlock(\n",
            "          (0): Linear(in_features=768, out_features=3072, bias=True)\n",
            "          (1): GELU(approximate='none')\n",
            "          (2): Dropout(p=0.0, inplace=False)\n",
            "          (3): Linear(in_features=3072, out_features=768, bias=True)\n",
            "          (4): Dropout(p=0.0, inplace=False)\n",
            "        )\n",
            "      )\n",
            "      (encoder_layer_5): EncoderBlock(\n",
            "        (ln_1): LayerNorm((768,), eps=1e-06, elementwise_affine=True)\n",
            "        (self_attention): MultiheadAttention(\n",
            "          (out_proj): NonDynamicallyQuantizableLinear(in_features=768, out_features=768, bias=True)\n",
            "        )\n",
            "        (dropout): Dropout(p=0.0, inplace=False)\n",
            "        (ln_2): LayerNorm((768,), eps=1e-06, elementwise_affine=True)\n",
            "        (mlp): MLPBlock(\n",
            "          (0): Linear(in_features=768, out_features=3072, bias=True)\n",
            "          (1): GELU(approximate='none')\n",
            "          (2): Dropout(p=0.0, inplace=False)\n",
            "          (3): Linear(in_features=3072, out_features=768, bias=True)\n",
            "          (4): Dropout(p=0.0, inplace=False)\n",
            "        )\n",
            "      )\n",
            "      (encoder_layer_6): EncoderBlock(\n",
            "        (ln_1): LayerNorm((768,), eps=1e-06, elementwise_affine=True)\n",
            "        (self_attention): MultiheadAttention(\n",
            "          (out_proj): NonDynamicallyQuantizableLinear(in_features=768, out_features=768, bias=True)\n",
            "        )\n",
            "        (dropout): Dropout(p=0.0, inplace=False)\n",
            "        (ln_2): LayerNorm((768,), eps=1e-06, elementwise_affine=True)\n",
            "        (mlp): MLPBlock(\n",
            "          (0): Linear(in_features=768, out_features=3072, bias=True)\n",
            "          (1): GELU(approximate='none')\n",
            "          (2): Dropout(p=0.0, inplace=False)\n",
            "          (3): Linear(in_features=3072, out_features=768, bias=True)\n",
            "          (4): Dropout(p=0.0, inplace=False)\n",
            "        )\n",
            "      )\n",
            "      (encoder_layer_7): EncoderBlock(\n",
            "        (ln_1): LayerNorm((768,), eps=1e-06, elementwise_affine=True)\n",
            "        (self_attention): MultiheadAttention(\n",
            "          (out_proj): NonDynamicallyQuantizableLinear(in_features=768, out_features=768, bias=True)\n",
            "        )\n",
            "        (dropout): Dropout(p=0.0, inplace=False)\n",
            "        (ln_2): LayerNorm((768,), eps=1e-06, elementwise_affine=True)\n",
            "        (mlp): MLPBlock(\n",
            "          (0): Linear(in_features=768, out_features=3072, bias=True)\n",
            "          (1): GELU(approximate='none')\n",
            "          (2): Dropout(p=0.0, inplace=False)\n",
            "          (3): Linear(in_features=3072, out_features=768, bias=True)\n",
            "          (4): Dropout(p=0.0, inplace=False)\n",
            "        )\n",
            "      )\n",
            "      (encoder_layer_8): EncoderBlock(\n",
            "        (ln_1): LayerNorm((768,), eps=1e-06, elementwise_affine=True)\n",
            "        (self_attention): MultiheadAttention(\n",
            "          (out_proj): NonDynamicallyQuantizableLinear(in_features=768, out_features=768, bias=True)\n",
            "        )\n",
            "        (dropout): Dropout(p=0.0, inplace=False)\n",
            "        (ln_2): LayerNorm((768,), eps=1e-06, elementwise_affine=True)\n",
            "        (mlp): MLPBlock(\n",
            "          (0): Linear(in_features=768, out_features=3072, bias=True)\n",
            "          (1): GELU(approximate='none')\n",
            "          (2): Dropout(p=0.0, inplace=False)\n",
            "          (3): Linear(in_features=3072, out_features=768, bias=True)\n",
            "          (4): Dropout(p=0.0, inplace=False)\n",
            "        )\n",
            "      )\n",
            "      (encoder_layer_9): EncoderBlock(\n",
            "        (ln_1): LayerNorm((768,), eps=1e-06, elementwise_affine=True)\n",
            "        (self_attention): MultiheadAttention(\n",
            "          (out_proj): NonDynamicallyQuantizableLinear(in_features=768, out_features=768, bias=True)\n",
            "        )\n",
            "        (dropout): Dropout(p=0.0, inplace=False)\n",
            "        (ln_2): LayerNorm((768,), eps=1e-06, elementwise_affine=True)\n",
            "        (mlp): MLPBlock(\n",
            "          (0): Linear(in_features=768, out_features=3072, bias=True)\n",
            "          (1): GELU(approximate='none')\n",
            "          (2): Dropout(p=0.0, inplace=False)\n",
            "          (3): Linear(in_features=3072, out_features=768, bias=True)\n",
            "          (4): Dropout(p=0.0, inplace=False)\n",
            "        )\n",
            "      )\n",
            "      (encoder_layer_10): EncoderBlock(\n",
            "        (ln_1): LayerNorm((768,), eps=1e-06, elementwise_affine=True)\n",
            "        (self_attention): MultiheadAttention(\n",
            "          (out_proj): NonDynamicallyQuantizableLinear(in_features=768, out_features=768, bias=True)\n",
            "        )\n",
            "        (dropout): Dropout(p=0.0, inplace=False)\n",
            "        (ln_2): LayerNorm((768,), eps=1e-06, elementwise_affine=True)\n",
            "        (mlp): MLPBlock(\n",
            "          (0): Linear(in_features=768, out_features=3072, bias=True)\n",
            "          (1): GELU(approximate='none')\n",
            "          (2): Dropout(p=0.0, inplace=False)\n",
            "          (3): Linear(in_features=3072, out_features=768, bias=True)\n",
            "          (4): Dropout(p=0.0, inplace=False)\n",
            "        )\n",
            "      )\n",
            "      (encoder_layer_11): EncoderBlock(\n",
            "        (ln_1): LayerNorm((768,), eps=1e-06, elementwise_affine=True)\n",
            "        (self_attention): MultiheadAttention(\n",
            "          (out_proj): NonDynamicallyQuantizableLinear(in_features=768, out_features=768, bias=True)\n",
            "        )\n",
            "        (dropout): Dropout(p=0.0, inplace=False)\n",
            "        (ln_2): LayerNorm((768,), eps=1e-06, elementwise_affine=True)\n",
            "        (mlp): MLPBlock(\n",
            "          (0): Linear(in_features=768, out_features=3072, bias=True)\n",
            "          (1): GELU(approximate='none')\n",
            "          (2): Dropout(p=0.0, inplace=False)\n",
            "          (3): Linear(in_features=3072, out_features=768, bias=True)\n",
            "          (4): Dropout(p=0.0, inplace=False)\n",
            "        )\n",
            "      )\n",
            "    )\n",
            "    (ln): LayerNorm((768,), eps=1e-06, elementwise_affine=True)\n",
            "  )\n",
            "  (heads): Sequential(\n",
            "    (head): Linear(in_features=768, out_features=101, bias=True)\n",
            "  )\n",
            ")\n"
          ]
        }
      ],
      "source": [
        "print(model)"
      ]
    },
    {
      "cell_type": "code",
      "execution_count": null,
      "metadata": {
        "colab": {
          "base_uri": "https://localhost:8080/"
        },
        "id": "cShOe_DbALQ-",
        "outputId": "69153212-5c5b-48c2-8fc8-564631a602cf"
      },
      "outputs": [
        {
          "name": "stdout",
          "output_type": "stream",
          "text": [
            "torch.Size([3, 224, 224])\n"
          ]
        }
      ],
      "source": [
        "print(train_dataset[10][0].shape)"
      ]
    },
    {
      "cell_type": "code",
      "execution_count": null,
      "metadata": {
        "id": "2khf15H66Kp9"
      },
      "outputs": [],
      "source": [
        "class SimpleClassifier(nn.Module):\n",
        "    def __init__(self, input_size, output_size):\n",
        "        super(SimpleClassifier, self).__init__()\n",
        "        self.fc1 = nn.Linear(input_size, 512)  # Couche entièrement connectée avec 512 neurones\n",
        "        self.relu = nn.ReLU()  # Fonction d'activation ReLU\n",
        "        self.fc2 = nn.Linear(512, output_size)  # Couche entièrement connectée en sortie avec le nombre de classes en sortie\n",
        "\n",
        "    def forward(self, x):\n",
        "        x = x.view(x.size(0), -1)  # Aplatir l'image en un vecteur (3x224x224 devient un vecteur de taille 3*224*224)\n",
        "        x = self.fc1(x)  # Passer par la première couche entièrement connectée\n",
        "        x = self.relu(x)  # Appliquer la fonction d'activation ReLU\n",
        "        x = self.fc2(x)  # Passer par la deuxième couche entièrement connectée\n",
        "        return x\n"
      ]
    },
    {
      "cell_type": "code",
      "execution_count": null,
      "metadata": {
        "colab": {
          "base_uri": "https://localhost:8080/"
        },
        "id": "bVQzkIYq6LXB",
        "outputId": "54d422ea-08a0-4289-b163-5a19b6ac16ee"
      },
      "outputs": [
        {
          "name": "stderr",
          "output_type": "stream",
          "text": [
            "100%|██████████| 33/33 [00:14<00:00,  2.31it/s, stage=train, epoch=0, loss=477, acc=0.0237, correct=1, sample_num=32]\n",
            "100%|██████████| 16/16 [00:03<00:00,  4.12it/s, stage=val, epoch=0, loss=78.7, acc=0.032, correct=0, sample_num=20]\n"
          ]
        },
        {
          "name": "stdout",
          "output_type": "stream",
          "text": [
            "=> [epoch 000] best val mae was improved from 10000.000 to 18.249\n"
          ]
        },
        {
          "name": "stderr",
          "output_type": "stream",
          "text": [
            "100%|██████████| 33/33 [00:15<00:00,  2.06it/s, stage=train, epoch=1, loss=6.85, acc=0.00663, correct=1, sample_num=32]\n",
            "100%|██████████| 16/16 [00:04<00:00,  3.89it/s, stage=val, epoch=1, loss=0.148, acc=0.016, correct=0, sample_num=20]\n",
            "100%|██████████| 33/33 [00:14<00:00,  2.24it/s, stage=train, epoch=2, loss=0.507, acc=0.0227, correct=0, sample_num=32]\n",
            "100%|██████████| 16/16 [00:03<00:00,  4.08it/s, stage=val, epoch=2, loss=0.147, acc=0.016, correct=0, sample_num=20]\n",
            "100%|██████████| 33/33 [00:14<00:00,  2.30it/s, stage=train, epoch=3, loss=0.145, acc=0.0237, correct=0, sample_num=32]\n",
            "100%|██████████| 16/16 [00:03<00:00,  4.05it/s, stage=val, epoch=3, loss=0.146, acc=0.022, correct=0, sample_num=20]\n",
            "100%|██████████| 33/33 [00:14<00:00,  2.33it/s, stage=train, epoch=4, loss=0.158, acc=0.0256, correct=0, sample_num=32]\n",
            "100%|██████████| 16/16 [00:03<00:00,  4.18it/s, stage=val, epoch=4, loss=0.146, acc=0.022, correct=0, sample_num=20]\n",
            "100%|██████████| 33/33 [00:14<00:00,  2.27it/s, stage=train, epoch=5, loss=0.168, acc=0.0284, correct=0, sample_num=32]\n",
            "100%|██████████| 16/16 [00:03<00:00,  4.00it/s, stage=val, epoch=5, loss=0.145, acc=0.022, correct=0, sample_num=20]\n",
            "100%|██████████| 33/33 [00:14<00:00,  2.26it/s, stage=train, epoch=6, loss=0.156, acc=0.0208, correct=1, sample_num=32]\n",
            "100%|██████████| 16/16 [00:03<00:00,  4.05it/s, stage=val, epoch=6, loss=0.145, acc=0.022, correct=0, sample_num=20]\n",
            "100%|██████████| 33/33 [00:14<00:00,  2.33it/s, stage=train, epoch=7, loss=0.146, acc=0.0322, correct=4, sample_num=32]\n",
            "100%|██████████| 16/16 [00:03<00:00,  4.05it/s, stage=val, epoch=7, loss=0.145, acc=0.022, correct=0, sample_num=20]\n",
            "100%|██████████| 33/33 [00:14<00:00,  2.29it/s, stage=train, epoch=8, loss=0.141, acc=0.0227, correct=1, sample_num=32]\n",
            "100%|██████████| 16/16 [00:03<00:00,  4.11it/s, stage=val, epoch=8, loss=0.144, acc=0.022, correct=0, sample_num=20]\n",
            "100%|██████████| 33/33 [00:14<00:00,  2.27it/s, stage=train, epoch=9, loss=0.148, acc=0.0237, correct=1, sample_num=32]\n",
            "100%|██████████| 16/16 [00:03<00:00,  4.01it/s, stage=val, epoch=9, loss=0.144, acc=0.022, correct=0, sample_num=20]\n",
            "100%|██████████| 33/33 [00:14<00:00,  2.29it/s, stage=train, epoch=10, loss=0.14, acc=0.018, correct=0, sample_num=32]\n",
            "100%|██████████| 16/16 [00:04<00:00,  3.96it/s, stage=val, epoch=10, loss=0.143, acc=0.022, correct=0, sample_num=20]\n",
            "100%|██████████| 33/33 [00:14<00:00,  2.29it/s, stage=train, epoch=11, loss=0.139, acc=0.0227, correct=0, sample_num=32]\n",
            "100%|██████████| 16/16 [00:03<00:00,  4.19it/s, stage=val, epoch=11, loss=0.143, acc=0.04, correct=3, sample_num=20]\n",
            "100%|██████████| 33/33 [00:14<00:00,  2.24it/s, stage=train, epoch=12, loss=0.139, acc=0.0417, correct=1, sample_num=32]\n",
            "100%|██████████| 16/16 [00:04<00:00,  3.88it/s, stage=val, epoch=12, loss=0.143, acc=0.04, correct=3, sample_num=20]\n",
            "100%|██████████| 33/33 [00:14<00:00,  2.29it/s, stage=train, epoch=13, loss=0.138, acc=0.0294, correct=1, sample_num=32]\n",
            "100%|██████████| 16/16 [00:03<00:00,  4.18it/s, stage=val, epoch=13, loss=0.142, acc=0.04, correct=3, sample_num=20]\n",
            "100%|██████████| 33/33 [00:14<00:00,  2.25it/s, stage=train, epoch=14, loss=0.138, acc=0.035, correct=1, sample_num=32]\n",
            "100%|██████████| 16/16 [00:03<00:00,  4.14it/s, stage=val, epoch=14, loss=0.142, acc=0.04, correct=3, sample_num=20]\n",
            "100%|██████████| 33/33 [00:14<00:00,  2.34it/s, stage=train, epoch=15, loss=0.138, acc=0.0237, correct=1, sample_num=32]\n",
            "100%|██████████| 16/16 [00:03<00:00,  4.16it/s, stage=val, epoch=15, loss=0.142, acc=0.028, correct=1, sample_num=20]\n",
            "100%|██████████| 33/33 [00:14<00:00,  2.30it/s, stage=train, epoch=16, loss=0.137, acc=0.0388, correct=1, sample_num=32]\n",
            "100%|██████████| 16/16 [00:03<00:00,  4.21it/s, stage=val, epoch=16, loss=0.141, acc=0.028, correct=1, sample_num=20]\n",
            "100%|██████████| 33/33 [00:14<00:00,  2.33it/s, stage=train, epoch=17, loss=0.142, acc=0.036, correct=0, sample_num=32]\n",
            "100%|██████████| 16/16 [00:03<00:00,  4.23it/s, stage=val, epoch=17, loss=0.141, acc=0.028, correct=1, sample_num=20]\n",
            "100%|██████████| 33/33 [00:14<00:00,  2.31it/s, stage=train, epoch=18, loss=0.137, acc=0.0246, correct=1, sample_num=32]\n",
            "100%|██████████| 16/16 [00:03<00:00,  4.28it/s, stage=val, epoch=18, loss=0.141, acc=0.028, correct=1, sample_num=20]\n",
            "100%|██████████| 33/33 [00:14<00:00,  2.31it/s, stage=train, epoch=19, loss=0.136, acc=0.0341, correct=2, sample_num=32]\n",
            "100%|██████████| 16/16 [00:03<00:00,  4.07it/s, stage=val, epoch=19, loss=0.14, acc=0.028, correct=1, sample_num=20]\n",
            "100%|██████████| 33/33 [00:13<00:00,  2.36it/s, stage=train, epoch=20, loss=0.136, acc=0.0331, correct=2, sample_num=32]\n",
            "100%|██████████| 16/16 [00:03<00:00,  4.21it/s, stage=val, epoch=20, loss=0.14, acc=0.04, correct=3, sample_num=20]\n",
            "100%|██████████| 33/33 [00:14<00:00,  2.34it/s, stage=train, epoch=21, loss=0.135, acc=0.035, correct=2, sample_num=32]\n",
            "100%|██████████| 16/16 [00:03<00:00,  4.06it/s, stage=val, epoch=21, loss=0.14, acc=0.04, correct=3, sample_num=20]\n",
            "100%|██████████| 33/33 [00:14<00:00,  2.31it/s, stage=train, epoch=22, loss=0.135, acc=0.0275, correct=2, sample_num=32]\n",
            "100%|██████████| 16/16 [00:03<00:00,  4.10it/s, stage=val, epoch=22, loss=0.14, acc=0.028, correct=1, sample_num=20]\n"
          ]
        },
        {
          "name": "stdout",
          "output_type": "stream",
          "text": [
            "=> [epoch 022] best val mae was improved from 18.249 to 18.110\n"
          ]
        },
        {
          "name": "stderr",
          "output_type": "stream",
          "text": [
            "100%|██████████| 33/33 [00:16<00:00,  2.03it/s, stage=train, epoch=23, loss=0.135, acc=0.035, correct=1, sample_num=32]\n",
            "100%|██████████| 16/16 [00:04<00:00,  3.94it/s, stage=val, epoch=23, loss=0.139, acc=0.04, correct=3, sample_num=20]\n"
          ]
        },
        {
          "name": "stdout",
          "output_type": "stream",
          "text": [
            "=> [epoch 023] best val mae was improved from 18.110 to 17.959\n"
          ]
        },
        {
          "name": "stderr",
          "output_type": "stream",
          "text": [
            "100%|██████████| 33/33 [00:16<00:00,  2.04it/s, stage=train, epoch=24, loss=0.134, acc=0.0303, correct=0, sample_num=32]\n",
            "100%|██████████| 16/16 [00:04<00:00,  3.97it/s, stage=val, epoch=24, loss=0.139, acc=0.04, correct=3, sample_num=20]\n"
          ]
        },
        {
          "name": "stdout",
          "output_type": "stream",
          "text": [
            "=> [epoch 024] best val mae was improved from 17.959 to 17.813\n"
          ]
        },
        {
          "name": "stderr",
          "output_type": "stream",
          "text": [
            "100%|██████████| 33/33 [00:16<00:00,  2.04it/s, stage=train, epoch=25, loss=0.136, acc=0.0436, correct=2, sample_num=32]\n",
            "100%|██████████| 16/16 [00:03<00:00,  4.12it/s, stage=val, epoch=25, loss=0.139, acc=0.028, correct=1, sample_num=20]\n"
          ]
        },
        {
          "name": "stdout",
          "output_type": "stream",
          "text": [
            "=> [epoch 025] best val mae was improved from 17.813 to 17.677\n"
          ]
        },
        {
          "name": "stderr",
          "output_type": "stream",
          "text": [
            "100%|██████████| 33/33 [00:15<00:00,  2.09it/s, stage=train, epoch=26, loss=0.134, acc=0.0341, correct=1, sample_num=32]\n",
            "100%|██████████| 16/16 [00:04<00:00,  3.83it/s, stage=val, epoch=26, loss=0.139, acc=0.028, correct=1, sample_num=20]\n"
          ]
        },
        {
          "name": "stdout",
          "output_type": "stream",
          "text": [
            "=> [epoch 026] best val mae was improved from 17.677 to 17.541\n"
          ]
        },
        {
          "name": "stderr",
          "output_type": "stream",
          "text": [
            "100%|██████████| 33/33 [00:15<00:00,  2.09it/s, stage=train, epoch=27, loss=0.133, acc=0.0322, correct=0, sample_num=32]\n",
            "100%|██████████| 16/16 [00:04<00:00,  3.81it/s, stage=val, epoch=27, loss=0.138, acc=0.028, correct=1, sample_num=20]\n"
          ]
        },
        {
          "name": "stdout",
          "output_type": "stream",
          "text": [
            "=> [epoch 027] best val mae was improved from 17.541 to 17.406\n"
          ]
        },
        {
          "name": "stderr",
          "output_type": "stream",
          "text": [
            "100%|██████████| 33/33 [00:15<00:00,  2.12it/s, stage=train, epoch=28, loss=0.133, acc=0.0436, correct=1, sample_num=32]\n",
            "100%|██████████| 16/16 [00:04<00:00,  3.83it/s, stage=val, epoch=28, loss=0.138, acc=0.028, correct=1, sample_num=20]\n"
          ]
        },
        {
          "name": "stdout",
          "output_type": "stream",
          "text": [
            "=> [epoch 028] best val mae was improved from 17.406 to 17.279\n"
          ]
        },
        {
          "name": "stderr",
          "output_type": "stream",
          "text": [
            "100%|██████████| 33/33 [00:15<00:00,  2.13it/s, stage=train, epoch=29, loss=0.133, acc=0.0341, correct=0, sample_num=32]\n",
            "100%|██████████| 16/16 [00:03<00:00,  4.12it/s, stage=val, epoch=29, loss=0.138, acc=0.028, correct=1, sample_num=20]\n"
          ]
        },
        {
          "name": "stdout",
          "output_type": "stream",
          "text": [
            "=> [epoch 029] best val mae was improved from 17.279 to 17.151\n"
          ]
        },
        {
          "name": "stderr",
          "output_type": "stream",
          "text": [
            "100%|██████████| 33/33 [00:15<00:00,  2.09it/s, stage=train, epoch=30, loss=0.133, acc=0.0369, correct=3, sample_num=32]\n",
            "100%|██████████| 16/16 [00:03<00:00,  4.21it/s, stage=val, epoch=30, loss=0.138, acc=0.028, correct=1, sample_num=20]\n"
          ]
        },
        {
          "name": "stdout",
          "output_type": "stream",
          "text": [
            "=> [epoch 030] best val mae was improved from 17.151 to 17.030\n"
          ]
        },
        {
          "name": "stderr",
          "output_type": "stream",
          "text": [
            "100%|██████████| 33/33 [00:15<00:00,  2.12it/s, stage=train, epoch=31, loss=0.133, acc=0.0284, correct=1, sample_num=32]\n",
            "100%|██████████| 16/16 [00:03<00:00,  4.22it/s, stage=val, epoch=31, loss=0.137, acc=0.04, correct=3, sample_num=20]\n"
          ]
        },
        {
          "name": "stdout",
          "output_type": "stream",
          "text": [
            "=> [epoch 031] best val mae was improved from 17.030 to 16.911\n"
          ]
        },
        {
          "name": "stderr",
          "output_type": "stream",
          "text": [
            "100%|██████████| 33/33 [00:16<00:00,  2.05it/s, stage=train, epoch=32, loss=0.133, acc=0.0331, correct=1, sample_num=32]\n",
            "100%|██████████| 16/16 [00:03<00:00,  4.17it/s, stage=val, epoch=32, loss=0.137, acc=0.028, correct=1, sample_num=20]\n"
          ]
        },
        {
          "name": "stdout",
          "output_type": "stream",
          "text": [
            "=> [epoch 032] best val mae was improved from 16.911 to 16.793\n"
          ]
        },
        {
          "name": "stderr",
          "output_type": "stream",
          "text": [
            "100%|██████████| 33/33 [00:14<00:00,  2.27it/s, stage=train, epoch=33, loss=0.132, acc=0.0303, correct=2, sample_num=32]\n",
            "100%|██████████| 16/16 [00:03<00:00,  4.17it/s, stage=val, epoch=33, loss=0.137, acc=0.04, correct=3, sample_num=20]\n"
          ]
        },
        {
          "name": "stdout",
          "output_type": "stream",
          "text": [
            "=> [epoch 033] best val mae was improved from 16.793 to 16.677\n"
          ]
        },
        {
          "name": "stderr",
          "output_type": "stream",
          "text": [
            "100%|██████████| 33/33 [00:16<00:00,  1.99it/s, stage=train, epoch=34, loss=0.132, acc=0.0237, correct=2, sample_num=32]\n",
            "100%|██████████| 16/16 [00:03<00:00,  4.30it/s, stage=val, epoch=34, loss=0.137, acc=0.028, correct=1, sample_num=20]\n"
          ]
        },
        {
          "name": "stdout",
          "output_type": "stream",
          "text": [
            "=> [epoch 034] best val mae was improved from 16.677 to 16.568\n"
          ]
        },
        {
          "name": "stderr",
          "output_type": "stream",
          "text": [
            "100%|██████████| 33/33 [00:17<00:00,  1.84it/s, stage=train, epoch=35, loss=0.132, acc=0.035, correct=2, sample_num=32]\n",
            "100%|██████████| 16/16 [00:04<00:00,  3.57it/s, stage=val, epoch=35, loss=0.137, acc=0.028, correct=1, sample_num=20]\n"
          ]
        },
        {
          "name": "stdout",
          "output_type": "stream",
          "text": [
            "=> [epoch 035] best val mae was improved from 16.568 to 16.462\n"
          ]
        },
        {
          "name": "stderr",
          "output_type": "stream",
          "text": [
            "100%|██████████| 33/33 [00:17<00:00,  1.85it/s, stage=train, epoch=36, loss=0.131, acc=0.0322, correct=2, sample_num=32]\n",
            "100%|██████████| 16/16 [00:04<00:00,  3.66it/s, stage=val, epoch=36, loss=0.137, acc=0.028, correct=1, sample_num=20]\n"
          ]
        },
        {
          "name": "stdout",
          "output_type": "stream",
          "text": [
            "=> [epoch 036] best val mae was improved from 16.462 to 16.353\n"
          ]
        },
        {
          "name": "stderr",
          "output_type": "stream",
          "text": [
            "100%|██████████| 33/33 [00:18<00:00,  1.80it/s, stage=train, epoch=37, loss=0.131, acc=0.0417, correct=2, sample_num=32]\n",
            "100%|██████████| 16/16 [00:04<00:00,  3.66it/s, stage=val, epoch=37, loss=0.136, acc=0.028, correct=1, sample_num=20]\n"
          ]
        },
        {
          "name": "stdout",
          "output_type": "stream",
          "text": [
            "=> [epoch 037] best val mae was improved from 16.353 to 16.250\n"
          ]
        },
        {
          "name": "stderr",
          "output_type": "stream",
          "text": [
            "100%|██████████| 33/33 [00:16<00:00,  2.05it/s, stage=train, epoch=38, loss=0.131, acc=0.0436, correct=2, sample_num=32]\n",
            "100%|██████████| 16/16 [00:03<00:00,  4.30it/s, stage=val, epoch=38, loss=0.136, acc=0.028, correct=1, sample_num=20]\n"
          ]
        },
        {
          "name": "stdout",
          "output_type": "stream",
          "text": [
            "=> [epoch 038] best val mae was improved from 16.250 to 16.148\n"
          ]
        },
        {
          "name": "stderr",
          "output_type": "stream",
          "text": [
            "100%|██████████| 33/33 [00:14<00:00,  2.27it/s, stage=train, epoch=39, loss=0.131, acc=0.0407, correct=1, sample_num=32]\n",
            "100%|██████████| 16/16 [00:03<00:00,  4.25it/s, stage=val, epoch=39, loss=0.136, acc=0.028, correct=1, sample_num=20]\n"
          ]
        },
        {
          "name": "stdout",
          "output_type": "stream",
          "text": [
            "=> [epoch 039] best val mae was improved from 16.148 to 16.050\n"
          ]
        },
        {
          "name": "stderr",
          "output_type": "stream",
          "text": [
            "100%|██████████| 33/33 [00:15<00:00,  2.06it/s, stage=train, epoch=40, loss=0.131, acc=0.0455, correct=4, sample_num=32]\n",
            "100%|██████████| 16/16 [00:03<00:00,  4.22it/s, stage=val, epoch=40, loss=0.136, acc=0.028, correct=1, sample_num=20]\n"
          ]
        },
        {
          "name": "stdout",
          "output_type": "stream",
          "text": [
            "=> [epoch 040] best val mae was improved from 16.050 to 15.954\n"
          ]
        },
        {
          "name": "stderr",
          "output_type": "stream",
          "text": [
            "100%|██████████| 33/33 [00:15<00:00,  2.15it/s, stage=train, epoch=41, loss=0.13, acc=0.0492, correct=1, sample_num=32]\n",
            "100%|██████████| 16/16 [00:03<00:00,  4.08it/s, stage=val, epoch=41, loss=0.136, acc=0.028, correct=1, sample_num=20]\n"
          ]
        },
        {
          "name": "stdout",
          "output_type": "stream",
          "text": [
            "=> [epoch 041] best val mae was improved from 15.954 to 15.859\n"
          ]
        },
        {
          "name": "stderr",
          "output_type": "stream",
          "text": [
            "100%|██████████| 33/33 [00:15<00:00,  2.19it/s, stage=train, epoch=42, loss=0.13, acc=0.0256, correct=0, sample_num=32]\n",
            "100%|██████████| 16/16 [00:04<00:00,  4.00it/s, stage=val, epoch=42, loss=0.136, acc=0.028, correct=1, sample_num=20]\n"
          ]
        },
        {
          "name": "stdout",
          "output_type": "stream",
          "text": [
            "=> [epoch 042] best val mae was improved from 15.859 to 15.769\n"
          ]
        },
        {
          "name": "stderr",
          "output_type": "stream",
          "text": [
            "100%|██████████| 33/33 [00:17<00:00,  1.86it/s, stage=train, epoch=43, loss=0.13, acc=0.0417, correct=1, sample_num=32]\n",
            "100%|██████████| 16/16 [00:04<00:00,  3.49it/s, stage=val, epoch=43, loss=0.135, acc=0.028, correct=1, sample_num=20]\n"
          ]
        },
        {
          "name": "stdout",
          "output_type": "stream",
          "text": [
            "=> [epoch 043] best val mae was improved from 15.769 to 15.680\n"
          ]
        },
        {
          "name": "stderr",
          "output_type": "stream",
          "text": [
            "100%|██████████| 33/33 [00:17<00:00,  1.84it/s, stage=train, epoch=44, loss=0.13, acc=0.0464, correct=0, sample_num=32]\n",
            "100%|██████████| 16/16 [00:04<00:00,  3.44it/s, stage=val, epoch=44, loss=0.135, acc=0.028, correct=1, sample_num=20]\n"
          ]
        },
        {
          "name": "stdout",
          "output_type": "stream",
          "text": [
            "=> [epoch 044] best val mae was improved from 15.680 to 15.591\n"
          ]
        },
        {
          "name": "stderr",
          "output_type": "stream",
          "text": [
            "100%|██████████| 33/33 [00:17<00:00,  1.84it/s, stage=train, epoch=45, loss=0.13, acc=0.0436, correct=4, sample_num=32]\n",
            "100%|██████████| 16/16 [00:04<00:00,  3.65it/s, stage=val, epoch=45, loss=0.135, acc=0.028, correct=1, sample_num=20]\n"
          ]
        },
        {
          "name": "stdout",
          "output_type": "stream",
          "text": [
            "=> [epoch 045] best val mae was improved from 15.591 to 15.511\n"
          ]
        },
        {
          "name": "stderr",
          "output_type": "stream",
          "text": [
            "100%|██████████| 33/33 [00:15<00:00,  2.12it/s, stage=train, epoch=46, loss=0.13, acc=0.0388, correct=2, sample_num=32]\n",
            "100%|██████████| 16/16 [00:03<00:00,  4.22it/s, stage=val, epoch=46, loss=0.135, acc=0.028, correct=1, sample_num=20]\n"
          ]
        },
        {
          "name": "stdout",
          "output_type": "stream",
          "text": [
            "=> [epoch 046] best val mae was improved from 15.511 to 15.432\n"
          ]
        },
        {
          "name": "stderr",
          "output_type": "stream",
          "text": [
            "100%|██████████| 33/33 [00:16<00:00,  1.96it/s, stage=train, epoch=47, loss=0.13, acc=0.0379, correct=1, sample_num=32]\n",
            "100%|██████████| 16/16 [00:03<00:00,  4.08it/s, stage=val, epoch=47, loss=0.135, acc=0.028, correct=1, sample_num=20]\n"
          ]
        },
        {
          "name": "stdout",
          "output_type": "stream",
          "text": [
            "=> [epoch 047] best val mae was improved from 15.432 to 15.360\n"
          ]
        },
        {
          "name": "stderr",
          "output_type": "stream",
          "text": [
            "100%|██████████| 33/33 [00:15<00:00,  2.18it/s, stage=train, epoch=48, loss=0.129, acc=0.0445, correct=1, sample_num=32]\n",
            "100%|██████████| 16/16 [00:03<00:00,  4.17it/s, stage=val, epoch=48, loss=0.135, acc=0.028, correct=1, sample_num=20]\n"
          ]
        },
        {
          "name": "stdout",
          "output_type": "stream",
          "text": [
            "=> [epoch 048] best val mae was improved from 15.360 to 15.283\n"
          ]
        },
        {
          "name": "stderr",
          "output_type": "stream",
          "text": [
            "100%|██████████| 33/33 [00:15<00:00,  2.14it/s, stage=train, epoch=49, loss=0.131, acc=0.035, correct=1, sample_num=32]\n",
            "100%|██████████| 16/16 [00:03<00:00,  4.02it/s, stage=val, epoch=49, loss=0.135, acc=0.028, correct=1, sample_num=20]\n"
          ]
        },
        {
          "name": "stdout",
          "output_type": "stream",
          "text": [
            "=> [epoch 049] best val mae was improved from 15.283 to 15.208\n"
          ]
        },
        {
          "name": "stderr",
          "output_type": "stream",
          "text": [
            "100%|██████████| 33/33 [00:14<00:00,  2.23it/s, stage=train, epoch=50, loss=0.129, acc=0.0436, correct=1, sample_num=32]\n",
            "100%|██████████| 16/16 [00:03<00:00,  4.23it/s, stage=val, epoch=50, loss=0.135, acc=0.028, correct=1, sample_num=20]\n"
          ]
        },
        {
          "name": "stdout",
          "output_type": "stream",
          "text": [
            "=> [epoch 050] best val mae was improved from 15.208 to 15.132\n"
          ]
        },
        {
          "name": "stderr",
          "output_type": "stream",
          "text": [
            "100%|██████████| 33/33 [00:17<00:00,  1.84it/s, stage=train, epoch=51, loss=0.129, acc=0.0473, correct=1, sample_num=32]\n",
            "100%|██████████| 16/16 [00:04<00:00,  3.53it/s, stage=val, epoch=51, loss=0.135, acc=0.028, correct=1, sample_num=20]\n"
          ]
        },
        {
          "name": "stdout",
          "output_type": "stream",
          "text": [
            "=> [epoch 051] best val mae was improved from 15.132 to 15.062\n"
          ]
        },
        {
          "name": "stderr",
          "output_type": "stream",
          "text": [
            "100%|██████████| 33/33 [00:18<00:00,  1.83it/s, stage=train, epoch=52, loss=0.129, acc=0.0407, correct=1, sample_num=32]\n",
            "100%|██████████| 16/16 [00:04<00:00,  3.52it/s, stage=val, epoch=52, loss=0.135, acc=0.028, correct=1, sample_num=20]\n"
          ]
        },
        {
          "name": "stdout",
          "output_type": "stream",
          "text": [
            "=> [epoch 052] best val mae was improved from 15.062 to 14.995\n"
          ]
        },
        {
          "name": "stderr",
          "output_type": "stream",
          "text": [
            "100%|██████████| 33/33 [00:17<00:00,  1.89it/s, stage=train, epoch=53, loss=0.129, acc=0.0322, correct=3, sample_num=32]\n",
            "100%|██████████| 16/16 [00:04<00:00,  3.97it/s, stage=val, epoch=53, loss=0.134, acc=0.028, correct=1, sample_num=20]\n"
          ]
        },
        {
          "name": "stdout",
          "output_type": "stream",
          "text": [
            "=> [epoch 053] best val mae was improved from 14.995 to 14.931\n"
          ]
        },
        {
          "name": "stderr",
          "output_type": "stream",
          "text": [
            "100%|██████████| 33/33 [00:15<00:00,  2.12it/s, stage=train, epoch=54, loss=0.128, acc=0.0275, correct=1, sample_num=32]\n",
            "100%|██████████| 16/16 [00:04<00:00,  3.46it/s, stage=val, epoch=54, loss=0.134, acc=0.028, correct=1, sample_num=20]\n"
          ]
        },
        {
          "name": "stdout",
          "output_type": "stream",
          "text": [
            "=> [epoch 054] best val mae was improved from 14.931 to 14.869\n"
          ]
        },
        {
          "name": "stderr",
          "output_type": "stream",
          "text": [
            "100%|██████████| 33/33 [00:16<00:00,  2.06it/s, stage=train, epoch=55, loss=0.128, acc=0.0388, correct=3, sample_num=32]\n",
            "100%|██████████| 16/16 [00:03<00:00,  4.15it/s, stage=val, epoch=55, loss=0.134, acc=0.028, correct=1, sample_num=20]\n"
          ]
        },
        {
          "name": "stdout",
          "output_type": "stream",
          "text": [
            "=> [epoch 055] best val mae was improved from 14.869 to 14.812\n"
          ]
        },
        {
          "name": "stderr",
          "output_type": "stream",
          "text": [
            "100%|██████████| 33/33 [00:15<00:00,  2.12it/s, stage=train, epoch=56, loss=0.128, acc=0.0398, correct=0, sample_num=32]\n",
            "100%|██████████| 16/16 [00:03<00:00,  4.25it/s, stage=val, epoch=56, loss=0.134, acc=0.028, correct=1, sample_num=20]\n"
          ]
        },
        {
          "name": "stdout",
          "output_type": "stream",
          "text": [
            "=> [epoch 056] best val mae was improved from 14.812 to 14.755\n"
          ]
        },
        {
          "name": "stderr",
          "output_type": "stream",
          "text": [
            "100%|██████████| 33/33 [00:15<00:00,  2.17it/s, stage=train, epoch=57, loss=0.128, acc=0.0369, correct=1, sample_num=32]\n",
            "100%|██████████| 16/16 [00:03<00:00,  4.28it/s, stage=val, epoch=57, loss=0.134, acc=0.028, correct=1, sample_num=20]\n"
          ]
        },
        {
          "name": "stdout",
          "output_type": "stream",
          "text": [
            "=> [epoch 057] best val mae was improved from 14.755 to 14.699\n"
          ]
        },
        {
          "name": "stderr",
          "output_type": "stream",
          "text": [
            "100%|██████████| 33/33 [00:15<00:00,  2.08it/s, stage=train, epoch=58, loss=0.128, acc=0.0331, correct=1, sample_num=32]\n",
            "100%|██████████| 16/16 [00:04<00:00,  3.71it/s, stage=val, epoch=58, loss=0.134, acc=0.028, correct=1, sample_num=20]\n"
          ]
        },
        {
          "name": "stdout",
          "output_type": "stream",
          "text": [
            "=> [epoch 058] best val mae was improved from 14.699 to 14.643\n"
          ]
        },
        {
          "name": "stderr",
          "output_type": "stream",
          "text": [
            "100%|██████████| 33/33 [00:17<00:00,  1.85it/s, stage=train, epoch=59, loss=0.128, acc=0.0436, correct=1, sample_num=32]\n",
            "100%|██████████| 16/16 [00:04<00:00,  3.55it/s, stage=val, epoch=59, loss=0.134, acc=0.028, correct=1, sample_num=20]\n"
          ]
        },
        {
          "name": "stdout",
          "output_type": "stream",
          "text": [
            "=> [epoch 059] best val mae was improved from 14.643 to 14.587\n",
            "=> loading checkpoint '/content/drive/MyDrive/EA-age/Project/train_models/slp_1000_base_epoch059_0.13397_14.5870.pth'\n",
            "=> loaded checkpoint '/content/drive/MyDrive/EA-age/Project/train_models/slp_1000_base_epoch059_0.13397_14.5870.pth' (epoch 60)\n"
          ]
        },
        {
          "name": "stderr",
          "output_type": "stream",
          "text": [
            "100%|██████████| 16/16 [00:05<00:00,  2.99it/s, stage=val, epoch=0, loss=0.134, acc=0.042, correct=0, sample_num=20]"
          ]
        },
        {
          "name": "stdout",
          "output_type": "stream",
          "text": [
            "0.13412488842010498 0.042 12.2422962563131\n"
          ]
        },
        {
          "name": "stderr",
          "output_type": "stream",
          "text": [
            "\n"
          ]
        }
      ],
      "source": [
        "input_size = 3 * 224 * 224  # Taille de vos images en entrée\n",
        "output_size = 101  # Nombre de classes en sortie\n",
        "model = SimpleClassifier(input_size, output_size)\n",
        "\n",
        "device = \"cuda\" if torch.cuda.is_available() else \"cpu\"\n",
        "model = model.to(device)\n",
        "optimizer = torch.optim.Adam(model.parameters())\n",
        "\n",
        "tr_loss, tr_acc, v_loss, v_acc, mae, test_metrics = training(model, optimizer, train_loader, val_loader, test_loader, 60, path + 'train_models/slp_1000_base_',path + 'values_training_1000slp.csv', device)\n",
        "test_loss, test_acc, test_mae = test_metrics[0], test_metrics[1], test_metrics[2]"
      ]
    }
  ],
  "metadata": {
    "accelerator": "GPU",
    "colab": {
      "collapsed_sections": [
        "8Gej5fz_1V4w",
        "RXCf4wiAzZ8s",
        "eFgSqkRhzZ8w",
        "PbpozjtrzZ8y",
        "GYkiWfKhWnOE"
      ],
      "gpuType": "V100",
      "machine_shape": "hm",
      "provenance": []
    },
    "kernelspec": {
      "display_name": "Python 3",
      "name": "python3"
    },
    "language_info": {
      "codemirror_mode": {
        "name": "ipython",
        "version": 3
      },
      "file_extension": ".py",
      "mimetype": "text/x-python",
      "name": "python",
      "nbconvert_exporter": "python",
      "pygments_lexer": "ipython3",
      "version": "3.11.7"
    }
  },
  "nbformat": 4,
  "nbformat_minor": 0
}
